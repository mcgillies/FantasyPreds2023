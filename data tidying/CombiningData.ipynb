{
 "cells": [
  {
   "cell_type": "code",
   "execution_count": 4,
   "id": "702ce196-0dd0-43e7-ae5d-86e2d145602b",
   "metadata": {},
   "outputs": [],
   "source": [
    "library(tidyverse)\n",
    "library(repr)\n",
    "library(digest)\n",
    "library(gridExtra)\n",
    "library(cowplot)\n",
    "library(dplyr)\n",
    "library(tidymodels)\n",
    "library(GGally)\n",
    "library(splines)"
   ]
  },
  {
   "cell_type": "code",
   "execution_count": 20,
   "id": "097d4fd4-9568-4052-adb1-c83d830ec592",
   "metadata": {},
   "outputs": [
    {
     "name": "stderr",
     "output_type": "stream",
     "text": [
      "\u001b[1m\u001b[22mNew names:\n",
      "\u001b[36m•\u001b[39m `` -> `...22`\n",
      "\u001b[1mRows: \u001b[22m\u001b[34m550\u001b[39m \u001b[1mColumns: \u001b[22m\u001b[34m22\u001b[39m\n",
      "\u001b[36m──\u001b[39m \u001b[1mColumn specification\u001b[22m \u001b[36m────────────────────────────────────────────────────────\u001b[39m\n",
      "\u001b[1mDelimiter:\u001b[22m \",\"\n",
      "\u001b[31mchr\u001b[39m  (2): last_name, first_name\n",
      "\u001b[32mdbl\u001b[39m (19): player_id, year, player_age, xslg, xwoba, xobp, exit_velocity_avg,...\n",
      "\u001b[33mlgl\u001b[39m  (1): ...22\n",
      "\n",
      "\u001b[36mℹ\u001b[39m Use `spec()` to retrieve the full column specification for this data.\n",
      "\u001b[36mℹ\u001b[39m Specify the column types or set `show_col_types = FALSE` to quiet this message.\n"
     ]
    },
    {
     "data": {
      "text/html": [
       "<table class=\"dataframe\">\n",
       "<caption>A tibble: 6 × 22</caption>\n",
       "<thead>\n",
       "\t<tr><th scope=col>last_name</th><th scope=col>first_name</th><th scope=col>player_id</th><th scope=col>year</th><th scope=col>player_age</th><th scope=col>xslg</th><th scope=col>xwoba</th><th scope=col>xobp</th><th scope=col>exit_velocity_avg</th><th scope=col>launch_angle_avg</th><th scope=col>⋯</th><th scope=col>solidcontact_percent</th><th scope=col>hard_hit_percent</th><th scope=col>z_swing_percent</th><th scope=col>oz_swing_percent</th><th scope=col>groundballs_percent</th><th scope=col>flyballs_percent</th><th scope=col>linedrives_percent</th><th scope=col>popups_percent</th><th scope=col>sprint_speed</th><th scope=col>...22</th></tr>\n",
       "\t<tr><th scope=col>&lt;chr&gt;</th><th scope=col>&lt;chr&gt;</th><th scope=col>&lt;dbl&gt;</th><th scope=col>&lt;dbl&gt;</th><th scope=col>&lt;dbl&gt;</th><th scope=col>&lt;dbl&gt;</th><th scope=col>&lt;dbl&gt;</th><th scope=col>&lt;dbl&gt;</th><th scope=col>&lt;dbl&gt;</th><th scope=col>&lt;dbl&gt;</th><th scope=col>⋯</th><th scope=col>&lt;dbl&gt;</th><th scope=col>&lt;dbl&gt;</th><th scope=col>&lt;dbl&gt;</th><th scope=col>&lt;dbl&gt;</th><th scope=col>&lt;dbl&gt;</th><th scope=col>&lt;dbl&gt;</th><th scope=col>&lt;dbl&gt;</th><th scope=col>&lt;dbl&gt;</th><th scope=col>&lt;dbl&gt;</th><th scope=col>&lt;lgl&gt;</th></tr>\n",
       "</thead>\n",
       "<tbody>\n",
       "\t<tr><td>Cabrera  </td><td>Miguel </td><td>408234</td><td>2021</td><td>38</td><td>0.420</td><td>0.315</td><td>0.301</td><td>91.4</td><td>10.0</td><td>⋯</td><td>8.5</td><td>49.0</td><td>69.1</td><td>30.2</td><td>49.0</td><td>25.9</td><td>21.5</td><td>3.6</td><td>23.9</td><td>NA</td></tr>\n",
       "\t<tr><td>Cruz Jr. </td><td>Nelson </td><td>443558</td><td>2021</td><td>40</td><td>0.512</td><td>0.363</td><td>0.341</td><td>92.9</td><td>11.8</td><td>⋯</td><td>8.1</td><td>52.5</td><td>73.8</td><td>31.0</td><td>43.4</td><td>25.5</td><td>22.0</td><td>9.1</td><td>26.0</td><td>NA</td></tr>\n",
       "\t<tr><td>Peralta  </td><td>David  </td><td>444482</td><td>2021</td><td>33</td><td>0.345</td><td>0.293</td><td>0.313</td><td>89.3</td><td> 5.3</td><td>⋯</td><td>4.5</td><td>41.8</td><td>66.3</td><td>27.4</td><td>54.9</td><td>15.6</td><td>23.2</td><td>6.3</td><td>27.6</td><td>NA</td></tr>\n",
       "\t<tr><td>Blackmon </td><td>Charlie</td><td>453568</td><td>2021</td><td>34</td><td>0.450</td><td>0.359</td><td>0.369</td><td>87.6</td><td>10.2</td><td>⋯</td><td>3.5</td><td>38.5</td><td>67.9</td><td>26.2</td><td>47.4</td><td>22.3</td><td>24.4</td><td>5.9</td><td>27.7</td><td>NA</td></tr>\n",
       "\t<tr><td>McCutchen</td><td>Andrew </td><td>457705</td><td>2021</td><td>34</td><td>0.431</td><td>0.344</td><td>0.352</td><td>88.8</td><td>14.6</td><td>⋯</td><td>8.4</td><td>39.5</td><td>63.7</td><td>19.1</td><td>40.9</td><td>30.5</td><td>21.6</td><td>7.0</td><td>28.7</td><td>NA</td></tr>\n",
       "\t<tr><td>Turner   </td><td>Justin </td><td>457759</td><td>2021</td><td>36</td><td>0.470</td><td>0.359</td><td>0.358</td><td>90.9</td><td>19.2</td><td>⋯</td><td>8.6</td><td>42.4</td><td>66.9</td><td>22.7</td><td>35.4</td><td>33.1</td><td>24.5</td><td>7.0</td><td>25.5</td><td>NA</td></tr>\n",
       "</tbody>\n",
       "</table>\n"
      ],
      "text/latex": [
       "A tibble: 6 × 22\n",
       "\\begin{tabular}{lllllllllllllllllllll}\n",
       " last\\_name & first\\_name & player\\_id & year & player\\_age & xslg & xwoba & xobp & exit\\_velocity\\_avg & launch\\_angle\\_avg & ⋯ & solidcontact\\_percent & hard\\_hit\\_percent & z\\_swing\\_percent & oz\\_swing\\_percent & groundballs\\_percent & flyballs\\_percent & linedrives\\_percent & popups\\_percent & sprint\\_speed & ...22\\\\\n",
       " <chr> & <chr> & <dbl> & <dbl> & <dbl> & <dbl> & <dbl> & <dbl> & <dbl> & <dbl> & ⋯ & <dbl> & <dbl> & <dbl> & <dbl> & <dbl> & <dbl> & <dbl> & <dbl> & <dbl> & <lgl>\\\\\n",
       "\\hline\n",
       "\t Cabrera   & Miguel  & 408234 & 2021 & 38 & 0.420 & 0.315 & 0.301 & 91.4 & 10.0 & ⋯ & 8.5 & 49.0 & 69.1 & 30.2 & 49.0 & 25.9 & 21.5 & 3.6 & 23.9 & NA\\\\\n",
       "\t Cruz Jr.  & Nelson  & 443558 & 2021 & 40 & 0.512 & 0.363 & 0.341 & 92.9 & 11.8 & ⋯ & 8.1 & 52.5 & 73.8 & 31.0 & 43.4 & 25.5 & 22.0 & 9.1 & 26.0 & NA\\\\\n",
       "\t Peralta   & David   & 444482 & 2021 & 33 & 0.345 & 0.293 & 0.313 & 89.3 &  5.3 & ⋯ & 4.5 & 41.8 & 66.3 & 27.4 & 54.9 & 15.6 & 23.2 & 6.3 & 27.6 & NA\\\\\n",
       "\t Blackmon  & Charlie & 453568 & 2021 & 34 & 0.450 & 0.359 & 0.369 & 87.6 & 10.2 & ⋯ & 3.5 & 38.5 & 67.9 & 26.2 & 47.4 & 22.3 & 24.4 & 5.9 & 27.7 & NA\\\\\n",
       "\t McCutchen & Andrew  & 457705 & 2021 & 34 & 0.431 & 0.344 & 0.352 & 88.8 & 14.6 & ⋯ & 8.4 & 39.5 & 63.7 & 19.1 & 40.9 & 30.5 & 21.6 & 7.0 & 28.7 & NA\\\\\n",
       "\t Turner    & Justin  & 457759 & 2021 & 36 & 0.470 & 0.359 & 0.358 & 90.9 & 19.2 & ⋯ & 8.6 & 42.4 & 66.9 & 22.7 & 35.4 & 33.1 & 24.5 & 7.0 & 25.5 & NA\\\\\n",
       "\\end{tabular}\n"
      ],
      "text/markdown": [
       "\n",
       "A tibble: 6 × 22\n",
       "\n",
       "| last_name &lt;chr&gt; | first_name &lt;chr&gt; | player_id &lt;dbl&gt; | year &lt;dbl&gt; | player_age &lt;dbl&gt; | xslg &lt;dbl&gt; | xwoba &lt;dbl&gt; | xobp &lt;dbl&gt; | exit_velocity_avg &lt;dbl&gt; | launch_angle_avg &lt;dbl&gt; | ⋯ ⋯ | solidcontact_percent &lt;dbl&gt; | hard_hit_percent &lt;dbl&gt; | z_swing_percent &lt;dbl&gt; | oz_swing_percent &lt;dbl&gt; | groundballs_percent &lt;dbl&gt; | flyballs_percent &lt;dbl&gt; | linedrives_percent &lt;dbl&gt; | popups_percent &lt;dbl&gt; | sprint_speed &lt;dbl&gt; | ...22 &lt;lgl&gt; |\n",
       "|---|---|---|---|---|---|---|---|---|---|---|---|---|---|---|---|---|---|---|---|---|\n",
       "| Cabrera   | Miguel  | 408234 | 2021 | 38 | 0.420 | 0.315 | 0.301 | 91.4 | 10.0 | ⋯ | 8.5 | 49.0 | 69.1 | 30.2 | 49.0 | 25.9 | 21.5 | 3.6 | 23.9 | NA |\n",
       "| Cruz Jr.  | Nelson  | 443558 | 2021 | 40 | 0.512 | 0.363 | 0.341 | 92.9 | 11.8 | ⋯ | 8.1 | 52.5 | 73.8 | 31.0 | 43.4 | 25.5 | 22.0 | 9.1 | 26.0 | NA |\n",
       "| Peralta   | David   | 444482 | 2021 | 33 | 0.345 | 0.293 | 0.313 | 89.3 |  5.3 | ⋯ | 4.5 | 41.8 | 66.3 | 27.4 | 54.9 | 15.6 | 23.2 | 6.3 | 27.6 | NA |\n",
       "| Blackmon  | Charlie | 453568 | 2021 | 34 | 0.450 | 0.359 | 0.369 | 87.6 | 10.2 | ⋯ | 3.5 | 38.5 | 67.9 | 26.2 | 47.4 | 22.3 | 24.4 | 5.9 | 27.7 | NA |\n",
       "| McCutchen | Andrew  | 457705 | 2021 | 34 | 0.431 | 0.344 | 0.352 | 88.8 | 14.6 | ⋯ | 8.4 | 39.5 | 63.7 | 19.1 | 40.9 | 30.5 | 21.6 | 7.0 | 28.7 | NA |\n",
       "| Turner    | Justin  | 457759 | 2021 | 36 | 0.470 | 0.359 | 0.358 | 90.9 | 19.2 | ⋯ | 8.6 | 42.4 | 66.9 | 22.7 | 35.4 | 33.1 | 24.5 | 7.0 | 25.5 | NA |\n",
       "\n"
      ],
      "text/plain": [
       "  last_name first_name player_id year player_age xslg  xwoba xobp \n",
       "1 Cabrera   Miguel     408234    2021 38         0.420 0.315 0.301\n",
       "2 Cruz Jr.  Nelson     443558    2021 40         0.512 0.363 0.341\n",
       "3 Peralta   David      444482    2021 33         0.345 0.293 0.313\n",
       "4 Blackmon  Charlie    453568    2021 34         0.450 0.359 0.369\n",
       "5 McCutchen Andrew     457705    2021 34         0.431 0.344 0.352\n",
       "6 Turner    Justin     457759    2021 36         0.470 0.359 0.358\n",
       "  exit_velocity_avg launch_angle_avg ⋯ solidcontact_percent hard_hit_percent\n",
       "1 91.4              10.0             ⋯ 8.5                  49.0            \n",
       "2 92.9              11.8             ⋯ 8.1                  52.5            \n",
       "3 89.3               5.3             ⋯ 4.5                  41.8            \n",
       "4 87.6              10.2             ⋯ 3.5                  38.5            \n",
       "5 88.8              14.6             ⋯ 8.4                  39.5            \n",
       "6 90.9              19.2             ⋯ 8.6                  42.4            \n",
       "  z_swing_percent oz_swing_percent groundballs_percent flyballs_percent\n",
       "1 69.1            30.2             49.0                25.9            \n",
       "2 73.8            31.0             43.4                25.5            \n",
       "3 66.3            27.4             54.9                15.6            \n",
       "4 67.9            26.2             47.4                22.3            \n",
       "5 63.7            19.1             40.9                30.5            \n",
       "6 66.9            22.7             35.4                33.1            \n",
       "  linedrives_percent popups_percent sprint_speed ...22\n",
       "1 21.5               3.6            23.9         NA   \n",
       "2 22.0               9.1            26.0         NA   \n",
       "3 23.2               6.3            27.6         NA   \n",
       "4 24.4               5.9            27.7         NA   \n",
       "5 21.6               7.0            28.7         NA   \n",
       "6 24.5               7.0            25.5         NA   "
      ]
     },
     "metadata": {},
     "output_type": "display_data"
    },
    {
     "data": {
      "text/html": [
       "<style>\n",
       ".list-inline {list-style: none; margin:0; padding: 0}\n",
       ".list-inline>li {display: inline-block}\n",
       ".list-inline>li:not(:last-child)::after {content: \"\\00b7\"; padding: 0 .5ex}\n",
       "</style>\n",
       "<ol class=list-inline><li>'last_name'</li><li>'first_name'</li><li>'player_id'</li><li>'year'</li><li>'player_age'</li><li>'xslg'</li><li>'xwoba'</li><li>'xobp'</li><li>'exit_velocity_avg'</li><li>'launch_angle_avg'</li><li>'sweet_spot_percent'</li><li>'barrel_batted_rate'</li><li>'solidcontact_percent'</li><li>'hard_hit_percent'</li><li>'z_swing_percent'</li><li>'oz_swing_percent'</li><li>'groundballs_percent'</li><li>'flyballs_percent'</li><li>'linedrives_percent'</li><li>'popups_percent'</li><li>'sprint_speed'</li><li>'...22'</li></ol>\n"
      ],
      "text/latex": [
       "\\begin{enumerate*}\n",
       "\\item 'last\\_name'\n",
       "\\item 'first\\_name'\n",
       "\\item 'player\\_id'\n",
       "\\item 'year'\n",
       "\\item 'player\\_age'\n",
       "\\item 'xslg'\n",
       "\\item 'xwoba'\n",
       "\\item 'xobp'\n",
       "\\item 'exit\\_velocity\\_avg'\n",
       "\\item 'launch\\_angle\\_avg'\n",
       "\\item 'sweet\\_spot\\_percent'\n",
       "\\item 'barrel\\_batted\\_rate'\n",
       "\\item 'solidcontact\\_percent'\n",
       "\\item 'hard\\_hit\\_percent'\n",
       "\\item 'z\\_swing\\_percent'\n",
       "\\item 'oz\\_swing\\_percent'\n",
       "\\item 'groundballs\\_percent'\n",
       "\\item 'flyballs\\_percent'\n",
       "\\item 'linedrives\\_percent'\n",
       "\\item 'popups\\_percent'\n",
       "\\item 'sprint\\_speed'\n",
       "\\item '...22'\n",
       "\\end{enumerate*}\n"
      ],
      "text/markdown": [
       "1. 'last_name'\n",
       "2. 'first_name'\n",
       "3. 'player_id'\n",
       "4. 'year'\n",
       "5. 'player_age'\n",
       "6. 'xslg'\n",
       "7. 'xwoba'\n",
       "8. 'xobp'\n",
       "9. 'exit_velocity_avg'\n",
       "10. 'launch_angle_avg'\n",
       "11. 'sweet_spot_percent'\n",
       "12. 'barrel_batted_rate'\n",
       "13. 'solidcontact_percent'\n",
       "14. 'hard_hit_percent'\n",
       "15. 'z_swing_percent'\n",
       "16. 'oz_swing_percent'\n",
       "17. 'groundballs_percent'\n",
       "18. 'flyballs_percent'\n",
       "19. 'linedrives_percent'\n",
       "20. 'popups_percent'\n",
       "21. 'sprint_speed'\n",
       "22. '...22'\n",
       "\n",
       "\n"
      ],
      "text/plain": [
       " [1] \"last_name\"            \"first_name\"           \"player_id\"           \n",
       " [4] \"year\"                 \"player_age\"           \"xslg\"                \n",
       " [7] \"xwoba\"                \"xobp\"                 \"exit_velocity_avg\"   \n",
       "[10] \"launch_angle_avg\"     \"sweet_spot_percent\"   \"barrel_batted_rate\"  \n",
       "[13] \"solidcontact_percent\" \"hard_hit_percent\"     \"z_swing_percent\"     \n",
       "[16] \"oz_swing_percent\"     \"groundballs_percent\"  \"flyballs_percent\"    \n",
       "[19] \"linedrives_percent\"   \"popups_percent\"       \"sprint_speed\"        \n",
       "[22] \"...22\"               "
      ]
     },
     "metadata": {},
     "output_type": "display_data"
    }
   ],
   "source": [
    "setwd(\"/Users/matthewgillies/FantasyPreds2023\")\n",
    "metrics <- read_csv(\"data/RawMetrics.csv\")\n",
    "head(metrics)\n",
    "colnames(metrics)"
   ]
  },
  {
   "cell_type": "code",
   "execution_count": 28,
   "id": "b8b89556-2e97-4851-b356-031ba52f0a21",
   "metadata": {},
   "outputs": [
    {
     "data": {
      "text/html": [
       "<table class=\"dataframe\">\n",
       "<caption>A tibble: 6 × 20</caption>\n",
       "<thead>\n",
       "\t<tr><th scope=col>last_name</th><th scope=col>first_name</th><th scope=col>year</th><th scope=col>player_age</th><th scope=col>xslg</th><th scope=col>xwoba</th><th scope=col>xobp</th><th scope=col>exit_velocity_avg</th><th scope=col>launch_angle_avg</th><th scope=col>sweet_spot_percent</th><th scope=col>barrel_batted_rate</th><th scope=col>solidcontact_percent</th><th scope=col>hard_hit_percent</th><th scope=col>z_swing_percent</th><th scope=col>oz_swing_percent</th><th scope=col>groundballs_percent</th><th scope=col>flyballs_percent</th><th scope=col>linedrives_percent</th><th scope=col>popups_percent</th><th scope=col>sprint_speed</th></tr>\n",
       "\t<tr><th scope=col>&lt;chr&gt;</th><th scope=col>&lt;chr&gt;</th><th scope=col>&lt;dbl&gt;</th><th scope=col>&lt;dbl&gt;</th><th scope=col>&lt;dbl&gt;</th><th scope=col>&lt;dbl&gt;</th><th scope=col>&lt;dbl&gt;</th><th scope=col>&lt;dbl&gt;</th><th scope=col>&lt;dbl&gt;</th><th scope=col>&lt;dbl&gt;</th><th scope=col>&lt;dbl&gt;</th><th scope=col>&lt;dbl&gt;</th><th scope=col>&lt;dbl&gt;</th><th scope=col>&lt;dbl&gt;</th><th scope=col>&lt;dbl&gt;</th><th scope=col>&lt;dbl&gt;</th><th scope=col>&lt;dbl&gt;</th><th scope=col>&lt;dbl&gt;</th><th scope=col>&lt;dbl&gt;</th><th scope=col>&lt;dbl&gt;</th></tr>\n",
       "</thead>\n",
       "<tbody>\n",
       "\t<tr><td>Cabrera  </td><td>Miguel </td><td>2021</td><td>38</td><td>0.420</td><td>0.315</td><td>0.301</td><td>91.4</td><td>10.0</td><td>32.8</td><td> 8.3</td><td>8.5</td><td>49.0</td><td>69.1</td><td>30.2</td><td>49.0</td><td>25.9</td><td>21.5</td><td>3.6</td><td>23.9</td></tr>\n",
       "\t<tr><td>Cruz Jr. </td><td>Nelson </td><td>2021</td><td>40</td><td>0.512</td><td>0.363</td><td>0.341</td><td>92.9</td><td>11.8</td><td>31.8</td><td>13.6</td><td>8.1</td><td>52.5</td><td>73.8</td><td>31.0</td><td>43.4</td><td>25.5</td><td>22.0</td><td>9.1</td><td>26.0</td></tr>\n",
       "\t<tr><td>Peralta  </td><td>David  </td><td>2021</td><td>33</td><td>0.345</td><td>0.293</td><td>0.313</td><td>89.3</td><td> 5.3</td><td>27.2</td><td> 5.0</td><td>4.5</td><td>41.8</td><td>66.3</td><td>27.4</td><td>54.9</td><td>15.6</td><td>23.2</td><td>6.3</td><td>27.6</td></tr>\n",
       "\t<tr><td>Blackmon </td><td>Charlie</td><td>2021</td><td>34</td><td>0.450</td><td>0.359</td><td>0.369</td><td>87.6</td><td>10.2</td><td>32.6</td><td> 7.0</td><td>3.5</td><td>38.5</td><td>67.9</td><td>26.2</td><td>47.4</td><td>22.3</td><td>24.4</td><td>5.9</td><td>27.7</td></tr>\n",
       "\t<tr><td>McCutchen</td><td>Andrew </td><td>2021</td><td>34</td><td>0.431</td><td>0.344</td><td>0.352</td><td>88.8</td><td>14.6</td><td>33.6</td><td> 9.0</td><td>8.4</td><td>39.5</td><td>63.7</td><td>19.1</td><td>40.9</td><td>30.5</td><td>21.6</td><td>7.0</td><td>28.7</td></tr>\n",
       "\t<tr><td>Turner   </td><td>Justin </td><td>2021</td><td>36</td><td>0.470</td><td>0.359</td><td>0.358</td><td>90.9</td><td>19.2</td><td>36.5</td><td> 7.9</td><td>8.6</td><td>42.4</td><td>66.9</td><td>22.7</td><td>35.4</td><td>33.1</td><td>24.5</td><td>7.0</td><td>25.5</td></tr>\n",
       "</tbody>\n",
       "</table>\n"
      ],
      "text/latex": [
       "A tibble: 6 × 20\n",
       "\\begin{tabular}{llllllllllllllllllll}\n",
       " last\\_name & first\\_name & year & player\\_age & xslg & xwoba & xobp & exit\\_velocity\\_avg & launch\\_angle\\_avg & sweet\\_spot\\_percent & barrel\\_batted\\_rate & solidcontact\\_percent & hard\\_hit\\_percent & z\\_swing\\_percent & oz\\_swing\\_percent & groundballs\\_percent & flyballs\\_percent & linedrives\\_percent & popups\\_percent & sprint\\_speed\\\\\n",
       " <chr> & <chr> & <dbl> & <dbl> & <dbl> & <dbl> & <dbl> & <dbl> & <dbl> & <dbl> & <dbl> & <dbl> & <dbl> & <dbl> & <dbl> & <dbl> & <dbl> & <dbl> & <dbl> & <dbl>\\\\\n",
       "\\hline\n",
       "\t Cabrera   & Miguel  & 2021 & 38 & 0.420 & 0.315 & 0.301 & 91.4 & 10.0 & 32.8 &  8.3 & 8.5 & 49.0 & 69.1 & 30.2 & 49.0 & 25.9 & 21.5 & 3.6 & 23.9\\\\\n",
       "\t Cruz Jr.  & Nelson  & 2021 & 40 & 0.512 & 0.363 & 0.341 & 92.9 & 11.8 & 31.8 & 13.6 & 8.1 & 52.5 & 73.8 & 31.0 & 43.4 & 25.5 & 22.0 & 9.1 & 26.0\\\\\n",
       "\t Peralta   & David   & 2021 & 33 & 0.345 & 0.293 & 0.313 & 89.3 &  5.3 & 27.2 &  5.0 & 4.5 & 41.8 & 66.3 & 27.4 & 54.9 & 15.6 & 23.2 & 6.3 & 27.6\\\\\n",
       "\t Blackmon  & Charlie & 2021 & 34 & 0.450 & 0.359 & 0.369 & 87.6 & 10.2 & 32.6 &  7.0 & 3.5 & 38.5 & 67.9 & 26.2 & 47.4 & 22.3 & 24.4 & 5.9 & 27.7\\\\\n",
       "\t McCutchen & Andrew  & 2021 & 34 & 0.431 & 0.344 & 0.352 & 88.8 & 14.6 & 33.6 &  9.0 & 8.4 & 39.5 & 63.7 & 19.1 & 40.9 & 30.5 & 21.6 & 7.0 & 28.7\\\\\n",
       "\t Turner    & Justin  & 2021 & 36 & 0.470 & 0.359 & 0.358 & 90.9 & 19.2 & 36.5 &  7.9 & 8.6 & 42.4 & 66.9 & 22.7 & 35.4 & 33.1 & 24.5 & 7.0 & 25.5\\\\\n",
       "\\end{tabular}\n"
      ],
      "text/markdown": [
       "\n",
       "A tibble: 6 × 20\n",
       "\n",
       "| last_name &lt;chr&gt; | first_name &lt;chr&gt; | year &lt;dbl&gt; | player_age &lt;dbl&gt; | xslg &lt;dbl&gt; | xwoba &lt;dbl&gt; | xobp &lt;dbl&gt; | exit_velocity_avg &lt;dbl&gt; | launch_angle_avg &lt;dbl&gt; | sweet_spot_percent &lt;dbl&gt; | barrel_batted_rate &lt;dbl&gt; | solidcontact_percent &lt;dbl&gt; | hard_hit_percent &lt;dbl&gt; | z_swing_percent &lt;dbl&gt; | oz_swing_percent &lt;dbl&gt; | groundballs_percent &lt;dbl&gt; | flyballs_percent &lt;dbl&gt; | linedrives_percent &lt;dbl&gt; | popups_percent &lt;dbl&gt; | sprint_speed &lt;dbl&gt; |\n",
       "|---|---|---|---|---|---|---|---|---|---|---|---|---|---|---|---|---|---|---|---|\n",
       "| Cabrera   | Miguel  | 2021 | 38 | 0.420 | 0.315 | 0.301 | 91.4 | 10.0 | 32.8 |  8.3 | 8.5 | 49.0 | 69.1 | 30.2 | 49.0 | 25.9 | 21.5 | 3.6 | 23.9 |\n",
       "| Cruz Jr.  | Nelson  | 2021 | 40 | 0.512 | 0.363 | 0.341 | 92.9 | 11.8 | 31.8 | 13.6 | 8.1 | 52.5 | 73.8 | 31.0 | 43.4 | 25.5 | 22.0 | 9.1 | 26.0 |\n",
       "| Peralta   | David   | 2021 | 33 | 0.345 | 0.293 | 0.313 | 89.3 |  5.3 | 27.2 |  5.0 | 4.5 | 41.8 | 66.3 | 27.4 | 54.9 | 15.6 | 23.2 | 6.3 | 27.6 |\n",
       "| Blackmon  | Charlie | 2021 | 34 | 0.450 | 0.359 | 0.369 | 87.6 | 10.2 | 32.6 |  7.0 | 3.5 | 38.5 | 67.9 | 26.2 | 47.4 | 22.3 | 24.4 | 5.9 | 27.7 |\n",
       "| McCutchen | Andrew  | 2021 | 34 | 0.431 | 0.344 | 0.352 | 88.8 | 14.6 | 33.6 |  9.0 | 8.4 | 39.5 | 63.7 | 19.1 | 40.9 | 30.5 | 21.6 | 7.0 | 28.7 |\n",
       "| Turner    | Justin  | 2021 | 36 | 0.470 | 0.359 | 0.358 | 90.9 | 19.2 | 36.5 |  7.9 | 8.6 | 42.4 | 66.9 | 22.7 | 35.4 | 33.1 | 24.5 | 7.0 | 25.5 |\n",
       "\n"
      ],
      "text/plain": [
       "  last_name first_name year player_age xslg  xwoba xobp  exit_velocity_avg\n",
       "1 Cabrera   Miguel     2021 38         0.420 0.315 0.301 91.4             \n",
       "2 Cruz Jr.  Nelson     2021 40         0.512 0.363 0.341 92.9             \n",
       "3 Peralta   David      2021 33         0.345 0.293 0.313 89.3             \n",
       "4 Blackmon  Charlie    2021 34         0.450 0.359 0.369 87.6             \n",
       "5 McCutchen Andrew     2021 34         0.431 0.344 0.352 88.8             \n",
       "6 Turner    Justin     2021 36         0.470 0.359 0.358 90.9             \n",
       "  launch_angle_avg sweet_spot_percent barrel_batted_rate solidcontact_percent\n",
       "1 10.0             32.8                8.3               8.5                 \n",
       "2 11.8             31.8               13.6               8.1                 \n",
       "3  5.3             27.2                5.0               4.5                 \n",
       "4 10.2             32.6                7.0               3.5                 \n",
       "5 14.6             33.6                9.0               8.4                 \n",
       "6 19.2             36.5                7.9               8.6                 \n",
       "  hard_hit_percent z_swing_percent oz_swing_percent groundballs_percent\n",
       "1 49.0             69.1            30.2             49.0               \n",
       "2 52.5             73.8            31.0             43.4               \n",
       "3 41.8             66.3            27.4             54.9               \n",
       "4 38.5             67.9            26.2             47.4               \n",
       "5 39.5             63.7            19.1             40.9               \n",
       "6 42.4             66.9            22.7             35.4               \n",
       "  flyballs_percent linedrives_percent popups_percent sprint_speed\n",
       "1 25.9             21.5               3.6            23.9        \n",
       "2 25.5             22.0               9.1            26.0        \n",
       "3 15.6             23.2               6.3            27.6        \n",
       "4 22.3             24.4               5.9            27.7        \n",
       "5 30.5             21.6               7.0            28.7        \n",
       "6 33.1             24.5               7.0            25.5        "
      ]
     },
     "metadata": {},
     "output_type": "display_data"
    }
   ],
   "source": [
    "selected <- metrics %>% select(-\"player_id\", -\"...22\")\n",
    "head(selected)"
   ]
  },
  {
   "cell_type": "code",
   "execution_count": 29,
   "id": "634a5b25-d403-4175-a59a-194b8c8246ee",
   "metadata": {},
   "outputs": [
    {
     "data": {
      "text/html": [
       "<table class=\"dataframe\">\n",
       "<caption>A tibble: 6 × 19</caption>\n",
       "<thead>\n",
       "\t<tr><th scope=col>player</th><th scope=col>year</th><th scope=col>player_age</th><th scope=col>xslg</th><th scope=col>xwoba</th><th scope=col>xobp</th><th scope=col>exit_velocity_avg</th><th scope=col>launch_angle_avg</th><th scope=col>sweet_spot_percent</th><th scope=col>barrel_batted_rate</th><th scope=col>solidcontact_percent</th><th scope=col>hard_hit_percent</th><th scope=col>z_swing_percent</th><th scope=col>oz_swing_percent</th><th scope=col>groundballs_percent</th><th scope=col>flyballs_percent</th><th scope=col>linedrives_percent</th><th scope=col>popups_percent</th><th scope=col>sprint_speed</th></tr>\n",
       "\t<tr><th scope=col>&lt;chr&gt;</th><th scope=col>&lt;dbl&gt;</th><th scope=col>&lt;dbl&gt;</th><th scope=col>&lt;dbl&gt;</th><th scope=col>&lt;dbl&gt;</th><th scope=col>&lt;dbl&gt;</th><th scope=col>&lt;dbl&gt;</th><th scope=col>&lt;dbl&gt;</th><th scope=col>&lt;dbl&gt;</th><th scope=col>&lt;dbl&gt;</th><th scope=col>&lt;dbl&gt;</th><th scope=col>&lt;dbl&gt;</th><th scope=col>&lt;dbl&gt;</th><th scope=col>&lt;dbl&gt;</th><th scope=col>&lt;dbl&gt;</th><th scope=col>&lt;dbl&gt;</th><th scope=col>&lt;dbl&gt;</th><th scope=col>&lt;dbl&gt;</th><th scope=col>&lt;dbl&gt;</th></tr>\n",
       "</thead>\n",
       "<tbody>\n",
       "\t<tr><td>Cabrera, Miguel  </td><td>2022</td><td>38</td><td>0.420</td><td>0.315</td><td>0.301</td><td>91.4</td><td>10.0</td><td>32.8</td><td> 8.3</td><td>8.5</td><td>49.0</td><td>69.1</td><td>30.2</td><td>49.0</td><td>25.9</td><td>21.5</td><td>3.6</td><td>23.9</td></tr>\n",
       "\t<tr><td>Cruz Jr., Nelson </td><td>2022</td><td>40</td><td>0.512</td><td>0.363</td><td>0.341</td><td>92.9</td><td>11.8</td><td>31.8</td><td>13.6</td><td>8.1</td><td>52.5</td><td>73.8</td><td>31.0</td><td>43.4</td><td>25.5</td><td>22.0</td><td>9.1</td><td>26.0</td></tr>\n",
       "\t<tr><td>Peralta, David   </td><td>2022</td><td>33</td><td>0.345</td><td>0.293</td><td>0.313</td><td>89.3</td><td> 5.3</td><td>27.2</td><td> 5.0</td><td>4.5</td><td>41.8</td><td>66.3</td><td>27.4</td><td>54.9</td><td>15.6</td><td>23.2</td><td>6.3</td><td>27.6</td></tr>\n",
       "\t<tr><td>Blackmon, Charlie</td><td>2022</td><td>34</td><td>0.450</td><td>0.359</td><td>0.369</td><td>87.6</td><td>10.2</td><td>32.6</td><td> 7.0</td><td>3.5</td><td>38.5</td><td>67.9</td><td>26.2</td><td>47.4</td><td>22.3</td><td>24.4</td><td>5.9</td><td>27.7</td></tr>\n",
       "\t<tr><td>McCutchen, Andrew</td><td>2022</td><td>34</td><td>0.431</td><td>0.344</td><td>0.352</td><td>88.8</td><td>14.6</td><td>33.6</td><td> 9.0</td><td>8.4</td><td>39.5</td><td>63.7</td><td>19.1</td><td>40.9</td><td>30.5</td><td>21.6</td><td>7.0</td><td>28.7</td></tr>\n",
       "\t<tr><td>Turner, Justin   </td><td>2022</td><td>36</td><td>0.470</td><td>0.359</td><td>0.358</td><td>90.9</td><td>19.2</td><td>36.5</td><td> 7.9</td><td>8.6</td><td>42.4</td><td>66.9</td><td>22.7</td><td>35.4</td><td>33.1</td><td>24.5</td><td>7.0</td><td>25.5</td></tr>\n",
       "</tbody>\n",
       "</table>\n"
      ],
      "text/latex": [
       "A tibble: 6 × 19\n",
       "\\begin{tabular}{lllllllllllllllllll}\n",
       " player & year & player\\_age & xslg & xwoba & xobp & exit\\_velocity\\_avg & launch\\_angle\\_avg & sweet\\_spot\\_percent & barrel\\_batted\\_rate & solidcontact\\_percent & hard\\_hit\\_percent & z\\_swing\\_percent & oz\\_swing\\_percent & groundballs\\_percent & flyballs\\_percent & linedrives\\_percent & popups\\_percent & sprint\\_speed\\\\\n",
       " <chr> & <dbl> & <dbl> & <dbl> & <dbl> & <dbl> & <dbl> & <dbl> & <dbl> & <dbl> & <dbl> & <dbl> & <dbl> & <dbl> & <dbl> & <dbl> & <dbl> & <dbl> & <dbl>\\\\\n",
       "\\hline\n",
       "\t Cabrera, Miguel   & 2022 & 38 & 0.420 & 0.315 & 0.301 & 91.4 & 10.0 & 32.8 &  8.3 & 8.5 & 49.0 & 69.1 & 30.2 & 49.0 & 25.9 & 21.5 & 3.6 & 23.9\\\\\n",
       "\t Cruz Jr., Nelson  & 2022 & 40 & 0.512 & 0.363 & 0.341 & 92.9 & 11.8 & 31.8 & 13.6 & 8.1 & 52.5 & 73.8 & 31.0 & 43.4 & 25.5 & 22.0 & 9.1 & 26.0\\\\\n",
       "\t Peralta, David    & 2022 & 33 & 0.345 & 0.293 & 0.313 & 89.3 &  5.3 & 27.2 &  5.0 & 4.5 & 41.8 & 66.3 & 27.4 & 54.9 & 15.6 & 23.2 & 6.3 & 27.6\\\\\n",
       "\t Blackmon, Charlie & 2022 & 34 & 0.450 & 0.359 & 0.369 & 87.6 & 10.2 & 32.6 &  7.0 & 3.5 & 38.5 & 67.9 & 26.2 & 47.4 & 22.3 & 24.4 & 5.9 & 27.7\\\\\n",
       "\t McCutchen, Andrew & 2022 & 34 & 0.431 & 0.344 & 0.352 & 88.8 & 14.6 & 33.6 &  9.0 & 8.4 & 39.5 & 63.7 & 19.1 & 40.9 & 30.5 & 21.6 & 7.0 & 28.7\\\\\n",
       "\t Turner, Justin    & 2022 & 36 & 0.470 & 0.359 & 0.358 & 90.9 & 19.2 & 36.5 &  7.9 & 8.6 & 42.4 & 66.9 & 22.7 & 35.4 & 33.1 & 24.5 & 7.0 & 25.5\\\\\n",
       "\\end{tabular}\n"
      ],
      "text/markdown": [
       "\n",
       "A tibble: 6 × 19\n",
       "\n",
       "| player &lt;chr&gt; | year &lt;dbl&gt; | player_age &lt;dbl&gt; | xslg &lt;dbl&gt; | xwoba &lt;dbl&gt; | xobp &lt;dbl&gt; | exit_velocity_avg &lt;dbl&gt; | launch_angle_avg &lt;dbl&gt; | sweet_spot_percent &lt;dbl&gt; | barrel_batted_rate &lt;dbl&gt; | solidcontact_percent &lt;dbl&gt; | hard_hit_percent &lt;dbl&gt; | z_swing_percent &lt;dbl&gt; | oz_swing_percent &lt;dbl&gt; | groundballs_percent &lt;dbl&gt; | flyballs_percent &lt;dbl&gt; | linedrives_percent &lt;dbl&gt; | popups_percent &lt;dbl&gt; | sprint_speed &lt;dbl&gt; |\n",
       "|---|---|---|---|---|---|---|---|---|---|---|---|---|---|---|---|---|---|---|\n",
       "| Cabrera, Miguel   | 2022 | 38 | 0.420 | 0.315 | 0.301 | 91.4 | 10.0 | 32.8 |  8.3 | 8.5 | 49.0 | 69.1 | 30.2 | 49.0 | 25.9 | 21.5 | 3.6 | 23.9 |\n",
       "| Cruz Jr., Nelson  | 2022 | 40 | 0.512 | 0.363 | 0.341 | 92.9 | 11.8 | 31.8 | 13.6 | 8.1 | 52.5 | 73.8 | 31.0 | 43.4 | 25.5 | 22.0 | 9.1 | 26.0 |\n",
       "| Peralta, David    | 2022 | 33 | 0.345 | 0.293 | 0.313 | 89.3 |  5.3 | 27.2 |  5.0 | 4.5 | 41.8 | 66.3 | 27.4 | 54.9 | 15.6 | 23.2 | 6.3 | 27.6 |\n",
       "| Blackmon, Charlie | 2022 | 34 | 0.450 | 0.359 | 0.369 | 87.6 | 10.2 | 32.6 |  7.0 | 3.5 | 38.5 | 67.9 | 26.2 | 47.4 | 22.3 | 24.4 | 5.9 | 27.7 |\n",
       "| McCutchen, Andrew | 2022 | 34 | 0.431 | 0.344 | 0.352 | 88.8 | 14.6 | 33.6 |  9.0 | 8.4 | 39.5 | 63.7 | 19.1 | 40.9 | 30.5 | 21.6 | 7.0 | 28.7 |\n",
       "| Turner, Justin    | 2022 | 36 | 0.470 | 0.359 | 0.358 | 90.9 | 19.2 | 36.5 |  7.9 | 8.6 | 42.4 | 66.9 | 22.7 | 35.4 | 33.1 | 24.5 | 7.0 | 25.5 |\n",
       "\n"
      ],
      "text/plain": [
       "  player            year player_age xslg  xwoba xobp  exit_velocity_avg\n",
       "1 Cabrera, Miguel   2022 38         0.420 0.315 0.301 91.4             \n",
       "2 Cruz Jr., Nelson  2022 40         0.512 0.363 0.341 92.9             \n",
       "3 Peralta, David    2022 33         0.345 0.293 0.313 89.3             \n",
       "4 Blackmon, Charlie 2022 34         0.450 0.359 0.369 87.6             \n",
       "5 McCutchen, Andrew 2022 34         0.431 0.344 0.352 88.8             \n",
       "6 Turner, Justin    2022 36         0.470 0.359 0.358 90.9             \n",
       "  launch_angle_avg sweet_spot_percent barrel_batted_rate solidcontact_percent\n",
       "1 10.0             32.8                8.3               8.5                 \n",
       "2 11.8             31.8               13.6               8.1                 \n",
       "3  5.3             27.2                5.0               4.5                 \n",
       "4 10.2             32.6                7.0               3.5                 \n",
       "5 14.6             33.6                9.0               8.4                 \n",
       "6 19.2             36.5                7.9               8.6                 \n",
       "  hard_hit_percent z_swing_percent oz_swing_percent groundballs_percent\n",
       "1 49.0             69.1            30.2             49.0               \n",
       "2 52.5             73.8            31.0             43.4               \n",
       "3 41.8             66.3            27.4             54.9               \n",
       "4 38.5             67.9            26.2             47.4               \n",
       "5 39.5             63.7            19.1             40.9               \n",
       "6 42.4             66.9            22.7             35.4               \n",
       "  flyballs_percent linedrives_percent popups_percent sprint_speed\n",
       "1 25.9             21.5               3.6            23.9        \n",
       "2 25.5             22.0               9.1            26.0        \n",
       "3 15.6             23.2               6.3            27.6        \n",
       "4 22.3             24.4               5.9            27.7        \n",
       "5 30.5             21.6               7.0            28.7        \n",
       "6 33.1             24.5               7.0            25.5        "
      ]
     },
     "metadata": {},
     "output_type": "display_data"
    }
   ],
   "source": [
    "names <- selected %>% unite(\"player\", last_name:first_name, sep = \", \", remove = T) %>% mutate(year = year + 1)\n",
    "head(names)"
   ]
  },
  {
   "cell_type": "code",
   "execution_count": 30,
   "id": "f4253069-7832-47e8-a329-761ae1a4a1a3",
   "metadata": {},
   "outputs": [
    {
     "name": "stderr",
     "output_type": "stream",
     "text": [
      "\u001b[1mRows: \u001b[22m\u001b[34m539\u001b[39m \u001b[1mColumns: \u001b[22m\u001b[34m11\u001b[39m\n",
      "\u001b[36m──\u001b[39m \u001b[1mColumn specification\u001b[22m \u001b[36m────────────────────────────────────────────────────────\u001b[39m\n",
      "\u001b[1mDelimiter:\u001b[22m \",\"\n",
      "\u001b[31mchr\u001b[39m  (1): player\n",
      "\u001b[32mdbl\u001b[39m (10): year, K, BB, RBI, TB, SB, G, R, Fpoints, fpoints_g\n",
      "\n",
      "\u001b[36mℹ\u001b[39m Use `spec()` to retrieve the full column specification for this data.\n",
      "\u001b[36mℹ\u001b[39m Specify the column types or set `show_col_types = FALSE` to quiet this message.\n"
     ]
    },
    {
     "data": {
      "text/html": [
       "<table class=\"dataframe\">\n",
       "<caption>A tibble: 6 × 11</caption>\n",
       "<thead>\n",
       "\t<tr><th scope=col>player</th><th scope=col>year</th><th scope=col>K</th><th scope=col>BB</th><th scope=col>RBI</th><th scope=col>TB</th><th scope=col>SB</th><th scope=col>G</th><th scope=col>R</th><th scope=col>Fpoints</th><th scope=col>fpoints_g</th></tr>\n",
       "\t<tr><th scope=col>&lt;chr&gt;</th><th scope=col>&lt;dbl&gt;</th><th scope=col>&lt;dbl&gt;</th><th scope=col>&lt;dbl&gt;</th><th scope=col>&lt;dbl&gt;</th><th scope=col>&lt;dbl&gt;</th><th scope=col>&lt;dbl&gt;</th><th scope=col>&lt;dbl&gt;</th><th scope=col>&lt;dbl&gt;</th><th scope=col>&lt;dbl&gt;</th><th scope=col>&lt;dbl&gt;</th></tr>\n",
       "</thead>\n",
       "<tbody>\n",
       "\t<tr><td>Soto, Juan       </td><td>2020</td><td> 28</td><td> 41</td><td> 37</td><td>107</td><td> 5</td><td> 47</td><td> 39</td><td>201</td><td>4.276596</td></tr>\n",
       "\t<tr><td>Freeman, Freddie </td><td>2020</td><td> 37</td><td> 45</td><td> 53</td><td>137</td><td> 2</td><td> 60</td><td> 51</td><td>251</td><td>4.183333</td></tr>\n",
       "\t<tr><td>Yelich, Christian</td><td>2019</td><td>118</td><td> 80</td><td> 97</td><td>328</td><td>30</td><td>130</td><td>100</td><td>517</td><td>3.976923</td></tr>\n",
       "\t<tr><td>Rendon, Anthony  </td><td>2019</td><td> 86</td><td> 80</td><td>126</td><td>326</td><td> 5</td><td>146</td><td>117</td><td>568</td><td>3.890411</td></tr>\n",
       "\t<tr><td>Judge, Aaron     </td><td>2022</td><td>175</td><td>111</td><td>131</td><td>391</td><td>16</td><td>157</td><td>133</td><td>607</td><td>3.866242</td></tr>\n",
       "\t<tr><td>Trout, Mike      </td><td>2019</td><td>120</td><td>110</td><td>104</td><td>303</td><td>11</td><td>134</td><td>110</td><td>518</td><td>3.865672</td></tr>\n",
       "</tbody>\n",
       "</table>\n"
      ],
      "text/latex": [
       "A tibble: 6 × 11\n",
       "\\begin{tabular}{lllllllllll}\n",
       " player & year & K & BB & RBI & TB & SB & G & R & Fpoints & fpoints\\_g\\\\\n",
       " <chr> & <dbl> & <dbl> & <dbl> & <dbl> & <dbl> & <dbl> & <dbl> & <dbl> & <dbl> & <dbl>\\\\\n",
       "\\hline\n",
       "\t Soto, Juan        & 2020 &  28 &  41 &  37 & 107 &  5 &  47 &  39 & 201 & 4.276596\\\\\n",
       "\t Freeman, Freddie  & 2020 &  37 &  45 &  53 & 137 &  2 &  60 &  51 & 251 & 4.183333\\\\\n",
       "\t Yelich, Christian & 2019 & 118 &  80 &  97 & 328 & 30 & 130 & 100 & 517 & 3.976923\\\\\n",
       "\t Rendon, Anthony   & 2019 &  86 &  80 & 126 & 326 &  5 & 146 & 117 & 568 & 3.890411\\\\\n",
       "\t Judge, Aaron      & 2022 & 175 & 111 & 131 & 391 & 16 & 157 & 133 & 607 & 3.866242\\\\\n",
       "\t Trout, Mike       & 2019 & 120 & 110 & 104 & 303 & 11 & 134 & 110 & 518 & 3.865672\\\\\n",
       "\\end{tabular}\n"
      ],
      "text/markdown": [
       "\n",
       "A tibble: 6 × 11\n",
       "\n",
       "| player &lt;chr&gt; | year &lt;dbl&gt; | K &lt;dbl&gt; | BB &lt;dbl&gt; | RBI &lt;dbl&gt; | TB &lt;dbl&gt; | SB &lt;dbl&gt; | G &lt;dbl&gt; | R &lt;dbl&gt; | Fpoints &lt;dbl&gt; | fpoints_g &lt;dbl&gt; |\n",
       "|---|---|---|---|---|---|---|---|---|---|---|\n",
       "| Soto, Juan        | 2020 |  28 |  41 |  37 | 107 |  5 |  47 |  39 | 201 | 4.276596 |\n",
       "| Freeman, Freddie  | 2020 |  37 |  45 |  53 | 137 |  2 |  60 |  51 | 251 | 4.183333 |\n",
       "| Yelich, Christian | 2019 | 118 |  80 |  97 | 328 | 30 | 130 | 100 | 517 | 3.976923 |\n",
       "| Rendon, Anthony   | 2019 |  86 |  80 | 126 | 326 |  5 | 146 | 117 | 568 | 3.890411 |\n",
       "| Judge, Aaron      | 2022 | 175 | 111 | 131 | 391 | 16 | 157 | 133 | 607 | 3.866242 |\n",
       "| Trout, Mike       | 2019 | 120 | 110 | 104 | 303 | 11 | 134 | 110 | 518 | 3.865672 |\n",
       "\n"
      ],
      "text/plain": [
       "  player            year K   BB  RBI TB  SB G   R   Fpoints fpoints_g\n",
       "1 Soto, Juan        2020  28  41  37 107  5  47  39 201     4.276596 \n",
       "2 Freeman, Freddie  2020  37  45  53 137  2  60  51 251     4.183333 \n",
       "3 Yelich, Christian 2019 118  80  97 328 30 130 100 517     3.976923 \n",
       "4 Rendon, Anthony   2019  86  80 126 326  5 146 117 568     3.890411 \n",
       "5 Judge, Aaron      2022 175 111 131 391 16 157 133 607     3.866242 \n",
       "6 Trout, Mike       2019 120 110 104 303 11 134 110 518     3.865672 "
      ]
     },
     "metadata": {},
     "output_type": "display_data"
    }
   ],
   "source": [
    "fpoints <- read_csv(\"data/fpoints_data.csv\")\n",
    "head(fpoints)"
   ]
  },
  {
   "cell_type": "code",
   "execution_count": 31,
   "id": "95542b4e-cde9-4ac5-899a-790e8696cd2c",
   "metadata": {},
   "outputs": [
    {
     "data": {
      "text/html": [
       "<table class=\"dataframe\">\n",
       "<caption>A tibble: 6 × 3</caption>\n",
       "<thead>\n",
       "\t<tr><th scope=col>player</th><th scope=col>year</th><th scope=col>fpoints_g</th></tr>\n",
       "\t<tr><th scope=col>&lt;chr&gt;</th><th scope=col>&lt;dbl&gt;</th><th scope=col>&lt;dbl&gt;</th></tr>\n",
       "</thead>\n",
       "<tbody>\n",
       "\t<tr><td>Soto, Juan       </td><td>2020</td><td>4.276596</td></tr>\n",
       "\t<tr><td>Freeman, Freddie </td><td>2020</td><td>4.183333</td></tr>\n",
       "\t<tr><td>Yelich, Christian</td><td>2019</td><td>3.976923</td></tr>\n",
       "\t<tr><td>Rendon, Anthony  </td><td>2019</td><td>3.890411</td></tr>\n",
       "\t<tr><td>Judge, Aaron     </td><td>2022</td><td>3.866242</td></tr>\n",
       "\t<tr><td>Trout, Mike      </td><td>2019</td><td>3.865672</td></tr>\n",
       "</tbody>\n",
       "</table>\n"
      ],
      "text/latex": [
       "A tibble: 6 × 3\n",
       "\\begin{tabular}{lll}\n",
       " player & year & fpoints\\_g\\\\\n",
       " <chr> & <dbl> & <dbl>\\\\\n",
       "\\hline\n",
       "\t Soto, Juan        & 2020 & 4.276596\\\\\n",
       "\t Freeman, Freddie  & 2020 & 4.183333\\\\\n",
       "\t Yelich, Christian & 2019 & 3.976923\\\\\n",
       "\t Rendon, Anthony   & 2019 & 3.890411\\\\\n",
       "\t Judge, Aaron      & 2022 & 3.866242\\\\\n",
       "\t Trout, Mike       & 2019 & 3.865672\\\\\n",
       "\\end{tabular}\n"
      ],
      "text/markdown": [
       "\n",
       "A tibble: 6 × 3\n",
       "\n",
       "| player &lt;chr&gt; | year &lt;dbl&gt; | fpoints_g &lt;dbl&gt; |\n",
       "|---|---|---|\n",
       "| Soto, Juan        | 2020 | 4.276596 |\n",
       "| Freeman, Freddie  | 2020 | 4.183333 |\n",
       "| Yelich, Christian | 2019 | 3.976923 |\n",
       "| Rendon, Anthony   | 2019 | 3.890411 |\n",
       "| Judge, Aaron      | 2022 | 3.866242 |\n",
       "| Trout, Mike       | 2019 | 3.865672 |\n",
       "\n"
      ],
      "text/plain": [
       "  player            year fpoints_g\n",
       "1 Soto, Juan        2020 4.276596 \n",
       "2 Freeman, Freddie  2020 4.183333 \n",
       "3 Yelich, Christian 2019 3.976923 \n",
       "4 Rendon, Anthony   2019 3.890411 \n",
       "5 Judge, Aaron      2022 3.866242 \n",
       "6 Trout, Mike       2019 3.865672 "
      ]
     },
     "metadata": {},
     "output_type": "display_data"
    }
   ],
   "source": [
    "fpoints_main <- fpoints %>% select(\"player\", \"year\", \"fpoints_g\")\n",
    "head(fpoints_main)"
   ]
  },
  {
   "cell_type": "code",
   "execution_count": 32,
   "id": "5fd2acbb-83e2-4a09-9b3b-7f65e4119c84",
   "metadata": {},
   "outputs": [
    {
     "data": {
      "text/html": [
       "<style>\n",
       ".list-inline {list-style: none; margin:0; padding: 0}\n",
       ".list-inline>li {display: inline-block}\n",
       ".list-inline>li:not(:last-child)::after {content: \"\\00b7\"; padding: 0 .5ex}\n",
       "</style>\n",
       "<ol class=list-inline><li>'player'</li><li>'year'</li><li>'player_age'</li><li>'xslg'</li><li>'xwoba'</li><li>'xobp'</li><li>'exit_velocity_avg'</li><li>'launch_angle_avg'</li><li>'sweet_spot_percent'</li><li>'barrel_batted_rate'</li><li>'solidcontact_percent'</li><li>'hard_hit_percent'</li><li>'z_swing_percent'</li><li>'oz_swing_percent'</li><li>'groundballs_percent'</li><li>'flyballs_percent'</li><li>'linedrives_percent'</li><li>'popups_percent'</li><li>'sprint_speed'</li></ol>\n"
      ],
      "text/latex": [
       "\\begin{enumerate*}\n",
       "\\item 'player'\n",
       "\\item 'year'\n",
       "\\item 'player\\_age'\n",
       "\\item 'xslg'\n",
       "\\item 'xwoba'\n",
       "\\item 'xobp'\n",
       "\\item 'exit\\_velocity\\_avg'\n",
       "\\item 'launch\\_angle\\_avg'\n",
       "\\item 'sweet\\_spot\\_percent'\n",
       "\\item 'barrel\\_batted\\_rate'\n",
       "\\item 'solidcontact\\_percent'\n",
       "\\item 'hard\\_hit\\_percent'\n",
       "\\item 'z\\_swing\\_percent'\n",
       "\\item 'oz\\_swing\\_percent'\n",
       "\\item 'groundballs\\_percent'\n",
       "\\item 'flyballs\\_percent'\n",
       "\\item 'linedrives\\_percent'\n",
       "\\item 'popups\\_percent'\n",
       "\\item 'sprint\\_speed'\n",
       "\\end{enumerate*}\n"
      ],
      "text/markdown": [
       "1. 'player'\n",
       "2. 'year'\n",
       "3. 'player_age'\n",
       "4. 'xslg'\n",
       "5. 'xwoba'\n",
       "6. 'xobp'\n",
       "7. 'exit_velocity_avg'\n",
       "8. 'launch_angle_avg'\n",
       "9. 'sweet_spot_percent'\n",
       "10. 'barrel_batted_rate'\n",
       "11. 'solidcontact_percent'\n",
       "12. 'hard_hit_percent'\n",
       "13. 'z_swing_percent'\n",
       "14. 'oz_swing_percent'\n",
       "15. 'groundballs_percent'\n",
       "16. 'flyballs_percent'\n",
       "17. 'linedrives_percent'\n",
       "18. 'popups_percent'\n",
       "19. 'sprint_speed'\n",
       "\n",
       "\n"
      ],
      "text/plain": [
       " [1] \"player\"               \"year\"                 \"player_age\"          \n",
       " [4] \"xslg\"                 \"xwoba\"                \"xobp\"                \n",
       " [7] \"exit_velocity_avg\"    \"launch_angle_avg\"     \"sweet_spot_percent\"  \n",
       "[10] \"barrel_batted_rate\"   \"solidcontact_percent\" \"hard_hit_percent\"    \n",
       "[13] \"z_swing_percent\"      \"oz_swing_percent\"     \"groundballs_percent\" \n",
       "[16] \"flyballs_percent\"     \"linedrives_percent\"   \"popups_percent\"      \n",
       "[19] \"sprint_speed\"        "
      ]
     },
     "metadata": {},
     "output_type": "display_data"
    }
   ],
   "source": [
    "colnames(names)"
   ]
  },
  {
   "cell_type": "code",
   "execution_count": 33,
   "id": "3078b6b6-3ff9-484c-8aff-2c1c3cd5b39a",
   "metadata": {},
   "outputs": [
    {
     "data": {
      "text/html": [
       "<table class=\"dataframe\">\n",
       "<caption>A tibble: 6 × 20</caption>\n",
       "<thead>\n",
       "\t<tr><th scope=col>player</th><th scope=col>year</th><th scope=col>player_age</th><th scope=col>xslg</th><th scope=col>xwoba</th><th scope=col>xobp</th><th scope=col>exit_velocity_avg</th><th scope=col>launch_angle_avg</th><th scope=col>sweet_spot_percent</th><th scope=col>barrel_batted_rate</th><th scope=col>solidcontact_percent</th><th scope=col>hard_hit_percent</th><th scope=col>z_swing_percent</th><th scope=col>oz_swing_percent</th><th scope=col>groundballs_percent</th><th scope=col>flyballs_percent</th><th scope=col>linedrives_percent</th><th scope=col>popups_percent</th><th scope=col>sprint_speed</th><th scope=col>fpoints_g</th></tr>\n",
       "\t<tr><th scope=col>&lt;chr&gt;</th><th scope=col>&lt;dbl&gt;</th><th scope=col>&lt;dbl&gt;</th><th scope=col>&lt;dbl&gt;</th><th scope=col>&lt;dbl&gt;</th><th scope=col>&lt;dbl&gt;</th><th scope=col>&lt;dbl&gt;</th><th scope=col>&lt;dbl&gt;</th><th scope=col>&lt;dbl&gt;</th><th scope=col>&lt;dbl&gt;</th><th scope=col>&lt;dbl&gt;</th><th scope=col>&lt;dbl&gt;</th><th scope=col>&lt;dbl&gt;</th><th scope=col>&lt;dbl&gt;</th><th scope=col>&lt;dbl&gt;</th><th scope=col>&lt;dbl&gt;</th><th scope=col>&lt;dbl&gt;</th><th scope=col>&lt;dbl&gt;</th><th scope=col>&lt;dbl&gt;</th><th scope=col>&lt;dbl&gt;</th></tr>\n",
       "</thead>\n",
       "<tbody>\n",
       "\t<tr><td>Cruz Jr., Nelson </td><td>2022</td><td>40</td><td>0.512</td><td>0.363</td><td>0.341</td><td>92.9</td><td>11.8</td><td>31.8</td><td>13.6</td><td>8.1</td><td>52.5</td><td>73.8</td><td>31.0</td><td>43.4</td><td>25.5</td><td>22.0</td><td>9.1</td><td>26.0</td><td>1.604839</td></tr>\n",
       "\t<tr><td>Blackmon, Charlie</td><td>2022</td><td>34</td><td>0.450</td><td>0.359</td><td>0.369</td><td>87.6</td><td>10.2</td><td>32.6</td><td> 7.0</td><td>3.5</td><td>38.5</td><td>67.9</td><td>26.2</td><td>47.4</td><td>22.3</td><td>24.4</td><td>5.9</td><td>27.7</td><td>2.125926</td></tr>\n",
       "\t<tr><td>McCutchen, Andrew</td><td>2022</td><td>34</td><td>0.431</td><td>0.344</td><td>0.352</td><td>88.8</td><td>14.6</td><td>33.6</td><td> 9.0</td><td>8.4</td><td>39.5</td><td>63.7</td><td>19.1</td><td>40.9</td><td>30.5</td><td>21.6</td><td>7.0</td><td>28.7</td><td>2.044776</td></tr>\n",
       "\t<tr><td>Turner, Justin   </td><td>2022</td><td>36</td><td>0.470</td><td>0.359</td><td>0.358</td><td>90.9</td><td>19.2</td><td>36.5</td><td> 7.9</td><td>8.6</td><td>42.4</td><td>66.9</td><td>22.7</td><td>35.4</td><td>33.1</td><td>24.5</td><td>7.0</td><td>25.5</td><td>2.429688</td></tr>\n",
       "\t<tr><td>Andrus, Elvis    </td><td>2022</td><td>32</td><td>0.375</td><td>0.308</td><td>0.324</td><td>87.8</td><td> 8.1</td><td>34.0</td><td> 2.1</td><td>5.9</td><td>34.8</td><td>65.9</td><td>31.9</td><td>47.0</td><td>17.5</td><td>28.4</td><td>7.1</td><td>26.7</td><td>2.046980</td></tr>\n",
       "\t<tr><td>Santana, Carlos  </td><td>2022</td><td>35</td><td>0.421</td><td>0.335</td><td>0.345</td><td>89.9</td><td>12.9</td><td>28.0</td><td> 6.8</td><td>7.1</td><td>41.9</td><td>66.9</td><td>22.6</td><td>45.3</td><td>26.5</td><td>19.2</td><td>8.8</td><td>24.9</td><td>1.961832</td></tr>\n",
       "</tbody>\n",
       "</table>\n"
      ],
      "text/latex": [
       "A tibble: 6 × 20\n",
       "\\begin{tabular}{llllllllllllllllllll}\n",
       " player & year & player\\_age & xslg & xwoba & xobp & exit\\_velocity\\_avg & launch\\_angle\\_avg & sweet\\_spot\\_percent & barrel\\_batted\\_rate & solidcontact\\_percent & hard\\_hit\\_percent & z\\_swing\\_percent & oz\\_swing\\_percent & groundballs\\_percent & flyballs\\_percent & linedrives\\_percent & popups\\_percent & sprint\\_speed & fpoints\\_g\\\\\n",
       " <chr> & <dbl> & <dbl> & <dbl> & <dbl> & <dbl> & <dbl> & <dbl> & <dbl> & <dbl> & <dbl> & <dbl> & <dbl> & <dbl> & <dbl> & <dbl> & <dbl> & <dbl> & <dbl> & <dbl>\\\\\n",
       "\\hline\n",
       "\t Cruz Jr., Nelson  & 2022 & 40 & 0.512 & 0.363 & 0.341 & 92.9 & 11.8 & 31.8 & 13.6 & 8.1 & 52.5 & 73.8 & 31.0 & 43.4 & 25.5 & 22.0 & 9.1 & 26.0 & 1.604839\\\\\n",
       "\t Blackmon, Charlie & 2022 & 34 & 0.450 & 0.359 & 0.369 & 87.6 & 10.2 & 32.6 &  7.0 & 3.5 & 38.5 & 67.9 & 26.2 & 47.4 & 22.3 & 24.4 & 5.9 & 27.7 & 2.125926\\\\\n",
       "\t McCutchen, Andrew & 2022 & 34 & 0.431 & 0.344 & 0.352 & 88.8 & 14.6 & 33.6 &  9.0 & 8.4 & 39.5 & 63.7 & 19.1 & 40.9 & 30.5 & 21.6 & 7.0 & 28.7 & 2.044776\\\\\n",
       "\t Turner, Justin    & 2022 & 36 & 0.470 & 0.359 & 0.358 & 90.9 & 19.2 & 36.5 &  7.9 & 8.6 & 42.4 & 66.9 & 22.7 & 35.4 & 33.1 & 24.5 & 7.0 & 25.5 & 2.429688\\\\\n",
       "\t Andrus, Elvis     & 2022 & 32 & 0.375 & 0.308 & 0.324 & 87.8 &  8.1 & 34.0 &  2.1 & 5.9 & 34.8 & 65.9 & 31.9 & 47.0 & 17.5 & 28.4 & 7.1 & 26.7 & 2.046980\\\\\n",
       "\t Santana, Carlos   & 2022 & 35 & 0.421 & 0.335 & 0.345 & 89.9 & 12.9 & 28.0 &  6.8 & 7.1 & 41.9 & 66.9 & 22.6 & 45.3 & 26.5 & 19.2 & 8.8 & 24.9 & 1.961832\\\\\n",
       "\\end{tabular}\n"
      ],
      "text/markdown": [
       "\n",
       "A tibble: 6 × 20\n",
       "\n",
       "| player &lt;chr&gt; | year &lt;dbl&gt; | player_age &lt;dbl&gt; | xslg &lt;dbl&gt; | xwoba &lt;dbl&gt; | xobp &lt;dbl&gt; | exit_velocity_avg &lt;dbl&gt; | launch_angle_avg &lt;dbl&gt; | sweet_spot_percent &lt;dbl&gt; | barrel_batted_rate &lt;dbl&gt; | solidcontact_percent &lt;dbl&gt; | hard_hit_percent &lt;dbl&gt; | z_swing_percent &lt;dbl&gt; | oz_swing_percent &lt;dbl&gt; | groundballs_percent &lt;dbl&gt; | flyballs_percent &lt;dbl&gt; | linedrives_percent &lt;dbl&gt; | popups_percent &lt;dbl&gt; | sprint_speed &lt;dbl&gt; | fpoints_g &lt;dbl&gt; |\n",
       "|---|---|---|---|---|---|---|---|---|---|---|---|---|---|---|---|---|---|---|---|\n",
       "| Cruz Jr., Nelson  | 2022 | 40 | 0.512 | 0.363 | 0.341 | 92.9 | 11.8 | 31.8 | 13.6 | 8.1 | 52.5 | 73.8 | 31.0 | 43.4 | 25.5 | 22.0 | 9.1 | 26.0 | 1.604839 |\n",
       "| Blackmon, Charlie | 2022 | 34 | 0.450 | 0.359 | 0.369 | 87.6 | 10.2 | 32.6 |  7.0 | 3.5 | 38.5 | 67.9 | 26.2 | 47.4 | 22.3 | 24.4 | 5.9 | 27.7 | 2.125926 |\n",
       "| McCutchen, Andrew | 2022 | 34 | 0.431 | 0.344 | 0.352 | 88.8 | 14.6 | 33.6 |  9.0 | 8.4 | 39.5 | 63.7 | 19.1 | 40.9 | 30.5 | 21.6 | 7.0 | 28.7 | 2.044776 |\n",
       "| Turner, Justin    | 2022 | 36 | 0.470 | 0.359 | 0.358 | 90.9 | 19.2 | 36.5 |  7.9 | 8.6 | 42.4 | 66.9 | 22.7 | 35.4 | 33.1 | 24.5 | 7.0 | 25.5 | 2.429688 |\n",
       "| Andrus, Elvis     | 2022 | 32 | 0.375 | 0.308 | 0.324 | 87.8 |  8.1 | 34.0 |  2.1 | 5.9 | 34.8 | 65.9 | 31.9 | 47.0 | 17.5 | 28.4 | 7.1 | 26.7 | 2.046980 |\n",
       "| Santana, Carlos   | 2022 | 35 | 0.421 | 0.335 | 0.345 | 89.9 | 12.9 | 28.0 |  6.8 | 7.1 | 41.9 | 66.9 | 22.6 | 45.3 | 26.5 | 19.2 | 8.8 | 24.9 | 1.961832 |\n",
       "\n"
      ],
      "text/plain": [
       "  player            year player_age xslg  xwoba xobp  exit_velocity_avg\n",
       "1 Cruz Jr., Nelson  2022 40         0.512 0.363 0.341 92.9             \n",
       "2 Blackmon, Charlie 2022 34         0.450 0.359 0.369 87.6             \n",
       "3 McCutchen, Andrew 2022 34         0.431 0.344 0.352 88.8             \n",
       "4 Turner, Justin    2022 36         0.470 0.359 0.358 90.9             \n",
       "5 Andrus, Elvis     2022 32         0.375 0.308 0.324 87.8             \n",
       "6 Santana, Carlos   2022 35         0.421 0.335 0.345 89.9             \n",
       "  launch_angle_avg sweet_spot_percent barrel_batted_rate solidcontact_percent\n",
       "1 11.8             31.8               13.6               8.1                 \n",
       "2 10.2             32.6                7.0               3.5                 \n",
       "3 14.6             33.6                9.0               8.4                 \n",
       "4 19.2             36.5                7.9               8.6                 \n",
       "5  8.1             34.0                2.1               5.9                 \n",
       "6 12.9             28.0                6.8               7.1                 \n",
       "  hard_hit_percent z_swing_percent oz_swing_percent groundballs_percent\n",
       "1 52.5             73.8            31.0             43.4               \n",
       "2 38.5             67.9            26.2             47.4               \n",
       "3 39.5             63.7            19.1             40.9               \n",
       "4 42.4             66.9            22.7             35.4               \n",
       "5 34.8             65.9            31.9             47.0               \n",
       "6 41.9             66.9            22.6             45.3               \n",
       "  flyballs_percent linedrives_percent popups_percent sprint_speed fpoints_g\n",
       "1 25.5             22.0               9.1            26.0         1.604839 \n",
       "2 22.3             24.4               5.9            27.7         2.125926 \n",
       "3 30.5             21.6               7.0            28.7         2.044776 \n",
       "4 33.1             24.5               7.0            25.5         2.429688 \n",
       "5 17.5             28.4               7.1            26.7         2.046980 \n",
       "6 26.5             19.2               8.8            24.9         1.961832 "
      ]
     },
     "metadata": {},
     "output_type": "display_data"
    }
   ],
   "source": [
    "full_data <- right_join(names, fpoints_main, by = c(\"player\", \"year\"))\n",
    "head(full_data)"
   ]
  },
  {
   "cell_type": "code",
   "execution_count": 34,
   "id": "e1e518b1-8d19-4537-9c10-75bc585d5504",
   "metadata": {},
   "outputs": [],
   "source": [
    "write_csv(full_data, \"data/full_data.csv\")"
   ]
  },
  {
   "cell_type": "code",
   "execution_count": null,
   "id": "20b92a6e-90bb-44b7-9ad5-669cd4748788",
   "metadata": {},
   "outputs": [],
   "source": []
  },
  {
   "cell_type": "code",
   "execution_count": null,
   "id": "1103f6ad-84ff-46f5-8731-8ba16c225a0e",
   "metadata": {},
   "outputs": [],
   "source": []
  }
 ],
 "metadata": {
  "kernelspec": {
   "display_name": "R",
   "language": "R",
   "name": "ir"
  },
  "language_info": {
   "codemirror_mode": "r",
   "file_extension": ".r",
   "mimetype": "text/x-r-source",
   "name": "R",
   "pygments_lexer": "r",
   "version": "4.1.1"
  }
 },
 "nbformat": 4,
 "nbformat_minor": 5
}
