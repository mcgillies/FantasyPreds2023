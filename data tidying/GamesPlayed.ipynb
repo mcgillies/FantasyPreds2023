{
 "cells": [
  {
   "cell_type": "code",
   "execution_count": 1,
   "id": "cf709a60-df9c-4929-b2ff-7d8052d0fd24",
   "metadata": {},
   "outputs": [
    {
     "name": "stderr",
     "output_type": "stream",
     "text": [
      "Warning message:\n",
      "“package ‘tidyverse’ was built under R version 4.1.2”\n",
      "── \u001b[1mAttaching packages\u001b[22m ─────────────────────────────────────── tidyverse 1.3.2 ──\n",
      "\u001b[32m✔\u001b[39m \u001b[34mggplot2\u001b[39m 3.4.0      \u001b[32m✔\u001b[39m \u001b[34mpurrr  \u001b[39m 0.3.4 \n",
      "\u001b[32m✔\u001b[39m \u001b[34mtibble \u001b[39m 3.1.8      \u001b[32m✔\u001b[39m \u001b[34mdplyr  \u001b[39m 1.0.10\n",
      "\u001b[32m✔\u001b[39m \u001b[34mtidyr  \u001b[39m 1.2.0      \u001b[32m✔\u001b[39m \u001b[34mstringr\u001b[39m 1.4.0 \n",
      "\u001b[32m✔\u001b[39m \u001b[34mreadr  \u001b[39m 2.1.3      \u001b[32m✔\u001b[39m \u001b[34mforcats\u001b[39m 0.5.1 \n",
      "Warning message:\n",
      "“package ‘ggplot2’ was built under R version 4.1.2”\n",
      "Warning message:\n",
      "“package ‘tibble’ was built under R version 4.1.2”\n",
      "Warning message:\n",
      "“package ‘tidyr’ was built under R version 4.1.2”\n",
      "Warning message:\n",
      "“package ‘readr’ was built under R version 4.1.2”\n",
      "Warning message:\n",
      "“package ‘dplyr’ was built under R version 4.1.2”\n",
      "── \u001b[1mConflicts\u001b[22m ────────────────────────────────────────── tidyverse_conflicts() ──\n",
      "\u001b[31m✖\u001b[39m \u001b[34mdplyr\u001b[39m::\u001b[32mfilter()\u001b[39m masks \u001b[34mstats\u001b[39m::filter()\n",
      "\u001b[31m✖\u001b[39m \u001b[34mdplyr\u001b[39m::\u001b[32mlag()\u001b[39m    masks \u001b[34mstats\u001b[39m::lag()\n",
      "Warning message:\n",
      "“package ‘repr’ was built under R version 4.1.2”\n",
      "\n",
      "Attaching package: ‘gridExtra’\n",
      "\n",
      "\n",
      "The following object is masked from ‘package:dplyr’:\n",
      "\n",
      "    combine\n",
      "\n",
      "\n",
      "Warning message:\n",
      "“package ‘tidymodels’ was built under R version 4.1.2”\n",
      "── \u001b[1mAttaching packages\u001b[22m ────────────────────────────────────── tidymodels 1.0.0 ──\n",
      "\n",
      "\u001b[32m✔\u001b[39m \u001b[34mbroom       \u001b[39m 1.0.1     \u001b[32m✔\u001b[39m \u001b[34mrsample     \u001b[39m 1.1.0\n",
      "\u001b[32m✔\u001b[39m \u001b[34mdials       \u001b[39m 1.1.0     \u001b[32m✔\u001b[39m \u001b[34mtune        \u001b[39m 1.0.1\n",
      "\u001b[32m✔\u001b[39m \u001b[34minfer       \u001b[39m 1.0.3     \u001b[32m✔\u001b[39m \u001b[34mworkflows   \u001b[39m 1.1.0\n",
      "\u001b[32m✔\u001b[39m \u001b[34mmodeldata   \u001b[39m 1.0.1     \u001b[32m✔\u001b[39m \u001b[34mworkflowsets\u001b[39m 1.0.0\n",
      "\u001b[32m✔\u001b[39m \u001b[34mparsnip     \u001b[39m 1.0.2     \u001b[32m✔\u001b[39m \u001b[34myardstick   \u001b[39m 1.1.0\n",
      "\u001b[32m✔\u001b[39m \u001b[34mrecipes     \u001b[39m 1.0.3     \n",
      "\n",
      "Warning message:\n",
      "“package ‘broom’ was built under R version 4.1.2”\n",
      "Warning message:\n",
      "“package ‘dials’ was built under R version 4.1.2”\n",
      "Warning message:\n",
      "“package ‘scales’ was built under R version 4.1.2”\n",
      "Warning message:\n",
      "“package ‘infer’ was built under R version 4.1.2”\n",
      "Warning message:\n",
      "“package ‘modeldata’ was built under R version 4.1.2”\n",
      "Warning message:\n",
      "“package ‘parsnip’ was built under R version 4.1.2”\n",
      "Warning message:\n",
      "“package ‘rsample’ was built under R version 4.1.2”\n",
      "Warning message:\n",
      "“package ‘tune’ was built under R version 4.1.2”\n",
      "Warning message:\n",
      "“package ‘workflows’ was built under R version 4.1.2”\n",
      "Warning message:\n",
      "“package ‘workflowsets’ was built under R version 4.1.2”\n",
      "Warning message:\n",
      "“package ‘yardstick’ was built under R version 4.1.2”\n",
      "── \u001b[1mConflicts\u001b[22m ───────────────────────────────────────── tidymodels_conflicts() ──\n",
      "\u001b[31m✖\u001b[39m \u001b[34mgridExtra\u001b[39m::\u001b[32mcombine()\u001b[39m masks \u001b[34mdplyr\u001b[39m::combine()\n",
      "\u001b[31m✖\u001b[39m \u001b[34mscales\u001b[39m::\u001b[32mdiscard()\u001b[39m    masks \u001b[34mpurrr\u001b[39m::discard()\n",
      "\u001b[31m✖\u001b[39m \u001b[34mdplyr\u001b[39m::\u001b[32mfilter()\u001b[39m      masks \u001b[34mstats\u001b[39m::filter()\n",
      "\u001b[31m✖\u001b[39m \u001b[34mrecipes\u001b[39m::\u001b[32mfixed()\u001b[39m     masks \u001b[34mstringr\u001b[39m::fixed()\n",
      "\u001b[31m✖\u001b[39m \u001b[34mdplyr\u001b[39m::\u001b[32mlag()\u001b[39m         masks \u001b[34mstats\u001b[39m::lag()\n",
      "\u001b[31m✖\u001b[39m \u001b[34myardstick\u001b[39m::\u001b[32mspec()\u001b[39m    masks \u001b[34mreadr\u001b[39m::spec()\n",
      "\u001b[31m✖\u001b[39m \u001b[34mrecipes\u001b[39m::\u001b[32mstep()\u001b[39m      masks \u001b[34mstats\u001b[39m::step()\n",
      "\u001b[34m•\u001b[39m Use \u001b[32mtidymodels_prefer()\u001b[39m to resolve common conflicts.\n",
      "\n",
      "Registered S3 method overwritten by 'GGally':\n",
      "  method from   \n",
      "  +.gg   ggplot2\n",
      "\n"
     ]
    }
   ],
   "source": [
    "library(tidyverse)\n",
    "library(repr)\n",
    "library(digest)\n",
    "library(gridExtra)\n",
    "library(cowplot)\n",
    "library(dplyr)\n",
    "library(tidymodels)\n",
    "library(GGally)\n",
    "library(splines)"
   ]
  },
  {
   "cell_type": "code",
   "execution_count": 6,
   "id": "be380408-3e02-40b6-9fe5-c7b4ea8a99f0",
   "metadata": {},
   "outputs": [
    {
     "name": "stderr",
     "output_type": "stream",
     "text": [
      "\u001b[1mRows: \u001b[22m\u001b[34m743\u001b[39m \u001b[1mColumns: \u001b[22m\u001b[34m28\u001b[39m\n",
      "\u001b[36m──\u001b[39m \u001b[1mColumn specification\u001b[22m \u001b[36m────────────────────────────────────────────────────────\u001b[39m\n",
      "\u001b[1mDelimiter:\u001b[22m \",\"\n",
      "\u001b[31mchr\u001b[39m  (5): Name, Team, Bats, ESPN, YAHOO\n",
      "\u001b[32mdbl\u001b[39m (23): #, G, PA, AB, R, HR, RBI, SB, H, 1B, 2B, 3B, TB, SO, BB, HBP, SF, ...\n",
      "\n",
      "\u001b[36mℹ\u001b[39m Use `spec()` to retrieve the full column specification for this data.\n",
      "\u001b[36mℹ\u001b[39m Specify the column types or set `show_col_types = FALSE` to quiet this message.\n"
     ]
    },
    {
     "data": {
      "text/html": [
       "<table class=\"dataframe\">\n",
       "<caption>A tibble: 6 × 28</caption>\n",
       "<thead>\n",
       "\t<tr><th scope=col>#</th><th scope=col>Name</th><th scope=col>Team</th><th scope=col>Bats</th><th scope=col>ESPN</th><th scope=col>YAHOO</th><th scope=col>G</th><th scope=col>PA</th><th scope=col>AB</th><th scope=col>R</th><th scope=col>⋯</th><th scope=col>SO</th><th scope=col>BB</th><th scope=col>HBP</th><th scope=col>SF</th><th scope=col>SH</th><th scope=col>CS</th><th scope=col>AVG</th><th scope=col>OBP</th><th scope=col>SLG</th><th scope=col>OPS</th></tr>\n",
       "\t<tr><th scope=col>&lt;dbl&gt;</th><th scope=col>&lt;chr&gt;</th><th scope=col>&lt;chr&gt;</th><th scope=col>&lt;chr&gt;</th><th scope=col>&lt;chr&gt;</th><th scope=col>&lt;chr&gt;</th><th scope=col>&lt;dbl&gt;</th><th scope=col>&lt;dbl&gt;</th><th scope=col>&lt;dbl&gt;</th><th scope=col>&lt;dbl&gt;</th><th scope=col>⋯</th><th scope=col>&lt;dbl&gt;</th><th scope=col>&lt;dbl&gt;</th><th scope=col>&lt;dbl&gt;</th><th scope=col>&lt;dbl&gt;</th><th scope=col>&lt;dbl&gt;</th><th scope=col>&lt;dbl&gt;</th><th scope=col>&lt;dbl&gt;</th><th scope=col>&lt;dbl&gt;</th><th scope=col>&lt;dbl&gt;</th><th scope=col>&lt;dbl&gt;</th></tr>\n",
       "</thead>\n",
       "<tbody>\n",
       "\t<tr><td>1</td><td>Juan Soto      </td><td>SD </td><td>L</td><td>OF</td><td>OF   </td><td>151</td><td>669</td><td>524</td><td>117.3</td><td>⋯</td><td> 91.6</td><td>136.5</td><td>4.9</td><td>4.9</td><td>3.6</td><td>3.9</td><td>0.283</td><td>0.433</td><td>0.530</td><td>0.963</td></tr>\n",
       "\t<tr><td>2</td><td>Jose Altuve    </td><td>HOU</td><td>R</td><td>2B</td><td>2B   </td><td>148</td><td>660</td><td>579</td><td>104.0</td><td>⋯</td><td> 96.6</td><td> 63.2</td><td>7.0</td><td>4.1</td><td>6.3</td><td>4.6</td><td>0.274</td><td>0.347</td><td>0.462</td><td>0.808</td></tr>\n",
       "\t<tr><td>3</td><td>Mookie Betts   </td><td>LAD</td><td>R</td><td>OF</td><td>2B/OF</td><td>147</td><td>655</td><td>566</td><td>107.0</td><td>⋯</td><td>102.9</td><td> 67.0</td><td>8.8</td><td>4.1</td><td>6.1</td><td>4.4</td><td>0.273</td><td>0.352</td><td>0.510</td><td>0.862</td></tr>\n",
       "\t<tr><td>4</td><td>Trea Turner    </td><td>PHI</td><td>R</td><td>SS</td><td>SS   </td><td>150</td><td>654</td><td>594</td><td> 94.0</td><td>⋯</td><td>114.6</td><td> 45.4</td><td>5.2</td><td>4.3</td><td>5.0</td><td>6.1</td><td>0.286</td><td>0.337</td><td>0.453</td><td>0.790</td></tr>\n",
       "\t<tr><td>5</td><td>Freddie Freeman</td><td>LAD</td><td>L</td><td>1B</td><td>1B   </td><td>150</td><td>654</td><td>558</td><td>100.9</td><td>⋯</td><td> 99.1</td><td> 77.9</td><td>6.7</td><td>4.7</td><td>3.5</td><td>3.7</td><td>0.296</td><td>0.382</td><td>0.502</td><td>0.884</td></tr>\n",
       "\t<tr><td>6</td><td>Bo Bichette    </td><td>TOR</td><td>R</td><td>SS</td><td>SS   </td><td>151</td><td>653</td><td>598</td><td> 95.7</td><td>⋯</td><td>131.7</td><td> 40.6</td><td>4.7</td><td>4.7</td><td>3.6</td><td>6.1</td><td>0.285</td><td>0.330</td><td>0.500</td><td>0.830</td></tr>\n",
       "</tbody>\n",
       "</table>\n"
      ],
      "text/latex": [
       "A tibble: 6 × 28\n",
       "\\begin{tabular}{lllllllllllllllllllll}\n",
       " \\# & Name & Team & Bats & ESPN & YAHOO & G & PA & AB & R & ⋯ & SO & BB & HBP & SF & SH & CS & AVG & OBP & SLG & OPS\\\\\n",
       " <dbl> & <chr> & <chr> & <chr> & <chr> & <chr> & <dbl> & <dbl> & <dbl> & <dbl> & ⋯ & <dbl> & <dbl> & <dbl> & <dbl> & <dbl> & <dbl> & <dbl> & <dbl> & <dbl> & <dbl>\\\\\n",
       "\\hline\n",
       "\t 1 & Juan Soto       & SD  & L & OF & OF    & 151 & 669 & 524 & 117.3 & ⋯ &  91.6 & 136.5 & 4.9 & 4.9 & 3.6 & 3.9 & 0.283 & 0.433 & 0.530 & 0.963\\\\\n",
       "\t 2 & Jose Altuve     & HOU & R & 2B & 2B    & 148 & 660 & 579 & 104.0 & ⋯ &  96.6 &  63.2 & 7.0 & 4.1 & 6.3 & 4.6 & 0.274 & 0.347 & 0.462 & 0.808\\\\\n",
       "\t 3 & Mookie Betts    & LAD & R & OF & 2B/OF & 147 & 655 & 566 & 107.0 & ⋯ & 102.9 &  67.0 & 8.8 & 4.1 & 6.1 & 4.4 & 0.273 & 0.352 & 0.510 & 0.862\\\\\n",
       "\t 4 & Trea Turner     & PHI & R & SS & SS    & 150 & 654 & 594 &  94.0 & ⋯ & 114.6 &  45.4 & 5.2 & 4.3 & 5.0 & 6.1 & 0.286 & 0.337 & 0.453 & 0.790\\\\\n",
       "\t 5 & Freddie Freeman & LAD & L & 1B & 1B    & 150 & 654 & 558 & 100.9 & ⋯ &  99.1 &  77.9 & 6.7 & 4.7 & 3.5 & 3.7 & 0.296 & 0.382 & 0.502 & 0.884\\\\\n",
       "\t 6 & Bo Bichette     & TOR & R & SS & SS    & 151 & 653 & 598 &  95.7 & ⋯ & 131.7 &  40.6 & 4.7 & 4.7 & 3.6 & 6.1 & 0.285 & 0.330 & 0.500 & 0.830\\\\\n",
       "\\end{tabular}\n"
      ],
      "text/markdown": [
       "\n",
       "A tibble: 6 × 28\n",
       "\n",
       "| # &lt;dbl&gt; | Name &lt;chr&gt; | Team &lt;chr&gt; | Bats &lt;chr&gt; | ESPN &lt;chr&gt; | YAHOO &lt;chr&gt; | G &lt;dbl&gt; | PA &lt;dbl&gt; | AB &lt;dbl&gt; | R &lt;dbl&gt; | ⋯ ⋯ | SO &lt;dbl&gt; | BB &lt;dbl&gt; | HBP &lt;dbl&gt; | SF &lt;dbl&gt; | SH &lt;dbl&gt; | CS &lt;dbl&gt; | AVG &lt;dbl&gt; | OBP &lt;dbl&gt; | SLG &lt;dbl&gt; | OPS &lt;dbl&gt; |\n",
       "|---|---|---|---|---|---|---|---|---|---|---|---|---|---|---|---|---|---|---|---|---|\n",
       "| 1 | Juan Soto       | SD  | L | OF | OF    | 151 | 669 | 524 | 117.3 | ⋯ |  91.6 | 136.5 | 4.9 | 4.9 | 3.6 | 3.9 | 0.283 | 0.433 | 0.530 | 0.963 |\n",
       "| 2 | Jose Altuve     | HOU | R | 2B | 2B    | 148 | 660 | 579 | 104.0 | ⋯ |  96.6 |  63.2 | 7.0 | 4.1 | 6.3 | 4.6 | 0.274 | 0.347 | 0.462 | 0.808 |\n",
       "| 3 | Mookie Betts    | LAD | R | OF | 2B/OF | 147 | 655 | 566 | 107.0 | ⋯ | 102.9 |  67.0 | 8.8 | 4.1 | 6.1 | 4.4 | 0.273 | 0.352 | 0.510 | 0.862 |\n",
       "| 4 | Trea Turner     | PHI | R | SS | SS    | 150 | 654 | 594 |  94.0 | ⋯ | 114.6 |  45.4 | 5.2 | 4.3 | 5.0 | 6.1 | 0.286 | 0.337 | 0.453 | 0.790 |\n",
       "| 5 | Freddie Freeman | LAD | L | 1B | 1B    | 150 | 654 | 558 | 100.9 | ⋯ |  99.1 |  77.9 | 6.7 | 4.7 | 3.5 | 3.7 | 0.296 | 0.382 | 0.502 | 0.884 |\n",
       "| 6 | Bo Bichette     | TOR | R | SS | SS    | 151 | 653 | 598 |  95.7 | ⋯ | 131.7 |  40.6 | 4.7 | 4.7 | 3.6 | 6.1 | 0.285 | 0.330 | 0.500 | 0.830 |\n",
       "\n"
      ],
      "text/plain": [
       "  # Name            Team Bats ESPN YAHOO G   PA  AB  R     ⋯ SO    BB    HBP\n",
       "1 1 Juan Soto       SD   L    OF   OF    151 669 524 117.3 ⋯  91.6 136.5 4.9\n",
       "2 2 Jose Altuve     HOU  R    2B   2B    148 660 579 104.0 ⋯  96.6  63.2 7.0\n",
       "3 3 Mookie Betts    LAD  R    OF   2B/OF 147 655 566 107.0 ⋯ 102.9  67.0 8.8\n",
       "4 4 Trea Turner     PHI  R    SS   SS    150 654 594  94.0 ⋯ 114.6  45.4 5.2\n",
       "5 5 Freddie Freeman LAD  L    1B   1B    150 654 558 100.9 ⋯  99.1  77.9 6.7\n",
       "6 6 Bo Bichette     TOR  R    SS   SS    151 653 598  95.7 ⋯ 131.7  40.6 4.7\n",
       "  SF  SH  CS  AVG   OBP   SLG   OPS  \n",
       "1 4.9 3.6 3.9 0.283 0.433 0.530 0.963\n",
       "2 4.1 6.3 4.6 0.274 0.347 0.462 0.808\n",
       "3 4.1 6.1 4.4 0.273 0.352 0.510 0.862\n",
       "4 4.3 5.0 6.1 0.286 0.337 0.453 0.790\n",
       "5 4.7 3.5 3.7 0.296 0.382 0.502 0.884\n",
       "6 4.7 3.6 6.1 0.285 0.330 0.500 0.830"
      ]
     },
     "metadata": {},
     "output_type": "display_data"
    },
    {
     "data": {
      "text/html": [
       "743"
      ],
      "text/latex": [
       "743"
      ],
      "text/markdown": [
       "743"
      ],
      "text/plain": [
       "[1] 743"
      ]
     },
     "metadata": {},
     "output_type": "display_data"
    }
   ],
   "source": [
    "## Games played data win min 100 PA/season\n",
    "## Data obtained from https://razzball.com/steamer-hitter-projections/\n",
    "data <- read_csv(\"data/Razzpreds.csv\")\n",
    "head(data)\n",
    "nrow(data)"
   ]
  },
  {
   "cell_type": "code",
   "execution_count": 11,
   "id": "da1d5dd4-7fa2-43cf-a995-d48bae064a05",
   "metadata": {},
   "outputs": [
    {
     "data": {
      "text/html": [
       "<table class=\"dataframe\">\n",
       "<caption>A tibble: 6 × 2</caption>\n",
       "<thead>\n",
       "\t<tr><th scope=col>player</th><th scope=col>G</th></tr>\n",
       "\t<tr><th scope=col>&lt;chr&gt;</th><th scope=col>&lt;dbl&gt;</th></tr>\n",
       "</thead>\n",
       "<tbody>\n",
       "\t<tr><td>Soto, Juan      </td><td>151</td></tr>\n",
       "\t<tr><td>Altuve, Jose    </td><td>148</td></tr>\n",
       "\t<tr><td>Betts, Mookie   </td><td>147</td></tr>\n",
       "\t<tr><td>Turner, Trea    </td><td>150</td></tr>\n",
       "\t<tr><td>Freeman, Freddie</td><td>150</td></tr>\n",
       "\t<tr><td>Bichette, Bo    </td><td>151</td></tr>\n",
       "</tbody>\n",
       "</table>\n"
      ],
      "text/latex": [
       "A tibble: 6 × 2\n",
       "\\begin{tabular}{ll}\n",
       " player & G\\\\\n",
       " <chr> & <dbl>\\\\\n",
       "\\hline\n",
       "\t Soto, Juan       & 151\\\\\n",
       "\t Altuve, Jose     & 148\\\\\n",
       "\t Betts, Mookie    & 147\\\\\n",
       "\t Turner, Trea     & 150\\\\\n",
       "\t Freeman, Freddie & 150\\\\\n",
       "\t Bichette, Bo     & 151\\\\\n",
       "\\end{tabular}\n"
      ],
      "text/markdown": [
       "\n",
       "A tibble: 6 × 2\n",
       "\n",
       "| player &lt;chr&gt; | G &lt;dbl&gt; |\n",
       "|---|---|\n",
       "| Soto, Juan       | 151 |\n",
       "| Altuve, Jose     | 148 |\n",
       "| Betts, Mookie    | 147 |\n",
       "| Turner, Trea     | 150 |\n",
       "| Freeman, Freddie | 150 |\n",
       "| Bichette, Bo     | 151 |\n",
       "\n"
      ],
      "text/plain": [
       "  player           G  \n",
       "1 Soto, Juan       151\n",
       "2 Altuve, Jose     148\n",
       "3 Betts, Mookie    147\n",
       "4 Turner, Trea     150\n",
       "5 Freeman, Freddie 150\n",
       "6 Bichette, Bo     151"
      ]
     },
     "metadata": {},
     "output_type": "display_data"
    }
   ],
   "source": [
    "games <- data %>% select(Name, G) %>% extract(Name,c(\"First_Name\",\"Last_Name\"), \"([^ ]+) (.*)\") %>% unite(\"player\", Last_Name:First_Name, sep = \", \", remove = T)\n",
    "head(games)"
   ]
  },
  {
   "cell_type": "code",
   "execution_count": 12,
   "id": "e7acdbf7-433f-4f6d-b5ac-ce30e6883f4e",
   "metadata": {},
   "outputs": [],
   "source": [
    "write_csv(games,\"data/games.csv\")"
   ]
  },
  {
   "cell_type": "code",
   "execution_count": null,
   "id": "f82d7b7d-54ea-444f-bf31-3e570ab736dc",
   "metadata": {},
   "outputs": [],
   "source": []
  }
 ],
 "metadata": {
  "kernelspec": {
   "display_name": "R",
   "language": "R",
   "name": "ir"
  },
  "language_info": {
   "codemirror_mode": "r",
   "file_extension": ".r",
   "mimetype": "text/x-r-source",
   "name": "R",
   "pygments_lexer": "r",
   "version": "4.1.1"
  }
 },
 "nbformat": 4,
 "nbformat_minor": 5
}
