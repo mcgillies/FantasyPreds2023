{
 "cells": [
  {
   "cell_type": "code",
   "execution_count": 1,
   "id": "702ce196-0dd0-43e7-ae5d-86e2d145602b",
   "metadata": {},
   "outputs": [
    {
     "name": "stderr",
     "output_type": "stream",
     "text": [
      "Warning message:\n",
      "“package ‘tidyverse’ was built under R version 4.1.2”\n",
      "── \u001b[1mAttaching packages\u001b[22m ─────────────────────────────────────── tidyverse 1.3.2 ──\n",
      "\u001b[32m✔\u001b[39m \u001b[34mggplot2\u001b[39m 3.4.0      \u001b[32m✔\u001b[39m \u001b[34mpurrr  \u001b[39m 0.3.4 \n",
      "\u001b[32m✔\u001b[39m \u001b[34mtibble \u001b[39m 3.1.8      \u001b[32m✔\u001b[39m \u001b[34mdplyr  \u001b[39m 1.0.10\n",
      "\u001b[32m✔\u001b[39m \u001b[34mtidyr  \u001b[39m 1.2.0      \u001b[32m✔\u001b[39m \u001b[34mstringr\u001b[39m 1.4.0 \n",
      "\u001b[32m✔\u001b[39m \u001b[34mreadr  \u001b[39m 2.1.3      \u001b[32m✔\u001b[39m \u001b[34mforcats\u001b[39m 0.5.1 \n",
      "Warning message:\n",
      "“package ‘ggplot2’ was built under R version 4.1.2”\n",
      "Warning message:\n",
      "“package ‘tibble’ was built under R version 4.1.2”\n",
      "Warning message:\n",
      "“package ‘tidyr’ was built under R version 4.1.2”\n",
      "Warning message:\n",
      "“package ‘readr’ was built under R version 4.1.2”\n",
      "Warning message:\n",
      "“package ‘dplyr’ was built under R version 4.1.2”\n",
      "── \u001b[1mConflicts\u001b[22m ────────────────────────────────────────── tidyverse_conflicts() ──\n",
      "\u001b[31m✖\u001b[39m \u001b[34mdplyr\u001b[39m::\u001b[32mfilter()\u001b[39m masks \u001b[34mstats\u001b[39m::filter()\n",
      "\u001b[31m✖\u001b[39m \u001b[34mdplyr\u001b[39m::\u001b[32mlag()\u001b[39m    masks \u001b[34mstats\u001b[39m::lag()\n",
      "Warning message:\n",
      "“package ‘repr’ was built under R version 4.1.2”\n",
      "\n",
      "Attaching package: ‘gridExtra’\n",
      "\n",
      "\n",
      "The following object is masked from ‘package:dplyr’:\n",
      "\n",
      "    combine\n",
      "\n",
      "\n",
      "Warning message:\n",
      "“package ‘tidymodels’ was built under R version 4.1.2”\n",
      "── \u001b[1mAttaching packages\u001b[22m ────────────────────────────────────── tidymodels 1.0.0 ──\n",
      "\n",
      "\u001b[32m✔\u001b[39m \u001b[34mbroom       \u001b[39m 1.0.1     \u001b[32m✔\u001b[39m \u001b[34mrsample     \u001b[39m 1.1.0\n",
      "\u001b[32m✔\u001b[39m \u001b[34mdials       \u001b[39m 1.1.0     \u001b[32m✔\u001b[39m \u001b[34mtune        \u001b[39m 1.0.1\n",
      "\u001b[32m✔\u001b[39m \u001b[34minfer       \u001b[39m 1.0.3     \u001b[32m✔\u001b[39m \u001b[34mworkflows   \u001b[39m 1.1.0\n",
      "\u001b[32m✔\u001b[39m \u001b[34mmodeldata   \u001b[39m 1.0.1     \u001b[32m✔\u001b[39m \u001b[34mworkflowsets\u001b[39m 1.0.0\n",
      "\u001b[32m✔\u001b[39m \u001b[34mparsnip     \u001b[39m 1.0.2     \u001b[32m✔\u001b[39m \u001b[34myardstick   \u001b[39m 1.1.0\n",
      "\u001b[32m✔\u001b[39m \u001b[34mrecipes     \u001b[39m 1.0.3     \n",
      "\n",
      "Warning message:\n",
      "“package ‘broom’ was built under R version 4.1.2”\n",
      "Warning message:\n",
      "“package ‘dials’ was built under R version 4.1.2”\n",
      "Warning message:\n",
      "“package ‘scales’ was built under R version 4.1.2”\n",
      "Warning message:\n",
      "“package ‘infer’ was built under R version 4.1.2”\n",
      "Warning message:\n",
      "“package ‘modeldata’ was built under R version 4.1.2”\n",
      "Warning message:\n",
      "“package ‘parsnip’ was built under R version 4.1.2”\n",
      "Warning message:\n",
      "“package ‘rsample’ was built under R version 4.1.2”\n",
      "Warning message:\n",
      "“package ‘tune’ was built under R version 4.1.2”\n",
      "Warning message:\n",
      "“package ‘workflows’ was built under R version 4.1.2”\n",
      "Warning message:\n",
      "“package ‘workflowsets’ was built under R version 4.1.2”\n",
      "Warning message:\n",
      "“package ‘yardstick’ was built under R version 4.1.2”\n",
      "── \u001b[1mConflicts\u001b[22m ───────────────────────────────────────── tidymodels_conflicts() ──\n",
      "\u001b[31m✖\u001b[39m \u001b[34mgridExtra\u001b[39m::\u001b[32mcombine()\u001b[39m masks \u001b[34mdplyr\u001b[39m::combine()\n",
      "\u001b[31m✖\u001b[39m \u001b[34mscales\u001b[39m::\u001b[32mdiscard()\u001b[39m    masks \u001b[34mpurrr\u001b[39m::discard()\n",
      "\u001b[31m✖\u001b[39m \u001b[34mdplyr\u001b[39m::\u001b[32mfilter()\u001b[39m      masks \u001b[34mstats\u001b[39m::filter()\n",
      "\u001b[31m✖\u001b[39m \u001b[34mrecipes\u001b[39m::\u001b[32mfixed()\u001b[39m     masks \u001b[34mstringr\u001b[39m::fixed()\n",
      "\u001b[31m✖\u001b[39m \u001b[34mdplyr\u001b[39m::\u001b[32mlag()\u001b[39m         masks \u001b[34mstats\u001b[39m::lag()\n",
      "\u001b[31m✖\u001b[39m \u001b[34myardstick\u001b[39m::\u001b[32mspec()\u001b[39m    masks \u001b[34mreadr\u001b[39m::spec()\n",
      "\u001b[31m✖\u001b[39m \u001b[34mrecipes\u001b[39m::\u001b[32mstep()\u001b[39m      masks \u001b[34mstats\u001b[39m::step()\n",
      "\u001b[34m•\u001b[39m Dig deeper into tidy modeling with R at \u001b[32mhttps://www.tmwr.org\u001b[39m\n",
      "\n",
      "Registered S3 method overwritten by 'GGally':\n",
      "  method from   \n",
      "  +.gg   ggplot2\n",
      "\n"
     ]
    }
   ],
   "source": [
    "library(tidyverse)\n",
    "library(repr)\n",
    "library(digest)\n",
    "library(gridExtra)\n",
    "library(cowplot)\n",
    "library(dplyr)\n",
    "library(tidymodels)\n",
    "library(GGally)\n",
    "library(splines)"
   ]
  },
  {
   "cell_type": "code",
   "execution_count": 3,
   "id": "097d4fd4-9568-4052-adb1-c83d830ec592",
   "metadata": {},
   "outputs": [
    {
     "name": "stderr",
     "output_type": "stream",
     "text": [
      "\u001b[1m\u001b[22mNew names:\n",
      "\u001b[36m•\u001b[39m `` -> `...21`\n",
      "\u001b[1mRows: \u001b[22m\u001b[34m539\u001b[39m \u001b[1mColumns: \u001b[22m\u001b[34m21\u001b[39m\n",
      "\u001b[36m──\u001b[39m \u001b[1mColumn specification\u001b[22m \u001b[36m────────────────────────────────────────────────────────\u001b[39m\n",
      "\u001b[1mDelimiter:\u001b[22m \",\"\n",
      "\u001b[31mchr\u001b[39m  (2): last_name, first_name\n",
      "\u001b[32mdbl\u001b[39m (18): player_id, year, xslg, xwoba, xobp, exit_velocity_avg, launch_angl...\n",
      "\u001b[33mlgl\u001b[39m  (1): ...21\n",
      "\n",
      "\u001b[36mℹ\u001b[39m Use `spec()` to retrieve the full column specification for this data.\n",
      "\u001b[36mℹ\u001b[39m Specify the column types or set `show_col_types = FALSE` to quiet this message.\n"
     ]
    },
    {
     "data": {
      "text/html": [
       "<table class=\"dataframe\">\n",
       "<caption>A tibble: 6 × 21</caption>\n",
       "<thead>\n",
       "\t<tr><th scope=col>last_name</th><th scope=col>first_name</th><th scope=col>player_id</th><th scope=col>year</th><th scope=col>xslg</th><th scope=col>xwoba</th><th scope=col>xobp</th><th scope=col>exit_velocity_avg</th><th scope=col>launch_angle_avg</th><th scope=col>sweet_spot_percent</th><th scope=col>⋯</th><th scope=col>solidcontact_percent</th><th scope=col>hard_hit_percent</th><th scope=col>z_swing_percent</th><th scope=col>oz_swing_percent</th><th scope=col>groundballs_percent</th><th scope=col>flyballs_percent</th><th scope=col>linedrives_percent</th><th scope=col>popups_percent</th><th scope=col>sprint_speed</th><th scope=col>...21</th></tr>\n",
       "\t<tr><th scope=col>&lt;chr&gt;</th><th scope=col>&lt;chr&gt;</th><th scope=col>&lt;dbl&gt;</th><th scope=col>&lt;dbl&gt;</th><th scope=col>&lt;dbl&gt;</th><th scope=col>&lt;dbl&gt;</th><th scope=col>&lt;dbl&gt;</th><th scope=col>&lt;dbl&gt;</th><th scope=col>&lt;dbl&gt;</th><th scope=col>&lt;dbl&gt;</th><th scope=col>⋯</th><th scope=col>&lt;dbl&gt;</th><th scope=col>&lt;dbl&gt;</th><th scope=col>&lt;dbl&gt;</th><th scope=col>&lt;dbl&gt;</th><th scope=col>&lt;dbl&gt;</th><th scope=col>&lt;dbl&gt;</th><th scope=col>&lt;dbl&gt;</th><th scope=col>&lt;dbl&gt;</th><th scope=col>&lt;dbl&gt;</th><th scope=col>&lt;lgl&gt;</th></tr>\n",
       "</thead>\n",
       "<tbody>\n",
       "\t<tr><td>Pujols  </td><td>Albert  </td><td>405395</td><td>2019</td><td>0.428</td><td>0.319</td><td>0.314</td><td>88.3</td><td>12.5</td><td>26.5</td><td>⋯</td><td>3.7</td><td>36.6</td><td>59.6</td><td>30.8</td><td>46.2</td><td>26.7</td><td>16.9</td><td>10.2</td><td>22.5</td><td>NA</td></tr>\n",
       "\t<tr><td>Cabrera </td><td>Miguel  </td><td>408234</td><td>2019</td><td>0.436</td><td>0.331</td><td>0.337</td><td>90.3</td><td>12.3</td><td>38.2</td><td>⋯</td><td>7.2</td><td>44.7</td><td>67.9</td><td>33.9</td><td>44.9</td><td>22.3</td><td>27.9</td><td> 4.9</td><td>23.5</td><td>NA</td></tr>\n",
       "\t<tr><td>Choo    </td><td>Shin-Soo</td><td>425783</td><td>2019</td><td>0.474</td><td>0.362</td><td>0.370</td><td>91.9</td><td> 9.2</td><td>31.8</td><td>⋯</td><td>9.0</td><td>49.0</td><td>64.8</td><td>20.4</td><td>50.6</td><td>22.3</td><td>23.6</td><td> 3.5</td><td>26.6</td><td>NA</td></tr>\n",
       "\t<tr><td>Jones   </td><td>Adam    </td><td>430945</td><td>2019</td><td>0.432</td><td>0.319</td><td>0.312</td><td>86.2</td><td>13.5</td><td>31.3</td><td>⋯</td><td>5.4</td><td>31.0</td><td>72.3</td><td>39.3</td><td>43.9</td><td>25.8</td><td>21.2</td><td> 9.0</td><td>26.9</td><td>NA</td></tr>\n",
       "\t<tr><td>Cruz Jr.</td><td>Nelson  </td><td>443558</td><td>2019</td><td>0.637</td><td>0.415</td><td>0.377</td><td>93.7</td><td>13.1</td><td>38.3</td><td>⋯</td><td>8.3</td><td>51.5</td><td>69.9</td><td>27.3</td><td>40.5</td><td>24.8</td><td>27.0</td><td> 7.7</td><td>25.3</td><td>NA</td></tr>\n",
       "\t<tr><td>Longoria</td><td>Evan    </td><td>446334</td><td>2019</td><td>0.491</td><td>0.351</td><td>0.340</td><td>89.7</td><td>14.0</td><td>35.8</td><td>⋯</td><td>8.4</td><td>40.8</td><td>64.6</td><td>30.1</td><td>41.0</td><td>26.6</td><td>27.2</td><td> 5.2</td><td>26.4</td><td>NA</td></tr>\n",
       "</tbody>\n",
       "</table>\n"
      ],
      "text/latex": [
       "A tibble: 6 × 21\n",
       "\\begin{tabular}{lllllllllllllllllllll}\n",
       " last\\_name & first\\_name & player\\_id & year & xslg & xwoba & xobp & exit\\_velocity\\_avg & launch\\_angle\\_avg & sweet\\_spot\\_percent & ⋯ & solidcontact\\_percent & hard\\_hit\\_percent & z\\_swing\\_percent & oz\\_swing\\_percent & groundballs\\_percent & flyballs\\_percent & linedrives\\_percent & popups\\_percent & sprint\\_speed & ...21\\\\\n",
       " <chr> & <chr> & <dbl> & <dbl> & <dbl> & <dbl> & <dbl> & <dbl> & <dbl> & <dbl> & ⋯ & <dbl> & <dbl> & <dbl> & <dbl> & <dbl> & <dbl> & <dbl> & <dbl> & <dbl> & <lgl>\\\\\n",
       "\\hline\n",
       "\t Pujols   & Albert   & 405395 & 2019 & 0.428 & 0.319 & 0.314 & 88.3 & 12.5 & 26.5 & ⋯ & 3.7 & 36.6 & 59.6 & 30.8 & 46.2 & 26.7 & 16.9 & 10.2 & 22.5 & NA\\\\\n",
       "\t Cabrera  & Miguel   & 408234 & 2019 & 0.436 & 0.331 & 0.337 & 90.3 & 12.3 & 38.2 & ⋯ & 7.2 & 44.7 & 67.9 & 33.9 & 44.9 & 22.3 & 27.9 &  4.9 & 23.5 & NA\\\\\n",
       "\t Choo     & Shin-Soo & 425783 & 2019 & 0.474 & 0.362 & 0.370 & 91.9 &  9.2 & 31.8 & ⋯ & 9.0 & 49.0 & 64.8 & 20.4 & 50.6 & 22.3 & 23.6 &  3.5 & 26.6 & NA\\\\\n",
       "\t Jones    & Adam     & 430945 & 2019 & 0.432 & 0.319 & 0.312 & 86.2 & 13.5 & 31.3 & ⋯ & 5.4 & 31.0 & 72.3 & 39.3 & 43.9 & 25.8 & 21.2 &  9.0 & 26.9 & NA\\\\\n",
       "\t Cruz Jr. & Nelson   & 443558 & 2019 & 0.637 & 0.415 & 0.377 & 93.7 & 13.1 & 38.3 & ⋯ & 8.3 & 51.5 & 69.9 & 27.3 & 40.5 & 24.8 & 27.0 &  7.7 & 25.3 & NA\\\\\n",
       "\t Longoria & Evan     & 446334 & 2019 & 0.491 & 0.351 & 0.340 & 89.7 & 14.0 & 35.8 & ⋯ & 8.4 & 40.8 & 64.6 & 30.1 & 41.0 & 26.6 & 27.2 &  5.2 & 26.4 & NA\\\\\n",
       "\\end{tabular}\n"
      ],
      "text/markdown": [
       "\n",
       "A tibble: 6 × 21\n",
       "\n",
       "| last_name &lt;chr&gt; | first_name &lt;chr&gt; | player_id &lt;dbl&gt; | year &lt;dbl&gt; | xslg &lt;dbl&gt; | xwoba &lt;dbl&gt; | xobp &lt;dbl&gt; | exit_velocity_avg &lt;dbl&gt; | launch_angle_avg &lt;dbl&gt; | sweet_spot_percent &lt;dbl&gt; | ⋯ ⋯ | solidcontact_percent &lt;dbl&gt; | hard_hit_percent &lt;dbl&gt; | z_swing_percent &lt;dbl&gt; | oz_swing_percent &lt;dbl&gt; | groundballs_percent &lt;dbl&gt; | flyballs_percent &lt;dbl&gt; | linedrives_percent &lt;dbl&gt; | popups_percent &lt;dbl&gt; | sprint_speed &lt;dbl&gt; | ...21 &lt;lgl&gt; |\n",
       "|---|---|---|---|---|---|---|---|---|---|---|---|---|---|---|---|---|---|---|---|---|\n",
       "| Pujols   | Albert   | 405395 | 2019 | 0.428 | 0.319 | 0.314 | 88.3 | 12.5 | 26.5 | ⋯ | 3.7 | 36.6 | 59.6 | 30.8 | 46.2 | 26.7 | 16.9 | 10.2 | 22.5 | NA |\n",
       "| Cabrera  | Miguel   | 408234 | 2019 | 0.436 | 0.331 | 0.337 | 90.3 | 12.3 | 38.2 | ⋯ | 7.2 | 44.7 | 67.9 | 33.9 | 44.9 | 22.3 | 27.9 |  4.9 | 23.5 | NA |\n",
       "| Choo     | Shin-Soo | 425783 | 2019 | 0.474 | 0.362 | 0.370 | 91.9 |  9.2 | 31.8 | ⋯ | 9.0 | 49.0 | 64.8 | 20.4 | 50.6 | 22.3 | 23.6 |  3.5 | 26.6 | NA |\n",
       "| Jones    | Adam     | 430945 | 2019 | 0.432 | 0.319 | 0.312 | 86.2 | 13.5 | 31.3 | ⋯ | 5.4 | 31.0 | 72.3 | 39.3 | 43.9 | 25.8 | 21.2 |  9.0 | 26.9 | NA |\n",
       "| Cruz Jr. | Nelson   | 443558 | 2019 | 0.637 | 0.415 | 0.377 | 93.7 | 13.1 | 38.3 | ⋯ | 8.3 | 51.5 | 69.9 | 27.3 | 40.5 | 24.8 | 27.0 |  7.7 | 25.3 | NA |\n",
       "| Longoria | Evan     | 446334 | 2019 | 0.491 | 0.351 | 0.340 | 89.7 | 14.0 | 35.8 | ⋯ | 8.4 | 40.8 | 64.6 | 30.1 | 41.0 | 26.6 | 27.2 |  5.2 | 26.4 | NA |\n",
       "\n"
      ],
      "text/plain": [
       "  last_name first_name player_id year xslg  xwoba xobp  exit_velocity_avg\n",
       "1 Pujols    Albert     405395    2019 0.428 0.319 0.314 88.3             \n",
       "2 Cabrera   Miguel     408234    2019 0.436 0.331 0.337 90.3             \n",
       "3 Choo      Shin-Soo   425783    2019 0.474 0.362 0.370 91.9             \n",
       "4 Jones     Adam       430945    2019 0.432 0.319 0.312 86.2             \n",
       "5 Cruz Jr.  Nelson     443558    2019 0.637 0.415 0.377 93.7             \n",
       "6 Longoria  Evan       446334    2019 0.491 0.351 0.340 89.7             \n",
       "  launch_angle_avg sweet_spot_percent ⋯ solidcontact_percent hard_hit_percent\n",
       "1 12.5             26.5               ⋯ 3.7                  36.6            \n",
       "2 12.3             38.2               ⋯ 7.2                  44.7            \n",
       "3  9.2             31.8               ⋯ 9.0                  49.0            \n",
       "4 13.5             31.3               ⋯ 5.4                  31.0            \n",
       "5 13.1             38.3               ⋯ 8.3                  51.5            \n",
       "6 14.0             35.8               ⋯ 8.4                  40.8            \n",
       "  z_swing_percent oz_swing_percent groundballs_percent flyballs_percent\n",
       "1 59.6            30.8             46.2                26.7            \n",
       "2 67.9            33.9             44.9                22.3            \n",
       "3 64.8            20.4             50.6                22.3            \n",
       "4 72.3            39.3             43.9                25.8            \n",
       "5 69.9            27.3             40.5                24.8            \n",
       "6 64.6            30.1             41.0                26.6            \n",
       "  linedrives_percent popups_percent sprint_speed ...21\n",
       "1 16.9               10.2           22.5         NA   \n",
       "2 27.9                4.9           23.5         NA   \n",
       "3 23.6                3.5           26.6         NA   \n",
       "4 21.2                9.0           26.9         NA   \n",
       "5 27.0                7.7           25.3         NA   \n",
       "6 27.2                5.2           26.4         NA   "
      ]
     },
     "metadata": {},
     "output_type": "display_data"
    }
   ],
   "source": [
    "metrics <- read_csv(\"data/RawMetrics.csv\")\n",
    "head(metrics)"
   ]
  },
  {
   "cell_type": "code",
   "execution_count": 5,
   "id": "b8b89556-2e97-4851-b356-031ba52f0a21",
   "metadata": {},
   "outputs": [
    {
     "data": {
      "text/html": [
       "<table class=\"dataframe\">\n",
       "<caption>A tibble: 6 × 19</caption>\n",
       "<thead>\n",
       "\t<tr><th scope=col>last_name</th><th scope=col>first_name</th><th scope=col>year</th><th scope=col>xslg</th><th scope=col>xwoba</th><th scope=col>xobp</th><th scope=col>exit_velocity_avg</th><th scope=col>launch_angle_avg</th><th scope=col>sweet_spot_percent</th><th scope=col>barrel_batted_rate</th><th scope=col>solidcontact_percent</th><th scope=col>hard_hit_percent</th><th scope=col>z_swing_percent</th><th scope=col>oz_swing_percent</th><th scope=col>groundballs_percent</th><th scope=col>flyballs_percent</th><th scope=col>linedrives_percent</th><th scope=col>popups_percent</th><th scope=col>sprint_speed</th></tr>\n",
       "\t<tr><th scope=col>&lt;chr&gt;</th><th scope=col>&lt;chr&gt;</th><th scope=col>&lt;dbl&gt;</th><th scope=col>&lt;dbl&gt;</th><th scope=col>&lt;dbl&gt;</th><th scope=col>&lt;dbl&gt;</th><th scope=col>&lt;dbl&gt;</th><th scope=col>&lt;dbl&gt;</th><th scope=col>&lt;dbl&gt;</th><th scope=col>&lt;dbl&gt;</th><th scope=col>&lt;dbl&gt;</th><th scope=col>&lt;dbl&gt;</th><th scope=col>&lt;dbl&gt;</th><th scope=col>&lt;dbl&gt;</th><th scope=col>&lt;dbl&gt;</th><th scope=col>&lt;dbl&gt;</th><th scope=col>&lt;dbl&gt;</th><th scope=col>&lt;dbl&gt;</th><th scope=col>&lt;dbl&gt;</th></tr>\n",
       "</thead>\n",
       "<tbody>\n",
       "\t<tr><td>Pujols  </td><td>Albert  </td><td>2019</td><td>0.428</td><td>0.319</td><td>0.314</td><td>88.3</td><td>12.5</td><td>26.5</td><td> 5.8</td><td>3.7</td><td>36.6</td><td>59.6</td><td>30.8</td><td>46.2</td><td>26.7</td><td>16.9</td><td>10.2</td><td>22.5</td></tr>\n",
       "\t<tr><td>Cabrera </td><td>Miguel  </td><td>2019</td><td>0.436</td><td>0.331</td><td>0.337</td><td>90.3</td><td>12.3</td><td>38.2</td><td> 6.4</td><td>7.2</td><td>44.7</td><td>67.9</td><td>33.9</td><td>44.9</td><td>22.3</td><td>27.9</td><td> 4.9</td><td>23.5</td></tr>\n",
       "\t<tr><td>Choo    </td><td>Shin-Soo</td><td>2019</td><td>0.474</td><td>0.362</td><td>0.370</td><td>91.9</td><td> 9.2</td><td>31.8</td><td> 8.8</td><td>9.0</td><td>49.0</td><td>64.8</td><td>20.4</td><td>50.6</td><td>22.3</td><td>23.6</td><td> 3.5</td><td>26.6</td></tr>\n",
       "\t<tr><td>Jones   </td><td>Adam    </td><td>2019</td><td>0.432</td><td>0.319</td><td>0.312</td><td>86.2</td><td>13.5</td><td>31.3</td><td> 6.7</td><td>5.4</td><td>31.0</td><td>72.3</td><td>39.3</td><td>43.9</td><td>25.8</td><td>21.2</td><td> 9.0</td><td>26.9</td></tr>\n",
       "\t<tr><td>Cruz Jr.</td><td>Nelson  </td><td>2019</td><td>0.637</td><td>0.415</td><td>0.377</td><td>93.7</td><td>13.1</td><td>38.3</td><td>19.9</td><td>8.3</td><td>51.5</td><td>69.9</td><td>27.3</td><td>40.5</td><td>24.8</td><td>27.0</td><td> 7.7</td><td>25.3</td></tr>\n",
       "\t<tr><td>Longoria</td><td>Evan    </td><td>2019</td><td>0.491</td><td>0.351</td><td>0.340</td><td>89.7</td><td>14.0</td><td>35.8</td><td> 7.5</td><td>8.4</td><td>40.8</td><td>64.6</td><td>30.1</td><td>41.0</td><td>26.6</td><td>27.2</td><td> 5.2</td><td>26.4</td></tr>\n",
       "</tbody>\n",
       "</table>\n"
      ],
      "text/latex": [
       "A tibble: 6 × 19\n",
       "\\begin{tabular}{lllllllllllllllllll}\n",
       " last\\_name & first\\_name & year & xslg & xwoba & xobp & exit\\_velocity\\_avg & launch\\_angle\\_avg & sweet\\_spot\\_percent & barrel\\_batted\\_rate & solidcontact\\_percent & hard\\_hit\\_percent & z\\_swing\\_percent & oz\\_swing\\_percent & groundballs\\_percent & flyballs\\_percent & linedrives\\_percent & popups\\_percent & sprint\\_speed\\\\\n",
       " <chr> & <chr> & <dbl> & <dbl> & <dbl> & <dbl> & <dbl> & <dbl> & <dbl> & <dbl> & <dbl> & <dbl> & <dbl> & <dbl> & <dbl> & <dbl> & <dbl> & <dbl> & <dbl>\\\\\n",
       "\\hline\n",
       "\t Pujols   & Albert   & 2019 & 0.428 & 0.319 & 0.314 & 88.3 & 12.5 & 26.5 &  5.8 & 3.7 & 36.6 & 59.6 & 30.8 & 46.2 & 26.7 & 16.9 & 10.2 & 22.5\\\\\n",
       "\t Cabrera  & Miguel   & 2019 & 0.436 & 0.331 & 0.337 & 90.3 & 12.3 & 38.2 &  6.4 & 7.2 & 44.7 & 67.9 & 33.9 & 44.9 & 22.3 & 27.9 &  4.9 & 23.5\\\\\n",
       "\t Choo     & Shin-Soo & 2019 & 0.474 & 0.362 & 0.370 & 91.9 &  9.2 & 31.8 &  8.8 & 9.0 & 49.0 & 64.8 & 20.4 & 50.6 & 22.3 & 23.6 &  3.5 & 26.6\\\\\n",
       "\t Jones    & Adam     & 2019 & 0.432 & 0.319 & 0.312 & 86.2 & 13.5 & 31.3 &  6.7 & 5.4 & 31.0 & 72.3 & 39.3 & 43.9 & 25.8 & 21.2 &  9.0 & 26.9\\\\\n",
       "\t Cruz Jr. & Nelson   & 2019 & 0.637 & 0.415 & 0.377 & 93.7 & 13.1 & 38.3 & 19.9 & 8.3 & 51.5 & 69.9 & 27.3 & 40.5 & 24.8 & 27.0 &  7.7 & 25.3\\\\\n",
       "\t Longoria & Evan     & 2019 & 0.491 & 0.351 & 0.340 & 89.7 & 14.0 & 35.8 &  7.5 & 8.4 & 40.8 & 64.6 & 30.1 & 41.0 & 26.6 & 27.2 &  5.2 & 26.4\\\\\n",
       "\\end{tabular}\n"
      ],
      "text/markdown": [
       "\n",
       "A tibble: 6 × 19\n",
       "\n",
       "| last_name &lt;chr&gt; | first_name &lt;chr&gt; | year &lt;dbl&gt; | xslg &lt;dbl&gt; | xwoba &lt;dbl&gt; | xobp &lt;dbl&gt; | exit_velocity_avg &lt;dbl&gt; | launch_angle_avg &lt;dbl&gt; | sweet_spot_percent &lt;dbl&gt; | barrel_batted_rate &lt;dbl&gt; | solidcontact_percent &lt;dbl&gt; | hard_hit_percent &lt;dbl&gt; | z_swing_percent &lt;dbl&gt; | oz_swing_percent &lt;dbl&gt; | groundballs_percent &lt;dbl&gt; | flyballs_percent &lt;dbl&gt; | linedrives_percent &lt;dbl&gt; | popups_percent &lt;dbl&gt; | sprint_speed &lt;dbl&gt; |\n",
       "|---|---|---|---|---|---|---|---|---|---|---|---|---|---|---|---|---|---|---|\n",
       "| Pujols   | Albert   | 2019 | 0.428 | 0.319 | 0.314 | 88.3 | 12.5 | 26.5 |  5.8 | 3.7 | 36.6 | 59.6 | 30.8 | 46.2 | 26.7 | 16.9 | 10.2 | 22.5 |\n",
       "| Cabrera  | Miguel   | 2019 | 0.436 | 0.331 | 0.337 | 90.3 | 12.3 | 38.2 |  6.4 | 7.2 | 44.7 | 67.9 | 33.9 | 44.9 | 22.3 | 27.9 |  4.9 | 23.5 |\n",
       "| Choo     | Shin-Soo | 2019 | 0.474 | 0.362 | 0.370 | 91.9 |  9.2 | 31.8 |  8.8 | 9.0 | 49.0 | 64.8 | 20.4 | 50.6 | 22.3 | 23.6 |  3.5 | 26.6 |\n",
       "| Jones    | Adam     | 2019 | 0.432 | 0.319 | 0.312 | 86.2 | 13.5 | 31.3 |  6.7 | 5.4 | 31.0 | 72.3 | 39.3 | 43.9 | 25.8 | 21.2 |  9.0 | 26.9 |\n",
       "| Cruz Jr. | Nelson   | 2019 | 0.637 | 0.415 | 0.377 | 93.7 | 13.1 | 38.3 | 19.9 | 8.3 | 51.5 | 69.9 | 27.3 | 40.5 | 24.8 | 27.0 |  7.7 | 25.3 |\n",
       "| Longoria | Evan     | 2019 | 0.491 | 0.351 | 0.340 | 89.7 | 14.0 | 35.8 |  7.5 | 8.4 | 40.8 | 64.6 | 30.1 | 41.0 | 26.6 | 27.2 |  5.2 | 26.4 |\n",
       "\n"
      ],
      "text/plain": [
       "  last_name first_name year xslg  xwoba xobp  exit_velocity_avg\n",
       "1 Pujols    Albert     2019 0.428 0.319 0.314 88.3             \n",
       "2 Cabrera   Miguel     2019 0.436 0.331 0.337 90.3             \n",
       "3 Choo      Shin-Soo   2019 0.474 0.362 0.370 91.9             \n",
       "4 Jones     Adam       2019 0.432 0.319 0.312 86.2             \n",
       "5 Cruz Jr.  Nelson     2019 0.637 0.415 0.377 93.7             \n",
       "6 Longoria  Evan       2019 0.491 0.351 0.340 89.7             \n",
       "  launch_angle_avg sweet_spot_percent barrel_batted_rate solidcontact_percent\n",
       "1 12.5             26.5                5.8               3.7                 \n",
       "2 12.3             38.2                6.4               7.2                 \n",
       "3  9.2             31.8                8.8               9.0                 \n",
       "4 13.5             31.3                6.7               5.4                 \n",
       "5 13.1             38.3               19.9               8.3                 \n",
       "6 14.0             35.8                7.5               8.4                 \n",
       "  hard_hit_percent z_swing_percent oz_swing_percent groundballs_percent\n",
       "1 36.6             59.6            30.8             46.2               \n",
       "2 44.7             67.9            33.9             44.9               \n",
       "3 49.0             64.8            20.4             50.6               \n",
       "4 31.0             72.3            39.3             43.9               \n",
       "5 51.5             69.9            27.3             40.5               \n",
       "6 40.8             64.6            30.1             41.0               \n",
       "  flyballs_percent linedrives_percent popups_percent sprint_speed\n",
       "1 26.7             16.9               10.2           22.5        \n",
       "2 22.3             27.9                4.9           23.5        \n",
       "3 22.3             23.6                3.5           26.6        \n",
       "4 25.8             21.2                9.0           26.9        \n",
       "5 24.8             27.0                7.7           25.3        \n",
       "6 26.6             27.2                5.2           26.4        "
      ]
     },
     "metadata": {},
     "output_type": "display_data"
    }
   ],
   "source": [
    "selected <- metrics %>% select(-\"player_id\", -\"...21\")\n",
    "head(selected)"
   ]
  },
  {
   "cell_type": "code",
   "execution_count": 7,
   "id": "634a5b25-d403-4175-a59a-194b8c8246ee",
   "metadata": {},
   "outputs": [
    {
     "data": {
      "text/html": [
       "<table class=\"dataframe\">\n",
       "<caption>A tibble: 6 × 18</caption>\n",
       "<thead>\n",
       "\t<tr><th scope=col>player</th><th scope=col>year</th><th scope=col>xslg</th><th scope=col>xwoba</th><th scope=col>xobp</th><th scope=col>exit_velocity_avg</th><th scope=col>launch_angle_avg</th><th scope=col>sweet_spot_percent</th><th scope=col>barrel_batted_rate</th><th scope=col>solidcontact_percent</th><th scope=col>hard_hit_percent</th><th scope=col>z_swing_percent</th><th scope=col>oz_swing_percent</th><th scope=col>groundballs_percent</th><th scope=col>flyballs_percent</th><th scope=col>linedrives_percent</th><th scope=col>popups_percent</th><th scope=col>sprint_speed</th></tr>\n",
       "\t<tr><th scope=col>&lt;chr&gt;</th><th scope=col>&lt;dbl&gt;</th><th scope=col>&lt;dbl&gt;</th><th scope=col>&lt;dbl&gt;</th><th scope=col>&lt;dbl&gt;</th><th scope=col>&lt;dbl&gt;</th><th scope=col>&lt;dbl&gt;</th><th scope=col>&lt;dbl&gt;</th><th scope=col>&lt;dbl&gt;</th><th scope=col>&lt;dbl&gt;</th><th scope=col>&lt;dbl&gt;</th><th scope=col>&lt;dbl&gt;</th><th scope=col>&lt;dbl&gt;</th><th scope=col>&lt;dbl&gt;</th><th scope=col>&lt;dbl&gt;</th><th scope=col>&lt;dbl&gt;</th><th scope=col>&lt;dbl&gt;</th><th scope=col>&lt;dbl&gt;</th></tr>\n",
       "</thead>\n",
       "<tbody>\n",
       "\t<tr><td>Pujols, Albert  </td><td>2019</td><td>0.428</td><td>0.319</td><td>0.314</td><td>88.3</td><td>12.5</td><td>26.5</td><td> 5.8</td><td>3.7</td><td>36.6</td><td>59.6</td><td>30.8</td><td>46.2</td><td>26.7</td><td>16.9</td><td>10.2</td><td>22.5</td></tr>\n",
       "\t<tr><td>Cabrera, Miguel </td><td>2019</td><td>0.436</td><td>0.331</td><td>0.337</td><td>90.3</td><td>12.3</td><td>38.2</td><td> 6.4</td><td>7.2</td><td>44.7</td><td>67.9</td><td>33.9</td><td>44.9</td><td>22.3</td><td>27.9</td><td> 4.9</td><td>23.5</td></tr>\n",
       "\t<tr><td>Choo, Shin-Soo  </td><td>2019</td><td>0.474</td><td>0.362</td><td>0.370</td><td>91.9</td><td> 9.2</td><td>31.8</td><td> 8.8</td><td>9.0</td><td>49.0</td><td>64.8</td><td>20.4</td><td>50.6</td><td>22.3</td><td>23.6</td><td> 3.5</td><td>26.6</td></tr>\n",
       "\t<tr><td>Jones, Adam     </td><td>2019</td><td>0.432</td><td>0.319</td><td>0.312</td><td>86.2</td><td>13.5</td><td>31.3</td><td> 6.7</td><td>5.4</td><td>31.0</td><td>72.3</td><td>39.3</td><td>43.9</td><td>25.8</td><td>21.2</td><td> 9.0</td><td>26.9</td></tr>\n",
       "\t<tr><td>Cruz Jr., Nelson</td><td>2019</td><td>0.637</td><td>0.415</td><td>0.377</td><td>93.7</td><td>13.1</td><td>38.3</td><td>19.9</td><td>8.3</td><td>51.5</td><td>69.9</td><td>27.3</td><td>40.5</td><td>24.8</td><td>27.0</td><td> 7.7</td><td>25.3</td></tr>\n",
       "\t<tr><td>Longoria, Evan  </td><td>2019</td><td>0.491</td><td>0.351</td><td>0.340</td><td>89.7</td><td>14.0</td><td>35.8</td><td> 7.5</td><td>8.4</td><td>40.8</td><td>64.6</td><td>30.1</td><td>41.0</td><td>26.6</td><td>27.2</td><td> 5.2</td><td>26.4</td></tr>\n",
       "</tbody>\n",
       "</table>\n"
      ],
      "text/latex": [
       "A tibble: 6 × 18\n",
       "\\begin{tabular}{llllllllllllllllll}\n",
       " player & year & xslg & xwoba & xobp & exit\\_velocity\\_avg & launch\\_angle\\_avg & sweet\\_spot\\_percent & barrel\\_batted\\_rate & solidcontact\\_percent & hard\\_hit\\_percent & z\\_swing\\_percent & oz\\_swing\\_percent & groundballs\\_percent & flyballs\\_percent & linedrives\\_percent & popups\\_percent & sprint\\_speed\\\\\n",
       " <chr> & <dbl> & <dbl> & <dbl> & <dbl> & <dbl> & <dbl> & <dbl> & <dbl> & <dbl> & <dbl> & <dbl> & <dbl> & <dbl> & <dbl> & <dbl> & <dbl> & <dbl>\\\\\n",
       "\\hline\n",
       "\t Pujols, Albert   & 2019 & 0.428 & 0.319 & 0.314 & 88.3 & 12.5 & 26.5 &  5.8 & 3.7 & 36.6 & 59.6 & 30.8 & 46.2 & 26.7 & 16.9 & 10.2 & 22.5\\\\\n",
       "\t Cabrera, Miguel  & 2019 & 0.436 & 0.331 & 0.337 & 90.3 & 12.3 & 38.2 &  6.4 & 7.2 & 44.7 & 67.9 & 33.9 & 44.9 & 22.3 & 27.9 &  4.9 & 23.5\\\\\n",
       "\t Choo, Shin-Soo   & 2019 & 0.474 & 0.362 & 0.370 & 91.9 &  9.2 & 31.8 &  8.8 & 9.0 & 49.0 & 64.8 & 20.4 & 50.6 & 22.3 & 23.6 &  3.5 & 26.6\\\\\n",
       "\t Jones, Adam      & 2019 & 0.432 & 0.319 & 0.312 & 86.2 & 13.5 & 31.3 &  6.7 & 5.4 & 31.0 & 72.3 & 39.3 & 43.9 & 25.8 & 21.2 &  9.0 & 26.9\\\\\n",
       "\t Cruz Jr., Nelson & 2019 & 0.637 & 0.415 & 0.377 & 93.7 & 13.1 & 38.3 & 19.9 & 8.3 & 51.5 & 69.9 & 27.3 & 40.5 & 24.8 & 27.0 &  7.7 & 25.3\\\\\n",
       "\t Longoria, Evan   & 2019 & 0.491 & 0.351 & 0.340 & 89.7 & 14.0 & 35.8 &  7.5 & 8.4 & 40.8 & 64.6 & 30.1 & 41.0 & 26.6 & 27.2 &  5.2 & 26.4\\\\\n",
       "\\end{tabular}\n"
      ],
      "text/markdown": [
       "\n",
       "A tibble: 6 × 18\n",
       "\n",
       "| player &lt;chr&gt; | year &lt;dbl&gt; | xslg &lt;dbl&gt; | xwoba &lt;dbl&gt; | xobp &lt;dbl&gt; | exit_velocity_avg &lt;dbl&gt; | launch_angle_avg &lt;dbl&gt; | sweet_spot_percent &lt;dbl&gt; | barrel_batted_rate &lt;dbl&gt; | solidcontact_percent &lt;dbl&gt; | hard_hit_percent &lt;dbl&gt; | z_swing_percent &lt;dbl&gt; | oz_swing_percent &lt;dbl&gt; | groundballs_percent &lt;dbl&gt; | flyballs_percent &lt;dbl&gt; | linedrives_percent &lt;dbl&gt; | popups_percent &lt;dbl&gt; | sprint_speed &lt;dbl&gt; |\n",
       "|---|---|---|---|---|---|---|---|---|---|---|---|---|---|---|---|---|---|\n",
       "| Pujols, Albert   | 2019 | 0.428 | 0.319 | 0.314 | 88.3 | 12.5 | 26.5 |  5.8 | 3.7 | 36.6 | 59.6 | 30.8 | 46.2 | 26.7 | 16.9 | 10.2 | 22.5 |\n",
       "| Cabrera, Miguel  | 2019 | 0.436 | 0.331 | 0.337 | 90.3 | 12.3 | 38.2 |  6.4 | 7.2 | 44.7 | 67.9 | 33.9 | 44.9 | 22.3 | 27.9 |  4.9 | 23.5 |\n",
       "| Choo, Shin-Soo   | 2019 | 0.474 | 0.362 | 0.370 | 91.9 |  9.2 | 31.8 |  8.8 | 9.0 | 49.0 | 64.8 | 20.4 | 50.6 | 22.3 | 23.6 |  3.5 | 26.6 |\n",
       "| Jones, Adam      | 2019 | 0.432 | 0.319 | 0.312 | 86.2 | 13.5 | 31.3 |  6.7 | 5.4 | 31.0 | 72.3 | 39.3 | 43.9 | 25.8 | 21.2 |  9.0 | 26.9 |\n",
       "| Cruz Jr., Nelson | 2019 | 0.637 | 0.415 | 0.377 | 93.7 | 13.1 | 38.3 | 19.9 | 8.3 | 51.5 | 69.9 | 27.3 | 40.5 | 24.8 | 27.0 |  7.7 | 25.3 |\n",
       "| Longoria, Evan   | 2019 | 0.491 | 0.351 | 0.340 | 89.7 | 14.0 | 35.8 |  7.5 | 8.4 | 40.8 | 64.6 | 30.1 | 41.0 | 26.6 | 27.2 |  5.2 | 26.4 |\n",
       "\n"
      ],
      "text/plain": [
       "  player           year xslg  xwoba xobp  exit_velocity_avg launch_angle_avg\n",
       "1 Pujols, Albert   2019 0.428 0.319 0.314 88.3              12.5            \n",
       "2 Cabrera, Miguel  2019 0.436 0.331 0.337 90.3              12.3            \n",
       "3 Choo, Shin-Soo   2019 0.474 0.362 0.370 91.9               9.2            \n",
       "4 Jones, Adam      2019 0.432 0.319 0.312 86.2              13.5            \n",
       "5 Cruz Jr., Nelson 2019 0.637 0.415 0.377 93.7              13.1            \n",
       "6 Longoria, Evan   2019 0.491 0.351 0.340 89.7              14.0            \n",
       "  sweet_spot_percent barrel_batted_rate solidcontact_percent hard_hit_percent\n",
       "1 26.5                5.8               3.7                  36.6            \n",
       "2 38.2                6.4               7.2                  44.7            \n",
       "3 31.8                8.8               9.0                  49.0            \n",
       "4 31.3                6.7               5.4                  31.0            \n",
       "5 38.3               19.9               8.3                  51.5            \n",
       "6 35.8                7.5               8.4                  40.8            \n",
       "  z_swing_percent oz_swing_percent groundballs_percent flyballs_percent\n",
       "1 59.6            30.8             46.2                26.7            \n",
       "2 67.9            33.9             44.9                22.3            \n",
       "3 64.8            20.4             50.6                22.3            \n",
       "4 72.3            39.3             43.9                25.8            \n",
       "5 69.9            27.3             40.5                24.8            \n",
       "6 64.6            30.1             41.0                26.6            \n",
       "  linedrives_percent popups_percent sprint_speed\n",
       "1 16.9               10.2           22.5        \n",
       "2 27.9                4.9           23.5        \n",
       "3 23.6                3.5           26.6        \n",
       "4 21.2                9.0           26.9        \n",
       "5 27.0                7.7           25.3        \n",
       "6 27.2                5.2           26.4        "
      ]
     },
     "metadata": {},
     "output_type": "display_data"
    }
   ],
   "source": [
    "names <- selected %>% unite(\"player\", last_name:first_name, sep = \", \", remove = T)\n",
    "head(names)"
   ]
  },
  {
   "cell_type": "code",
   "execution_count": 23,
   "id": "f4253069-7832-47e8-a329-761ae1a4a1a3",
   "metadata": {},
   "outputs": [
    {
     "name": "stderr",
     "output_type": "stream",
     "text": [
      "\u001b[1mRows: \u001b[22m\u001b[34m539\u001b[39m \u001b[1mColumns: \u001b[22m\u001b[34m11\u001b[39m\n",
      "\u001b[36m──\u001b[39m \u001b[1mColumn specification\u001b[22m \u001b[36m────────────────────────────────────────────────────────\u001b[39m\n",
      "\u001b[1mDelimiter:\u001b[22m \",\"\n",
      "\u001b[31mchr\u001b[39m  (1): player\n",
      "\u001b[32mdbl\u001b[39m (10): year, K, BB, RBI, TB, SB, G, R, Fpoints, fpoints_g\n",
      "\n",
      "\u001b[36mℹ\u001b[39m Use `spec()` to retrieve the full column specification for this data.\n",
      "\u001b[36mℹ\u001b[39m Specify the column types or set `show_col_types = FALSE` to quiet this message.\n"
     ]
    },
    {
     "data": {
      "text/html": [
       "<table class=\"dataframe\">\n",
       "<caption>A tibble: 6 × 11</caption>\n",
       "<thead>\n",
       "\t<tr><th scope=col>player</th><th scope=col>year</th><th scope=col>K</th><th scope=col>BB</th><th scope=col>RBI</th><th scope=col>TB</th><th scope=col>SB</th><th scope=col>G</th><th scope=col>R</th><th scope=col>Fpoints</th><th scope=col>fpoints_g</th></tr>\n",
       "\t<tr><th scope=col>&lt;chr&gt;</th><th scope=col>&lt;dbl&gt;</th><th scope=col>&lt;dbl&gt;</th><th scope=col>&lt;dbl&gt;</th><th scope=col>&lt;dbl&gt;</th><th scope=col>&lt;dbl&gt;</th><th scope=col>&lt;dbl&gt;</th><th scope=col>&lt;dbl&gt;</th><th scope=col>&lt;dbl&gt;</th><th scope=col>&lt;dbl&gt;</th><th scope=col>&lt;dbl&gt;</th></tr>\n",
       "</thead>\n",
       "<tbody>\n",
       "\t<tr><td>Soto, Juan       </td><td>2020</td><td> 28</td><td> 41</td><td> 37</td><td>107</td><td> 5</td><td> 47</td><td> 39</td><td>201</td><td>4.276596</td></tr>\n",
       "\t<tr><td>Freeman, Freddie </td><td>2020</td><td> 37</td><td> 45</td><td> 53</td><td>137</td><td> 2</td><td> 60</td><td> 51</td><td>251</td><td>4.183333</td></tr>\n",
       "\t<tr><td>Yelich, Christian</td><td>2019</td><td>118</td><td> 80</td><td> 97</td><td>328</td><td>30</td><td>130</td><td>100</td><td>517</td><td>3.976923</td></tr>\n",
       "\t<tr><td>Rendon, Anthony  </td><td>2019</td><td> 86</td><td> 80</td><td>126</td><td>326</td><td> 5</td><td>146</td><td>117</td><td>568</td><td>3.890411</td></tr>\n",
       "\t<tr><td>Judge, Aaron     </td><td>2022</td><td>175</td><td>111</td><td>131</td><td>391</td><td>16</td><td>157</td><td>133</td><td>607</td><td>3.866242</td></tr>\n",
       "\t<tr><td>Trout, Mike      </td><td>2019</td><td>120</td><td>110</td><td>104</td><td>303</td><td>11</td><td>134</td><td>110</td><td>518</td><td>3.865672</td></tr>\n",
       "</tbody>\n",
       "</table>\n"
      ],
      "text/latex": [
       "A tibble: 6 × 11\n",
       "\\begin{tabular}{lllllllllll}\n",
       " player & year & K & BB & RBI & TB & SB & G & R & Fpoints & fpoints\\_g\\\\\n",
       " <chr> & <dbl> & <dbl> & <dbl> & <dbl> & <dbl> & <dbl> & <dbl> & <dbl> & <dbl> & <dbl>\\\\\n",
       "\\hline\n",
       "\t Soto, Juan        & 2020 &  28 &  41 &  37 & 107 &  5 &  47 &  39 & 201 & 4.276596\\\\\n",
       "\t Freeman, Freddie  & 2020 &  37 &  45 &  53 & 137 &  2 &  60 &  51 & 251 & 4.183333\\\\\n",
       "\t Yelich, Christian & 2019 & 118 &  80 &  97 & 328 & 30 & 130 & 100 & 517 & 3.976923\\\\\n",
       "\t Rendon, Anthony   & 2019 &  86 &  80 & 126 & 326 &  5 & 146 & 117 & 568 & 3.890411\\\\\n",
       "\t Judge, Aaron      & 2022 & 175 & 111 & 131 & 391 & 16 & 157 & 133 & 607 & 3.866242\\\\\n",
       "\t Trout, Mike       & 2019 & 120 & 110 & 104 & 303 & 11 & 134 & 110 & 518 & 3.865672\\\\\n",
       "\\end{tabular}\n"
      ],
      "text/markdown": [
       "\n",
       "A tibble: 6 × 11\n",
       "\n",
       "| player &lt;chr&gt; | year &lt;dbl&gt; | K &lt;dbl&gt; | BB &lt;dbl&gt; | RBI &lt;dbl&gt; | TB &lt;dbl&gt; | SB &lt;dbl&gt; | G &lt;dbl&gt; | R &lt;dbl&gt; | Fpoints &lt;dbl&gt; | fpoints_g &lt;dbl&gt; |\n",
       "|---|---|---|---|---|---|---|---|---|---|---|\n",
       "| Soto, Juan        | 2020 |  28 |  41 |  37 | 107 |  5 |  47 |  39 | 201 | 4.276596 |\n",
       "| Freeman, Freddie  | 2020 |  37 |  45 |  53 | 137 |  2 |  60 |  51 | 251 | 4.183333 |\n",
       "| Yelich, Christian | 2019 | 118 |  80 |  97 | 328 | 30 | 130 | 100 | 517 | 3.976923 |\n",
       "| Rendon, Anthony   | 2019 |  86 |  80 | 126 | 326 |  5 | 146 | 117 | 568 | 3.890411 |\n",
       "| Judge, Aaron      | 2022 | 175 | 111 | 131 | 391 | 16 | 157 | 133 | 607 | 3.866242 |\n",
       "| Trout, Mike       | 2019 | 120 | 110 | 104 | 303 | 11 | 134 | 110 | 518 | 3.865672 |\n",
       "\n"
      ],
      "text/plain": [
       "  player            year K   BB  RBI TB  SB G   R   Fpoints fpoints_g\n",
       "1 Soto, Juan        2020  28  41  37 107  5  47  39 201     4.276596 \n",
       "2 Freeman, Freddie  2020  37  45  53 137  2  60  51 251     4.183333 \n",
       "3 Yelich, Christian 2019 118  80  97 328 30 130 100 517     3.976923 \n",
       "4 Rendon, Anthony   2019  86  80 126 326  5 146 117 568     3.890411 \n",
       "5 Judge, Aaron      2022 175 111 131 391 16 157 133 607     3.866242 \n",
       "6 Trout, Mike       2019 120 110 104 303 11 134 110 518     3.865672 "
      ]
     },
     "metadata": {},
     "output_type": "display_data"
    }
   ],
   "source": [
    "fpoints <- read_csv(\"data/fpoints_data.csv\")\n",
    "head(fpoints)"
   ]
  },
  {
   "cell_type": "code",
   "execution_count": 25,
   "id": "95542b4e-cde9-4ac5-899a-790e8696cd2c",
   "metadata": {},
   "outputs": [
    {
     "data": {
      "text/html": [
       "<table class=\"dataframe\">\n",
       "<caption>A tibble: 6 × 3</caption>\n",
       "<thead>\n",
       "\t<tr><th scope=col>player</th><th scope=col>year</th><th scope=col>fpoints_g</th></tr>\n",
       "\t<tr><th scope=col>&lt;chr&gt;</th><th scope=col>&lt;dbl&gt;</th><th scope=col>&lt;dbl&gt;</th></tr>\n",
       "</thead>\n",
       "<tbody>\n",
       "\t<tr><td>Soto, Juan       </td><td>2020</td><td>4.276596</td></tr>\n",
       "\t<tr><td>Freeman, Freddie </td><td>2020</td><td>4.183333</td></tr>\n",
       "\t<tr><td>Yelich, Christian</td><td>2019</td><td>3.976923</td></tr>\n",
       "\t<tr><td>Rendon, Anthony  </td><td>2019</td><td>3.890411</td></tr>\n",
       "\t<tr><td>Judge, Aaron     </td><td>2022</td><td>3.866242</td></tr>\n",
       "\t<tr><td>Trout, Mike      </td><td>2019</td><td>3.865672</td></tr>\n",
       "</tbody>\n",
       "</table>\n"
      ],
      "text/latex": [
       "A tibble: 6 × 3\n",
       "\\begin{tabular}{lll}\n",
       " player & year & fpoints\\_g\\\\\n",
       " <chr> & <dbl> & <dbl>\\\\\n",
       "\\hline\n",
       "\t Soto, Juan        & 2020 & 4.276596\\\\\n",
       "\t Freeman, Freddie  & 2020 & 4.183333\\\\\n",
       "\t Yelich, Christian & 2019 & 3.976923\\\\\n",
       "\t Rendon, Anthony   & 2019 & 3.890411\\\\\n",
       "\t Judge, Aaron      & 2022 & 3.866242\\\\\n",
       "\t Trout, Mike       & 2019 & 3.865672\\\\\n",
       "\\end{tabular}\n"
      ],
      "text/markdown": [
       "\n",
       "A tibble: 6 × 3\n",
       "\n",
       "| player &lt;chr&gt; | year &lt;dbl&gt; | fpoints_g &lt;dbl&gt; |\n",
       "|---|---|---|\n",
       "| Soto, Juan        | 2020 | 4.276596 |\n",
       "| Freeman, Freddie  | 2020 | 4.183333 |\n",
       "| Yelich, Christian | 2019 | 3.976923 |\n",
       "| Rendon, Anthony   | 2019 | 3.890411 |\n",
       "| Judge, Aaron      | 2022 | 3.866242 |\n",
       "| Trout, Mike       | 2019 | 3.865672 |\n",
       "\n"
      ],
      "text/plain": [
       "  player            year fpoints_g\n",
       "1 Soto, Juan        2020 4.276596 \n",
       "2 Freeman, Freddie  2020 4.183333 \n",
       "3 Yelich, Christian 2019 3.976923 \n",
       "4 Rendon, Anthony   2019 3.890411 \n",
       "5 Judge, Aaron      2022 3.866242 \n",
       "6 Trout, Mike       2019 3.865672 "
      ]
     },
     "metadata": {},
     "output_type": "display_data"
    }
   ],
   "source": [
    "fpoints_main <- fpoints %>% select(\"player\", \"year\", \"fpoints_g\")\n",
    "head(fpoints_main)"
   ]
  },
  {
   "cell_type": "code",
   "execution_count": 26,
   "id": "99d7a40b-9cc5-4867-a16f-15809f32a419",
   "metadata": {},
   "outputs": [
    {
     "data": {
      "text/html": [
       "<table class=\"dataframe\">\n",
       "<caption>A tibble: 6 × 2</caption>\n",
       "<thead>\n",
       "\t<tr><th scope=col>player</th><th scope=col>avg_fpoints</th></tr>\n",
       "\t<tr><th scope=col>&lt;chr&gt;</th><th scope=col>&lt;dbl&gt;</th></tr>\n",
       "</thead>\n",
       "<tbody>\n",
       "\t<tr><td>Abreu, Jose      </td><td>2.777493</td></tr>\n",
       "\t<tr><td>Acuna Jr., Ronald</td><td>2.891475</td></tr>\n",
       "\t<tr><td>Adames, Willy    </td><td>1.927085</td></tr>\n",
       "\t<tr><td>Aguilar, Jesus   </td><td>2.096501</td></tr>\n",
       "\t<tr><td>Ahmed, Nick      </td><td>2.110759</td></tr>\n",
       "\t<tr><td>Alberto, Hanser  </td><td>2.213896</td></tr>\n",
       "</tbody>\n",
       "</table>\n"
      ],
      "text/latex": [
       "A tibble: 6 × 2\n",
       "\\begin{tabular}{ll}\n",
       " player & avg\\_fpoints\\\\\n",
       " <chr> & <dbl>\\\\\n",
       "\\hline\n",
       "\t Abreu, Jose       & 2.777493\\\\\n",
       "\t Acuna Jr., Ronald & 2.891475\\\\\n",
       "\t Adames, Willy     & 1.927085\\\\\n",
       "\t Aguilar, Jesus    & 2.096501\\\\\n",
       "\t Ahmed, Nick       & 2.110759\\\\\n",
       "\t Alberto, Hanser   & 2.213896\\\\\n",
       "\\end{tabular}\n"
      ],
      "text/markdown": [
       "\n",
       "A tibble: 6 × 2\n",
       "\n",
       "| player &lt;chr&gt; | avg_fpoints &lt;dbl&gt; |\n",
       "|---|---|\n",
       "| Abreu, Jose       | 2.777493 |\n",
       "| Acuna Jr., Ronald | 2.891475 |\n",
       "| Adames, Willy     | 1.927085 |\n",
       "| Aguilar, Jesus    | 2.096501 |\n",
       "| Ahmed, Nick       | 2.110759 |\n",
       "| Alberto, Hanser   | 2.213896 |\n",
       "\n"
      ],
      "text/plain": [
       "  player            avg_fpoints\n",
       "1 Abreu, Jose       2.777493   \n",
       "2 Acuna Jr., Ronald 2.891475   \n",
       "3 Adames, Willy     1.927085   \n",
       "4 Aguilar, Jesus    2.096501   \n",
       "5 Ahmed, Nick       2.110759   \n",
       "6 Alberto, Hanser   2.213896   "
      ]
     },
     "metadata": {},
     "output_type": "display_data"
    }
   ],
   "source": [
    "fpoints_grouped <- fpoints %>% group_by(player) %>% summarize(avg_fpoints = mean(fpoints_g))\n",
    "head(fpoints_grouped)"
   ]
  },
  {
   "cell_type": "code",
   "execution_count": 27,
   "id": "5fd2acbb-83e2-4a09-9b3b-7f65e4119c84",
   "metadata": {},
   "outputs": [
    {
     "data": {
      "text/html": [
       "<style>\n",
       ".list-inline {list-style: none; margin:0; padding: 0}\n",
       ".list-inline>li {display: inline-block}\n",
       ".list-inline>li:not(:last-child)::after {content: \"\\00b7\"; padding: 0 .5ex}\n",
       "</style>\n",
       "<ol class=list-inline><li>'player'</li><li>'year'</li><li>'xslg'</li><li>'xwoba'</li><li>'xobp'</li><li>'exit_velocity_avg'</li><li>'launch_angle_avg'</li><li>'sweet_spot_percent'</li><li>'barrel_batted_rate'</li><li>'solidcontact_percent'</li><li>'hard_hit_percent'</li><li>'z_swing_percent'</li><li>'oz_swing_percent'</li><li>'groundballs_percent'</li><li>'flyballs_percent'</li><li>'linedrives_percent'</li><li>'popups_percent'</li><li>'sprint_speed'</li></ol>\n"
      ],
      "text/latex": [
       "\\begin{enumerate*}\n",
       "\\item 'player'\n",
       "\\item 'year'\n",
       "\\item 'xslg'\n",
       "\\item 'xwoba'\n",
       "\\item 'xobp'\n",
       "\\item 'exit\\_velocity\\_avg'\n",
       "\\item 'launch\\_angle\\_avg'\n",
       "\\item 'sweet\\_spot\\_percent'\n",
       "\\item 'barrel\\_batted\\_rate'\n",
       "\\item 'solidcontact\\_percent'\n",
       "\\item 'hard\\_hit\\_percent'\n",
       "\\item 'z\\_swing\\_percent'\n",
       "\\item 'oz\\_swing\\_percent'\n",
       "\\item 'groundballs\\_percent'\n",
       "\\item 'flyballs\\_percent'\n",
       "\\item 'linedrives\\_percent'\n",
       "\\item 'popups\\_percent'\n",
       "\\item 'sprint\\_speed'\n",
       "\\end{enumerate*}\n"
      ],
      "text/markdown": [
       "1. 'player'\n",
       "2. 'year'\n",
       "3. 'xslg'\n",
       "4. 'xwoba'\n",
       "5. 'xobp'\n",
       "6. 'exit_velocity_avg'\n",
       "7. 'launch_angle_avg'\n",
       "8. 'sweet_spot_percent'\n",
       "9. 'barrel_batted_rate'\n",
       "10. 'solidcontact_percent'\n",
       "11. 'hard_hit_percent'\n",
       "12. 'z_swing_percent'\n",
       "13. 'oz_swing_percent'\n",
       "14. 'groundballs_percent'\n",
       "15. 'flyballs_percent'\n",
       "16. 'linedrives_percent'\n",
       "17. 'popups_percent'\n",
       "18. 'sprint_speed'\n",
       "\n",
       "\n"
      ],
      "text/plain": [
       " [1] \"player\"               \"year\"                 \"xslg\"                \n",
       " [4] \"xwoba\"                \"xobp\"                 \"exit_velocity_avg\"   \n",
       " [7] \"launch_angle_avg\"     \"sweet_spot_percent\"   \"barrel_batted_rate\"  \n",
       "[10] \"solidcontact_percent\" \"hard_hit_percent\"     \"z_swing_percent\"     \n",
       "[13] \"oz_swing_percent\"     \"groundballs_percent\"  \"flyballs_percent\"    \n",
       "[16] \"linedrives_percent\"   \"popups_percent\"       \"sprint_speed\"        "
      ]
     },
     "metadata": {},
     "output_type": "display_data"
    }
   ],
   "source": [
    "colnames(names)"
   ]
  },
  {
   "cell_type": "code",
   "execution_count": 29,
   "id": "e8560ebd-7460-426d-bbf4-2ba58eac4604",
   "metadata": {},
   "outputs": [
    {
     "data": {
      "text/html": [
       "<table class=\"dataframe\">\n",
       "<caption>A tibble: 6 × 17</caption>\n",
       "<thead>\n",
       "\t<tr><th scope=col>player</th><th scope=col>xslg</th><th scope=col>xwoba</th><th scope=col>xobp</th><th scope=col>exit_velocity_avg</th><th scope=col>launch_angle_avg</th><th scope=col>sweet_spot_percent</th><th scope=col>barrel_batted_rate</th><th scope=col>solidcontact_percent</th><th scope=col>hard_hit_percent</th><th scope=col>z_swing_percent</th><th scope=col>oz_swing_percent</th><th scope=col>groundballs_percent</th><th scope=col>flyballs_percent</th><th scope=col>linedrives_percent</th><th scope=col>popups_percent</th><th scope=col>sprint_speed</th></tr>\n",
       "\t<tr><th scope=col>&lt;chr&gt;</th><th scope=col>&lt;dbl&gt;</th><th scope=col>&lt;dbl&gt;</th><th scope=col>&lt;dbl&gt;</th><th scope=col>&lt;dbl&gt;</th><th scope=col>&lt;dbl&gt;</th><th scope=col>&lt;dbl&gt;</th><th scope=col>&lt;dbl&gt;</th><th scope=col>&lt;dbl&gt;</th><th scope=col>&lt;dbl&gt;</th><th scope=col>&lt;dbl&gt;</th><th scope=col>&lt;dbl&gt;</th><th scope=col>&lt;dbl&gt;</th><th scope=col>&lt;dbl&gt;</th><th scope=col>&lt;dbl&gt;</th><th scope=col>&lt;dbl&gt;</th><th scope=col>&lt;dbl&gt;</th></tr>\n",
       "</thead>\n",
       "<tbody>\n",
       "\t<tr><td>Abreu, Jose      </td><td>0.5117500</td><td>0.3697500</td><td>0.3520000</td><td>92.30000</td><td>10.05000</td><td>34.57500</td><td>11.700000</td><td> 8.075000</td><td>50.65000</td><td>67.000</td><td>32.25000</td><td>46.55000</td><td>23.72500</td><td>25.00000</td><td>4.700000</td><td>26.47500</td></tr>\n",
       "\t<tr><td>Acuna Jr., Ronald</td><td>0.5503333</td><td>0.3920000</td><td>0.3773333</td><td>91.40000</td><td>14.53333</td><td>35.76667</td><td>14.600000</td><td>11.066667</td><td>51.36667</td><td>68.700</td><td>22.76667</td><td>40.73333</td><td>28.70000</td><td>24.16667</td><td>6.400000</td><td>29.03333</td></tr>\n",
       "\t<tr><td>Adames, Willy    </td><td>0.4300000</td><td>0.3187500</td><td>0.3077500</td><td>88.92500</td><td>14.75000</td><td>36.12500</td><td>10.675000</td><td> 7.550000</td><td>41.10000</td><td>70.425</td><td>27.07500</td><td>40.92500</td><td>27.20000</td><td>24.37500</td><td>7.500000</td><td>28.07500</td></tr>\n",
       "\t<tr><td>Aguilar, Jesus   </td><td>0.4326667</td><td>0.3256667</td><td>0.3216667</td><td>88.86667</td><td>18.03333</td><td>37.30000</td><td> 7.533333</td><td> 6.366667</td><td>38.16667</td><td>64.100</td><td>31.86667</td><td>34.56667</td><td>28.33333</td><td>28.60000</td><td>8.633333</td><td>24.23333</td></tr>\n",
       "\t<tr><td>Ahmed, Nick      </td><td>0.3995000</td><td>0.3125000</td><td>0.3160000</td><td>87.75000</td><td> 8.50000</td><td>32.90000</td><td> 5.900000</td><td> 5.350000</td><td>33.65000</td><td>70.800</td><td>29.10000</td><td>50.05000</td><td>18.90000</td><td>25.20000</td><td>5.800000</td><td>28.15000</td></tr>\n",
       "\t<tr><td>Alberto, Hanser  </td><td>0.3555000</td><td>0.2805000</td><td>0.2885000</td><td>83.35000</td><td>12.55000</td><td>32.55000</td><td> 1.950000</td><td> 2.900000</td><td>19.60000</td><td>75.100</td><td>48.80000</td><td>47.65000</td><td>21.05000</td><td>23.65000</td><td>7.600000</td><td>26.85000</td></tr>\n",
       "</tbody>\n",
       "</table>\n"
      ],
      "text/latex": [
       "A tibble: 6 × 17\n",
       "\\begin{tabular}{lllllllllllllllll}\n",
       " player & xslg & xwoba & xobp & exit\\_velocity\\_avg & launch\\_angle\\_avg & sweet\\_spot\\_percent & barrel\\_batted\\_rate & solidcontact\\_percent & hard\\_hit\\_percent & z\\_swing\\_percent & oz\\_swing\\_percent & groundballs\\_percent & flyballs\\_percent & linedrives\\_percent & popups\\_percent & sprint\\_speed\\\\\n",
       " <chr> & <dbl> & <dbl> & <dbl> & <dbl> & <dbl> & <dbl> & <dbl> & <dbl> & <dbl> & <dbl> & <dbl> & <dbl> & <dbl> & <dbl> & <dbl> & <dbl>\\\\\n",
       "\\hline\n",
       "\t Abreu, Jose       & 0.5117500 & 0.3697500 & 0.3520000 & 92.30000 & 10.05000 & 34.57500 & 11.700000 &  8.075000 & 50.65000 & 67.000 & 32.25000 & 46.55000 & 23.72500 & 25.00000 & 4.700000 & 26.47500\\\\\n",
       "\t Acuna Jr., Ronald & 0.5503333 & 0.3920000 & 0.3773333 & 91.40000 & 14.53333 & 35.76667 & 14.600000 & 11.066667 & 51.36667 & 68.700 & 22.76667 & 40.73333 & 28.70000 & 24.16667 & 6.400000 & 29.03333\\\\\n",
       "\t Adames, Willy     & 0.4300000 & 0.3187500 & 0.3077500 & 88.92500 & 14.75000 & 36.12500 & 10.675000 &  7.550000 & 41.10000 & 70.425 & 27.07500 & 40.92500 & 27.20000 & 24.37500 & 7.500000 & 28.07500\\\\\n",
       "\t Aguilar, Jesus    & 0.4326667 & 0.3256667 & 0.3216667 & 88.86667 & 18.03333 & 37.30000 &  7.533333 &  6.366667 & 38.16667 & 64.100 & 31.86667 & 34.56667 & 28.33333 & 28.60000 & 8.633333 & 24.23333\\\\\n",
       "\t Ahmed, Nick       & 0.3995000 & 0.3125000 & 0.3160000 & 87.75000 &  8.50000 & 32.90000 &  5.900000 &  5.350000 & 33.65000 & 70.800 & 29.10000 & 50.05000 & 18.90000 & 25.20000 & 5.800000 & 28.15000\\\\\n",
       "\t Alberto, Hanser   & 0.3555000 & 0.2805000 & 0.2885000 & 83.35000 & 12.55000 & 32.55000 &  1.950000 &  2.900000 & 19.60000 & 75.100 & 48.80000 & 47.65000 & 21.05000 & 23.65000 & 7.600000 & 26.85000\\\\\n",
       "\\end{tabular}\n"
      ],
      "text/markdown": [
       "\n",
       "A tibble: 6 × 17\n",
       "\n",
       "| player &lt;chr&gt; | xslg &lt;dbl&gt; | xwoba &lt;dbl&gt; | xobp &lt;dbl&gt; | exit_velocity_avg &lt;dbl&gt; | launch_angle_avg &lt;dbl&gt; | sweet_spot_percent &lt;dbl&gt; | barrel_batted_rate &lt;dbl&gt; | solidcontact_percent &lt;dbl&gt; | hard_hit_percent &lt;dbl&gt; | z_swing_percent &lt;dbl&gt; | oz_swing_percent &lt;dbl&gt; | groundballs_percent &lt;dbl&gt; | flyballs_percent &lt;dbl&gt; | linedrives_percent &lt;dbl&gt; | popups_percent &lt;dbl&gt; | sprint_speed &lt;dbl&gt; |\n",
       "|---|---|---|---|---|---|---|---|---|---|---|---|---|---|---|---|---|\n",
       "| Abreu, Jose       | 0.5117500 | 0.3697500 | 0.3520000 | 92.30000 | 10.05000 | 34.57500 | 11.700000 |  8.075000 | 50.65000 | 67.000 | 32.25000 | 46.55000 | 23.72500 | 25.00000 | 4.700000 | 26.47500 |\n",
       "| Acuna Jr., Ronald | 0.5503333 | 0.3920000 | 0.3773333 | 91.40000 | 14.53333 | 35.76667 | 14.600000 | 11.066667 | 51.36667 | 68.700 | 22.76667 | 40.73333 | 28.70000 | 24.16667 | 6.400000 | 29.03333 |\n",
       "| Adames, Willy     | 0.4300000 | 0.3187500 | 0.3077500 | 88.92500 | 14.75000 | 36.12500 | 10.675000 |  7.550000 | 41.10000 | 70.425 | 27.07500 | 40.92500 | 27.20000 | 24.37500 | 7.500000 | 28.07500 |\n",
       "| Aguilar, Jesus    | 0.4326667 | 0.3256667 | 0.3216667 | 88.86667 | 18.03333 | 37.30000 |  7.533333 |  6.366667 | 38.16667 | 64.100 | 31.86667 | 34.56667 | 28.33333 | 28.60000 | 8.633333 | 24.23333 |\n",
       "| Ahmed, Nick       | 0.3995000 | 0.3125000 | 0.3160000 | 87.75000 |  8.50000 | 32.90000 |  5.900000 |  5.350000 | 33.65000 | 70.800 | 29.10000 | 50.05000 | 18.90000 | 25.20000 | 5.800000 | 28.15000 |\n",
       "| Alberto, Hanser   | 0.3555000 | 0.2805000 | 0.2885000 | 83.35000 | 12.55000 | 32.55000 |  1.950000 |  2.900000 | 19.60000 | 75.100 | 48.80000 | 47.65000 | 21.05000 | 23.65000 | 7.600000 | 26.85000 |\n",
       "\n"
      ],
      "text/plain": [
       "  player            xslg      xwoba     xobp      exit_velocity_avg\n",
       "1 Abreu, Jose       0.5117500 0.3697500 0.3520000 92.30000         \n",
       "2 Acuna Jr., Ronald 0.5503333 0.3920000 0.3773333 91.40000         \n",
       "3 Adames, Willy     0.4300000 0.3187500 0.3077500 88.92500         \n",
       "4 Aguilar, Jesus    0.4326667 0.3256667 0.3216667 88.86667         \n",
       "5 Ahmed, Nick       0.3995000 0.3125000 0.3160000 87.75000         \n",
       "6 Alberto, Hanser   0.3555000 0.2805000 0.2885000 83.35000         \n",
       "  launch_angle_avg sweet_spot_percent barrel_batted_rate solidcontact_percent\n",
       "1 10.05000         34.57500           11.700000           8.075000           \n",
       "2 14.53333         35.76667           14.600000          11.066667           \n",
       "3 14.75000         36.12500           10.675000           7.550000           \n",
       "4 18.03333         37.30000            7.533333           6.366667           \n",
       "5  8.50000         32.90000            5.900000           5.350000           \n",
       "6 12.55000         32.55000            1.950000           2.900000           \n",
       "  hard_hit_percent z_swing_percent oz_swing_percent groundballs_percent\n",
       "1 50.65000         67.000          32.25000         46.55000           \n",
       "2 51.36667         68.700          22.76667         40.73333           \n",
       "3 41.10000         70.425          27.07500         40.92500           \n",
       "4 38.16667         64.100          31.86667         34.56667           \n",
       "5 33.65000         70.800          29.10000         50.05000           \n",
       "6 19.60000         75.100          48.80000         47.65000           \n",
       "  flyballs_percent linedrives_percent popups_percent sprint_speed\n",
       "1 23.72500         25.00000           4.700000       26.47500    \n",
       "2 28.70000         24.16667           6.400000       29.03333    \n",
       "3 27.20000         24.37500           7.500000       28.07500    \n",
       "4 28.33333         28.60000           8.633333       24.23333    \n",
       "5 18.90000         25.20000           5.800000       28.15000    \n",
       "6 21.05000         23.65000           7.600000       26.85000    "
      ]
     },
     "metadata": {},
     "output_type": "display_data"
    }
   ],
   "source": [
    "met <- names %>% group_by(player) %>% summarize(across(everything(), mean)) %>% select(-year)\n",
    "head(met)"
   ]
  },
  {
   "cell_type": "code",
   "execution_count": 30,
   "id": "3078b6b6-3ff9-484c-8aff-2c1c3cd5b39a",
   "metadata": {},
   "outputs": [
    {
     "data": {
      "text/html": [
       "<table class=\"dataframe\">\n",
       "<caption>A tibble: 6 × 18</caption>\n",
       "<thead>\n",
       "\t<tr><th scope=col>player</th><th scope=col>xslg</th><th scope=col>xwoba</th><th scope=col>xobp</th><th scope=col>exit_velocity_avg</th><th scope=col>launch_angle_avg</th><th scope=col>sweet_spot_percent</th><th scope=col>barrel_batted_rate</th><th scope=col>solidcontact_percent</th><th scope=col>hard_hit_percent</th><th scope=col>z_swing_percent</th><th scope=col>oz_swing_percent</th><th scope=col>groundballs_percent</th><th scope=col>flyballs_percent</th><th scope=col>linedrives_percent</th><th scope=col>popups_percent</th><th scope=col>sprint_speed</th><th scope=col>avg_fpoints</th></tr>\n",
       "\t<tr><th scope=col>&lt;chr&gt;</th><th scope=col>&lt;dbl&gt;</th><th scope=col>&lt;dbl&gt;</th><th scope=col>&lt;dbl&gt;</th><th scope=col>&lt;dbl&gt;</th><th scope=col>&lt;dbl&gt;</th><th scope=col>&lt;dbl&gt;</th><th scope=col>&lt;dbl&gt;</th><th scope=col>&lt;dbl&gt;</th><th scope=col>&lt;dbl&gt;</th><th scope=col>&lt;dbl&gt;</th><th scope=col>&lt;dbl&gt;</th><th scope=col>&lt;dbl&gt;</th><th scope=col>&lt;dbl&gt;</th><th scope=col>&lt;dbl&gt;</th><th scope=col>&lt;dbl&gt;</th><th scope=col>&lt;dbl&gt;</th><th scope=col>&lt;dbl&gt;</th></tr>\n",
       "</thead>\n",
       "<tbody>\n",
       "\t<tr><td>Abreu, Jose      </td><td>0.5117500</td><td>0.3697500</td><td>0.3520000</td><td>92.30000</td><td>10.05000</td><td>34.57500</td><td>11.700000</td><td> 8.075000</td><td>50.65000</td><td>67.000</td><td>32.25000</td><td>46.55000</td><td>23.72500</td><td>25.00000</td><td>4.700000</td><td>26.47500</td><td>2.777493</td></tr>\n",
       "\t<tr><td>Acuna Jr., Ronald</td><td>0.5503333</td><td>0.3920000</td><td>0.3773333</td><td>91.40000</td><td>14.53333</td><td>35.76667</td><td>14.600000</td><td>11.066667</td><td>51.36667</td><td>68.700</td><td>22.76667</td><td>40.73333</td><td>28.70000</td><td>24.16667</td><td>6.400000</td><td>29.03333</td><td>2.891475</td></tr>\n",
       "\t<tr><td>Adames, Willy    </td><td>0.4300000</td><td>0.3187500</td><td>0.3077500</td><td>88.92500</td><td>14.75000</td><td>36.12500</td><td>10.675000</td><td> 7.550000</td><td>41.10000</td><td>70.425</td><td>27.07500</td><td>40.92500</td><td>27.20000</td><td>24.37500</td><td>7.500000</td><td>28.07500</td><td>1.927085</td></tr>\n",
       "\t<tr><td>Aguilar, Jesus   </td><td>0.4326667</td><td>0.3256667</td><td>0.3216667</td><td>88.86667</td><td>18.03333</td><td>37.30000</td><td> 7.533333</td><td> 6.366667</td><td>38.16667</td><td>64.100</td><td>31.86667</td><td>34.56667</td><td>28.33333</td><td>28.60000</td><td>8.633333</td><td>24.23333</td><td>2.096501</td></tr>\n",
       "\t<tr><td>Ahmed, Nick      </td><td>0.3995000</td><td>0.3125000</td><td>0.3160000</td><td>87.75000</td><td> 8.50000</td><td>32.90000</td><td> 5.900000</td><td> 5.350000</td><td>33.65000</td><td>70.800</td><td>29.10000</td><td>50.05000</td><td>18.90000</td><td>25.20000</td><td>5.800000</td><td>28.15000</td><td>2.110759</td></tr>\n",
       "\t<tr><td>Alberto, Hanser  </td><td>0.3555000</td><td>0.2805000</td><td>0.2885000</td><td>83.35000</td><td>12.55000</td><td>32.55000</td><td> 1.950000</td><td> 2.900000</td><td>19.60000</td><td>75.100</td><td>48.80000</td><td>47.65000</td><td>21.05000</td><td>23.65000</td><td>7.600000</td><td>26.85000</td><td>2.213896</td></tr>\n",
       "</tbody>\n",
       "</table>\n"
      ],
      "text/latex": [
       "A tibble: 6 × 18\n",
       "\\begin{tabular}{llllllllllllllllll}\n",
       " player & xslg & xwoba & xobp & exit\\_velocity\\_avg & launch\\_angle\\_avg & sweet\\_spot\\_percent & barrel\\_batted\\_rate & solidcontact\\_percent & hard\\_hit\\_percent & z\\_swing\\_percent & oz\\_swing\\_percent & groundballs\\_percent & flyballs\\_percent & linedrives\\_percent & popups\\_percent & sprint\\_speed & avg\\_fpoints\\\\\n",
       " <chr> & <dbl> & <dbl> & <dbl> & <dbl> & <dbl> & <dbl> & <dbl> & <dbl> & <dbl> & <dbl> & <dbl> & <dbl> & <dbl> & <dbl> & <dbl> & <dbl> & <dbl>\\\\\n",
       "\\hline\n",
       "\t Abreu, Jose       & 0.5117500 & 0.3697500 & 0.3520000 & 92.30000 & 10.05000 & 34.57500 & 11.700000 &  8.075000 & 50.65000 & 67.000 & 32.25000 & 46.55000 & 23.72500 & 25.00000 & 4.700000 & 26.47500 & 2.777493\\\\\n",
       "\t Acuna Jr., Ronald & 0.5503333 & 0.3920000 & 0.3773333 & 91.40000 & 14.53333 & 35.76667 & 14.600000 & 11.066667 & 51.36667 & 68.700 & 22.76667 & 40.73333 & 28.70000 & 24.16667 & 6.400000 & 29.03333 & 2.891475\\\\\n",
       "\t Adames, Willy     & 0.4300000 & 0.3187500 & 0.3077500 & 88.92500 & 14.75000 & 36.12500 & 10.675000 &  7.550000 & 41.10000 & 70.425 & 27.07500 & 40.92500 & 27.20000 & 24.37500 & 7.500000 & 28.07500 & 1.927085\\\\\n",
       "\t Aguilar, Jesus    & 0.4326667 & 0.3256667 & 0.3216667 & 88.86667 & 18.03333 & 37.30000 &  7.533333 &  6.366667 & 38.16667 & 64.100 & 31.86667 & 34.56667 & 28.33333 & 28.60000 & 8.633333 & 24.23333 & 2.096501\\\\\n",
       "\t Ahmed, Nick       & 0.3995000 & 0.3125000 & 0.3160000 & 87.75000 &  8.50000 & 32.90000 &  5.900000 &  5.350000 & 33.65000 & 70.800 & 29.10000 & 50.05000 & 18.90000 & 25.20000 & 5.800000 & 28.15000 & 2.110759\\\\\n",
       "\t Alberto, Hanser   & 0.3555000 & 0.2805000 & 0.2885000 & 83.35000 & 12.55000 & 32.55000 &  1.950000 &  2.900000 & 19.60000 & 75.100 & 48.80000 & 47.65000 & 21.05000 & 23.65000 & 7.600000 & 26.85000 & 2.213896\\\\\n",
       "\\end{tabular}\n"
      ],
      "text/markdown": [
       "\n",
       "A tibble: 6 × 18\n",
       "\n",
       "| player &lt;chr&gt; | xslg &lt;dbl&gt; | xwoba &lt;dbl&gt; | xobp &lt;dbl&gt; | exit_velocity_avg &lt;dbl&gt; | launch_angle_avg &lt;dbl&gt; | sweet_spot_percent &lt;dbl&gt; | barrel_batted_rate &lt;dbl&gt; | solidcontact_percent &lt;dbl&gt; | hard_hit_percent &lt;dbl&gt; | z_swing_percent &lt;dbl&gt; | oz_swing_percent &lt;dbl&gt; | groundballs_percent &lt;dbl&gt; | flyballs_percent &lt;dbl&gt; | linedrives_percent &lt;dbl&gt; | popups_percent &lt;dbl&gt; | sprint_speed &lt;dbl&gt; | avg_fpoints &lt;dbl&gt; |\n",
       "|---|---|---|---|---|---|---|---|---|---|---|---|---|---|---|---|---|---|\n",
       "| Abreu, Jose       | 0.5117500 | 0.3697500 | 0.3520000 | 92.30000 | 10.05000 | 34.57500 | 11.700000 |  8.075000 | 50.65000 | 67.000 | 32.25000 | 46.55000 | 23.72500 | 25.00000 | 4.700000 | 26.47500 | 2.777493 |\n",
       "| Acuna Jr., Ronald | 0.5503333 | 0.3920000 | 0.3773333 | 91.40000 | 14.53333 | 35.76667 | 14.600000 | 11.066667 | 51.36667 | 68.700 | 22.76667 | 40.73333 | 28.70000 | 24.16667 | 6.400000 | 29.03333 | 2.891475 |\n",
       "| Adames, Willy     | 0.4300000 | 0.3187500 | 0.3077500 | 88.92500 | 14.75000 | 36.12500 | 10.675000 |  7.550000 | 41.10000 | 70.425 | 27.07500 | 40.92500 | 27.20000 | 24.37500 | 7.500000 | 28.07500 | 1.927085 |\n",
       "| Aguilar, Jesus    | 0.4326667 | 0.3256667 | 0.3216667 | 88.86667 | 18.03333 | 37.30000 |  7.533333 |  6.366667 | 38.16667 | 64.100 | 31.86667 | 34.56667 | 28.33333 | 28.60000 | 8.633333 | 24.23333 | 2.096501 |\n",
       "| Ahmed, Nick       | 0.3995000 | 0.3125000 | 0.3160000 | 87.75000 |  8.50000 | 32.90000 |  5.900000 |  5.350000 | 33.65000 | 70.800 | 29.10000 | 50.05000 | 18.90000 | 25.20000 | 5.800000 | 28.15000 | 2.110759 |\n",
       "| Alberto, Hanser   | 0.3555000 | 0.2805000 | 0.2885000 | 83.35000 | 12.55000 | 32.55000 |  1.950000 |  2.900000 | 19.60000 | 75.100 | 48.80000 | 47.65000 | 21.05000 | 23.65000 | 7.600000 | 26.85000 | 2.213896 |\n",
       "\n"
      ],
      "text/plain": [
       "  player            xslg      xwoba     xobp      exit_velocity_avg\n",
       "1 Abreu, Jose       0.5117500 0.3697500 0.3520000 92.30000         \n",
       "2 Acuna Jr., Ronald 0.5503333 0.3920000 0.3773333 91.40000         \n",
       "3 Adames, Willy     0.4300000 0.3187500 0.3077500 88.92500         \n",
       "4 Aguilar, Jesus    0.4326667 0.3256667 0.3216667 88.86667         \n",
       "5 Ahmed, Nick       0.3995000 0.3125000 0.3160000 87.75000         \n",
       "6 Alberto, Hanser   0.3555000 0.2805000 0.2885000 83.35000         \n",
       "  launch_angle_avg sweet_spot_percent barrel_batted_rate solidcontact_percent\n",
       "1 10.05000         34.57500           11.700000           8.075000           \n",
       "2 14.53333         35.76667           14.600000          11.066667           \n",
       "3 14.75000         36.12500           10.675000           7.550000           \n",
       "4 18.03333         37.30000            7.533333           6.366667           \n",
       "5  8.50000         32.90000            5.900000           5.350000           \n",
       "6 12.55000         32.55000            1.950000           2.900000           \n",
       "  hard_hit_percent z_swing_percent oz_swing_percent groundballs_percent\n",
       "1 50.65000         67.000          32.25000         46.55000           \n",
       "2 51.36667         68.700          22.76667         40.73333           \n",
       "3 41.10000         70.425          27.07500         40.92500           \n",
       "4 38.16667         64.100          31.86667         34.56667           \n",
       "5 33.65000         70.800          29.10000         50.05000           \n",
       "6 19.60000         75.100          48.80000         47.65000           \n",
       "  flyballs_percent linedrives_percent popups_percent sprint_speed avg_fpoints\n",
       "1 23.72500         25.00000           4.700000       26.47500     2.777493   \n",
       "2 28.70000         24.16667           6.400000       29.03333     2.891475   \n",
       "3 27.20000         24.37500           7.500000       28.07500     1.927085   \n",
       "4 28.33333         28.60000           8.633333       24.23333     2.096501   \n",
       "5 18.90000         25.20000           5.800000       28.15000     2.110759   \n",
       "6 21.05000         23.65000           7.600000       26.85000     2.213896   "
      ]
     },
     "metadata": {},
     "output_type": "display_data"
    }
   ],
   "source": [
    "full_data <- right_join(met, fpoints_grouped, by = \"player\")\n",
    "head(full_data)"
   ]
  },
  {
   "cell_type": "code",
   "execution_count": 31,
   "id": "e1e518b1-8d19-4537-9c10-75bc585d5504",
   "metadata": {},
   "outputs": [],
   "source": [
    "write_csv(full_data, \"data/full_data.csv\")"
   ]
  },
  {
   "cell_type": "code",
   "execution_count": null,
   "id": "20b92a6e-90bb-44b7-9ad5-669cd4748788",
   "metadata": {},
   "outputs": [],
   "source": []
  }
 ],
 "metadata": {
  "kernelspec": {
   "display_name": "R",
   "language": "R",
   "name": "ir"
  },
  "language_info": {
   "codemirror_mode": "r",
   "file_extension": ".r",
   "mimetype": "text/x-r-source",
   "name": "R",
   "pygments_lexer": "r",
   "version": "4.1.1"
  }
 },
 "nbformat": 4,
 "nbformat_minor": 5
}
