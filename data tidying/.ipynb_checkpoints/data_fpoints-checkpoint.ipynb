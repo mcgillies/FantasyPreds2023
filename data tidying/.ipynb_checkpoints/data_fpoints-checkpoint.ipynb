{
 "cells": [
  {
   "cell_type": "code",
   "execution_count": 1,
   "id": "a9092424-3d57-4f0c-901a-13a0b16af329",
   "metadata": {},
   "outputs": [
    {
     "name": "stderr",
     "output_type": "stream",
     "text": [
      "Warning message:\n",
      "“package ‘tidyverse’ was built under R version 4.1.2”\n",
      "── \u001b[1mAttaching packages\u001b[22m ─────────────────────────────────────── tidyverse 1.3.2 ──\n",
      "\u001b[32m✔\u001b[39m \u001b[34mggplot2\u001b[39m 3.4.0      \u001b[32m✔\u001b[39m \u001b[34mpurrr  \u001b[39m 0.3.4 \n",
      "\u001b[32m✔\u001b[39m \u001b[34mtibble \u001b[39m 3.1.8      \u001b[32m✔\u001b[39m \u001b[34mdplyr  \u001b[39m 1.0.10\n",
      "\u001b[32m✔\u001b[39m \u001b[34mtidyr  \u001b[39m 1.2.0      \u001b[32m✔\u001b[39m \u001b[34mstringr\u001b[39m 1.4.0 \n",
      "\u001b[32m✔\u001b[39m \u001b[34mreadr  \u001b[39m 2.1.3      \u001b[32m✔\u001b[39m \u001b[34mforcats\u001b[39m 0.5.1 \n",
      "Warning message:\n",
      "“package ‘ggplot2’ was built under R version 4.1.2”\n",
      "Warning message:\n",
      "“package ‘tibble’ was built under R version 4.1.2”\n",
      "Warning message:\n",
      "“package ‘tidyr’ was built under R version 4.1.2”\n",
      "Warning message:\n",
      "“package ‘readr’ was built under R version 4.1.2”\n",
      "Warning message:\n",
      "“package ‘dplyr’ was built under R version 4.1.2”\n",
      "── \u001b[1mConflicts\u001b[22m ────────────────────────────────────────── tidyverse_conflicts() ──\n",
      "\u001b[31m✖\u001b[39m \u001b[34mdplyr\u001b[39m::\u001b[32mfilter()\u001b[39m masks \u001b[34mstats\u001b[39m::filter()\n",
      "\u001b[31m✖\u001b[39m \u001b[34mdplyr\u001b[39m::\u001b[32mlag()\u001b[39m    masks \u001b[34mstats\u001b[39m::lag()\n",
      "Warning message:\n",
      "“package ‘repr’ was built under R version 4.1.2”\n",
      "\n",
      "Attaching package: ‘gridExtra’\n",
      "\n",
      "\n",
      "The following object is masked from ‘package:dplyr’:\n",
      "\n",
      "    combine\n",
      "\n",
      "\n",
      "Warning message:\n",
      "“package ‘tidymodels’ was built under R version 4.1.2”\n",
      "── \u001b[1mAttaching packages\u001b[22m ────────────────────────────────────── tidymodels 1.0.0 ──\n",
      "\n",
      "\u001b[32m✔\u001b[39m \u001b[34mbroom       \u001b[39m 1.0.1     \u001b[32m✔\u001b[39m \u001b[34mrsample     \u001b[39m 1.1.0\n",
      "\u001b[32m✔\u001b[39m \u001b[34mdials       \u001b[39m 1.1.0     \u001b[32m✔\u001b[39m \u001b[34mtune        \u001b[39m 1.0.1\n",
      "\u001b[32m✔\u001b[39m \u001b[34minfer       \u001b[39m 1.0.3     \u001b[32m✔\u001b[39m \u001b[34mworkflows   \u001b[39m 1.1.0\n",
      "\u001b[32m✔\u001b[39m \u001b[34mmodeldata   \u001b[39m 1.0.1     \u001b[32m✔\u001b[39m \u001b[34mworkflowsets\u001b[39m 1.0.0\n",
      "\u001b[32m✔\u001b[39m \u001b[34mparsnip     \u001b[39m 1.0.2     \u001b[32m✔\u001b[39m \u001b[34myardstick   \u001b[39m 1.1.0\n",
      "\u001b[32m✔\u001b[39m \u001b[34mrecipes     \u001b[39m 1.0.3     \n",
      "\n",
      "Warning message:\n",
      "“package ‘broom’ was built under R version 4.1.2”\n",
      "Warning message:\n",
      "“package ‘dials’ was built under R version 4.1.2”\n",
      "Warning message:\n",
      "“package ‘scales’ was built under R version 4.1.2”\n",
      "Warning message:\n",
      "“package ‘infer’ was built under R version 4.1.2”\n",
      "Warning message:\n",
      "“package ‘modeldata’ was built under R version 4.1.2”\n",
      "Warning message:\n",
      "“package ‘parsnip’ was built under R version 4.1.2”\n",
      "Warning message:\n",
      "“package ‘rsample’ was built under R version 4.1.2”\n",
      "Warning message:\n",
      "“package ‘tune’ was built under R version 4.1.2”\n",
      "Warning message:\n",
      "“package ‘workflows’ was built under R version 4.1.2”\n",
      "Warning message:\n",
      "“package ‘workflowsets’ was built under R version 4.1.2”\n",
      "Warning message:\n",
      "“package ‘yardstick’ was built under R version 4.1.2”\n",
      "── \u001b[1mConflicts\u001b[22m ───────────────────────────────────────── tidymodels_conflicts() ──\n",
      "\u001b[31m✖\u001b[39m \u001b[34mgridExtra\u001b[39m::\u001b[32mcombine()\u001b[39m masks \u001b[34mdplyr\u001b[39m::combine()\n",
      "\u001b[31m✖\u001b[39m \u001b[34mscales\u001b[39m::\u001b[32mdiscard()\u001b[39m    masks \u001b[34mpurrr\u001b[39m::discard()\n",
      "\u001b[31m✖\u001b[39m \u001b[34mdplyr\u001b[39m::\u001b[32mfilter()\u001b[39m      masks \u001b[34mstats\u001b[39m::filter()\n",
      "\u001b[31m✖\u001b[39m \u001b[34mrecipes\u001b[39m::\u001b[32mfixed()\u001b[39m     masks \u001b[34mstringr\u001b[39m::fixed()\n",
      "\u001b[31m✖\u001b[39m \u001b[34mdplyr\u001b[39m::\u001b[32mlag()\u001b[39m         masks \u001b[34mstats\u001b[39m::lag()\n",
      "\u001b[31m✖\u001b[39m \u001b[34myardstick\u001b[39m::\u001b[32mspec()\u001b[39m    masks \u001b[34mreadr\u001b[39m::spec()\n",
      "\u001b[31m✖\u001b[39m \u001b[34mrecipes\u001b[39m::\u001b[32mstep()\u001b[39m      masks \u001b[34mstats\u001b[39m::step()\n",
      "\u001b[34m•\u001b[39m Learn how to get started at \u001b[32mhttps://www.tidymodels.org/start/\u001b[39m\n",
      "\n",
      "Registered S3 method overwritten by 'GGally':\n",
      "  method from   \n",
      "  +.gg   ggplot2\n",
      "\n"
     ]
    }
   ],
   "source": [
    "library(tidyverse)\n",
    "library(repr)\n",
    "library(digest)\n",
    "library(gridExtra)\n",
    "library(cowplot)\n",
    "library(dplyr)\n",
    "library(tidymodels)\n",
    "library(GGally)\n",
    "library(splines)"
   ]
  },
  {
   "cell_type": "code",
   "execution_count": 2,
   "id": "ecbbd838-6573-4b31-8d5b-c274b3232d7b",
   "metadata": {},
   "outputs": [
    {
     "name": "stderr",
     "output_type": "stream",
     "text": [
      "\u001b[1m\u001b[22mNew names:\n",
      "\u001b[36m•\u001b[39m `` -> `...11`\n",
      "\u001b[1mRows: \u001b[22m\u001b[34m539\u001b[39m \u001b[1mColumns: \u001b[22m\u001b[34m11\u001b[39m\n",
      "\u001b[36m──\u001b[39m \u001b[1mColumn specification\u001b[22m \u001b[36m────────────────────────────────────────────────────────\u001b[39m\n",
      "\u001b[1mDelimiter:\u001b[22m \",\"\n",
      "\u001b[31mchr\u001b[39m (2): last_name, first_name\n",
      "\u001b[32mdbl\u001b[39m (8): player_id, year, b_strikeout, b_walk, b_rbi, b_total_bases, r_total...\n",
      "\u001b[33mlgl\u001b[39m (1): ...11\n",
      "\n",
      "\u001b[36mℹ\u001b[39m Use `spec()` to retrieve the full column specification for this data.\n",
      "\u001b[36mℹ\u001b[39m Specify the column types or set `show_col_types = FALSE` to quiet this message.\n"
     ]
    },
    {
     "data": {
      "text/html": [
       "<table class=\"dataframe\">\n",
       "<caption>A tibble: 6 × 11</caption>\n",
       "<thead>\n",
       "\t<tr><th scope=col>last_name</th><th scope=col>first_name</th><th scope=col>player_id</th><th scope=col>year</th><th scope=col>b_strikeout</th><th scope=col>b_walk</th><th scope=col>b_rbi</th><th scope=col>b_total_bases</th><th scope=col>r_total_stolen_base</th><th scope=col>r_run</th><th scope=col>...11</th></tr>\n",
       "\t<tr><th scope=col>&lt;chr&gt;</th><th scope=col>&lt;chr&gt;</th><th scope=col>&lt;dbl&gt;</th><th scope=col>&lt;dbl&gt;</th><th scope=col>&lt;dbl&gt;</th><th scope=col>&lt;dbl&gt;</th><th scope=col>&lt;dbl&gt;</th><th scope=col>&lt;dbl&gt;</th><th scope=col>&lt;dbl&gt;</th><th scope=col>&lt;dbl&gt;</th><th scope=col>&lt;lgl&gt;</th></tr>\n",
       "</thead>\n",
       "<tbody>\n",
       "\t<tr><td>Cruz Jr. </td><td>Nelson </td><td>443558</td><td>2022</td><td>119</td><td>49</td><td>64</td><td>151</td><td> 4</td><td>50</td><td>NA</td></tr>\n",
       "\t<tr><td>Blackmon </td><td>Charlie</td><td>453568</td><td>2022</td><td>109</td><td>32</td><td>78</td><td>222</td><td> 4</td><td>60</td><td>NA</td></tr>\n",
       "\t<tr><td>McCutchen</td><td>Andrew </td><td>457705</td><td>2022</td><td>124</td><td>57</td><td>69</td><td>198</td><td> 8</td><td>66</td><td>NA</td></tr>\n",
       "\t<tr><td>Turner   </td><td>Justin </td><td>457759</td><td>2022</td><td> 89</td><td>50</td><td>81</td><td>205</td><td> 3</td><td>61</td><td>NA</td></tr>\n",
       "\t<tr><td>Andrus   </td><td>Elvis  </td><td>462101</td><td>2022</td><td> 92</td><td>39</td><td>58</td><td>216</td><td>18</td><td>66</td><td>NA</td></tr>\n",
       "\t<tr><td>Santana  </td><td>Carlos </td><td>467793</td><td>2022</td><td> 88</td><td>71</td><td>60</td><td>162</td><td> 0</td><td>52</td><td>NA</td></tr>\n",
       "</tbody>\n",
       "</table>\n"
      ],
      "text/latex": [
       "A tibble: 6 × 11\n",
       "\\begin{tabular}{lllllllllll}\n",
       " last\\_name & first\\_name & player\\_id & year & b\\_strikeout & b\\_walk & b\\_rbi & b\\_total\\_bases & r\\_total\\_stolen\\_base & r\\_run & ...11\\\\\n",
       " <chr> & <chr> & <dbl> & <dbl> & <dbl> & <dbl> & <dbl> & <dbl> & <dbl> & <dbl> & <lgl>\\\\\n",
       "\\hline\n",
       "\t Cruz Jr.  & Nelson  & 443558 & 2022 & 119 & 49 & 64 & 151 &  4 & 50 & NA\\\\\n",
       "\t Blackmon  & Charlie & 453568 & 2022 & 109 & 32 & 78 & 222 &  4 & 60 & NA\\\\\n",
       "\t McCutchen & Andrew  & 457705 & 2022 & 124 & 57 & 69 & 198 &  8 & 66 & NA\\\\\n",
       "\t Turner    & Justin  & 457759 & 2022 &  89 & 50 & 81 & 205 &  3 & 61 & NA\\\\\n",
       "\t Andrus    & Elvis   & 462101 & 2022 &  92 & 39 & 58 & 216 & 18 & 66 & NA\\\\\n",
       "\t Santana   & Carlos  & 467793 & 2022 &  88 & 71 & 60 & 162 &  0 & 52 & NA\\\\\n",
       "\\end{tabular}\n"
      ],
      "text/markdown": [
       "\n",
       "A tibble: 6 × 11\n",
       "\n",
       "| last_name &lt;chr&gt; | first_name &lt;chr&gt; | player_id &lt;dbl&gt; | year &lt;dbl&gt; | b_strikeout &lt;dbl&gt; | b_walk &lt;dbl&gt; | b_rbi &lt;dbl&gt; | b_total_bases &lt;dbl&gt; | r_total_stolen_base &lt;dbl&gt; | r_run &lt;dbl&gt; | ...11 &lt;lgl&gt; |\n",
       "|---|---|---|---|---|---|---|---|---|---|---|\n",
       "| Cruz Jr.  | Nelson  | 443558 | 2022 | 119 | 49 | 64 | 151 |  4 | 50 | NA |\n",
       "| Blackmon  | Charlie | 453568 | 2022 | 109 | 32 | 78 | 222 |  4 | 60 | NA |\n",
       "| McCutchen | Andrew  | 457705 | 2022 | 124 | 57 | 69 | 198 |  8 | 66 | NA |\n",
       "| Turner    | Justin  | 457759 | 2022 |  89 | 50 | 81 | 205 |  3 | 61 | NA |\n",
       "| Andrus    | Elvis   | 462101 | 2022 |  92 | 39 | 58 | 216 | 18 | 66 | NA |\n",
       "| Santana   | Carlos  | 467793 | 2022 |  88 | 71 | 60 | 162 |  0 | 52 | NA |\n",
       "\n"
      ],
      "text/plain": [
       "  last_name first_name player_id year b_strikeout b_walk b_rbi b_total_bases\n",
       "1 Cruz Jr.  Nelson     443558    2022 119         49     64    151          \n",
       "2 Blackmon  Charlie    453568    2022 109         32     78    222          \n",
       "3 McCutchen Andrew     457705    2022 124         57     69    198          \n",
       "4 Turner    Justin     457759    2022  89         50     81    205          \n",
       "5 Andrus    Elvis      462101    2022  92         39     58    216          \n",
       "6 Santana   Carlos     467793    2022  88         71     60    162          \n",
       "  r_total_stolen_base r_run ...11\n",
       "1  4                  50    NA   \n",
       "2  4                  60    NA   \n",
       "3  8                  66    NA   \n",
       "4  3                  61    NA   \n",
       "5 18                  66    NA   \n",
       "6  0                  52    NA   "
      ]
     },
     "metadata": {},
     "output_type": "display_data"
    }
   ],
   "source": [
    "data <- read_csv(\"data/FantasyPointsData.csv\")\n",
    "head(data)"
   ]
  },
  {
   "cell_type": "code",
   "execution_count": 3,
   "id": "d0f3026e-8294-4a2f-8209-d00f4981660f",
   "metadata": {},
   "outputs": [
    {
     "data": {
      "text/html": [
       "<table class=\"dataframe\">\n",
       "<caption>A tibble: 6 × 9</caption>\n",
       "<thead>\n",
       "\t<tr><th scope=col>last_name</th><th scope=col>first_name</th><th scope=col>year</th><th scope=col>b_strikeout</th><th scope=col>b_walk</th><th scope=col>b_rbi</th><th scope=col>b_total_bases</th><th scope=col>r_total_stolen_base</th><th scope=col>r_run</th></tr>\n",
       "\t<tr><th scope=col>&lt;chr&gt;</th><th scope=col>&lt;chr&gt;</th><th scope=col>&lt;dbl&gt;</th><th scope=col>&lt;dbl&gt;</th><th scope=col>&lt;dbl&gt;</th><th scope=col>&lt;dbl&gt;</th><th scope=col>&lt;dbl&gt;</th><th scope=col>&lt;dbl&gt;</th><th scope=col>&lt;dbl&gt;</th></tr>\n",
       "</thead>\n",
       "<tbody>\n",
       "\t<tr><td>Cruz Jr. </td><td>Nelson </td><td>2022</td><td>119</td><td>49</td><td>64</td><td>151</td><td> 4</td><td>50</td></tr>\n",
       "\t<tr><td>Blackmon </td><td>Charlie</td><td>2022</td><td>109</td><td>32</td><td>78</td><td>222</td><td> 4</td><td>60</td></tr>\n",
       "\t<tr><td>McCutchen</td><td>Andrew </td><td>2022</td><td>124</td><td>57</td><td>69</td><td>198</td><td> 8</td><td>66</td></tr>\n",
       "\t<tr><td>Turner   </td><td>Justin </td><td>2022</td><td> 89</td><td>50</td><td>81</td><td>205</td><td> 3</td><td>61</td></tr>\n",
       "\t<tr><td>Andrus   </td><td>Elvis  </td><td>2022</td><td> 92</td><td>39</td><td>58</td><td>216</td><td>18</td><td>66</td></tr>\n",
       "\t<tr><td>Santana  </td><td>Carlos </td><td>2022</td><td> 88</td><td>71</td><td>60</td><td>162</td><td> 0</td><td>52</td></tr>\n",
       "</tbody>\n",
       "</table>\n"
      ],
      "text/latex": [
       "A tibble: 6 × 9\n",
       "\\begin{tabular}{lllllllll}\n",
       " last\\_name & first\\_name & year & b\\_strikeout & b\\_walk & b\\_rbi & b\\_total\\_bases & r\\_total\\_stolen\\_base & r\\_run\\\\\n",
       " <chr> & <chr> & <dbl> & <dbl> & <dbl> & <dbl> & <dbl> & <dbl> & <dbl>\\\\\n",
       "\\hline\n",
       "\t Cruz Jr.  & Nelson  & 2022 & 119 & 49 & 64 & 151 &  4 & 50\\\\\n",
       "\t Blackmon  & Charlie & 2022 & 109 & 32 & 78 & 222 &  4 & 60\\\\\n",
       "\t McCutchen & Andrew  & 2022 & 124 & 57 & 69 & 198 &  8 & 66\\\\\n",
       "\t Turner    & Justin  & 2022 &  89 & 50 & 81 & 205 &  3 & 61\\\\\n",
       "\t Andrus    & Elvis   & 2022 &  92 & 39 & 58 & 216 & 18 & 66\\\\\n",
       "\t Santana   & Carlos  & 2022 &  88 & 71 & 60 & 162 &  0 & 52\\\\\n",
       "\\end{tabular}\n"
      ],
      "text/markdown": [
       "\n",
       "A tibble: 6 × 9\n",
       "\n",
       "| last_name &lt;chr&gt; | first_name &lt;chr&gt; | year &lt;dbl&gt; | b_strikeout &lt;dbl&gt; | b_walk &lt;dbl&gt; | b_rbi &lt;dbl&gt; | b_total_bases &lt;dbl&gt; | r_total_stolen_base &lt;dbl&gt; | r_run &lt;dbl&gt; |\n",
       "|---|---|---|---|---|---|---|---|---|\n",
       "| Cruz Jr.  | Nelson  | 2022 | 119 | 49 | 64 | 151 |  4 | 50 |\n",
       "| Blackmon  | Charlie | 2022 | 109 | 32 | 78 | 222 |  4 | 60 |\n",
       "| McCutchen | Andrew  | 2022 | 124 | 57 | 69 | 198 |  8 | 66 |\n",
       "| Turner    | Justin  | 2022 |  89 | 50 | 81 | 205 |  3 | 61 |\n",
       "| Andrus    | Elvis   | 2022 |  92 | 39 | 58 | 216 | 18 | 66 |\n",
       "| Santana   | Carlos  | 2022 |  88 | 71 | 60 | 162 |  0 | 52 |\n",
       "\n"
      ],
      "text/plain": [
       "  last_name first_name year b_strikeout b_walk b_rbi b_total_bases\n",
       "1 Cruz Jr.  Nelson     2022 119         49     64    151          \n",
       "2 Blackmon  Charlie    2022 109         32     78    222          \n",
       "3 McCutchen Andrew     2022 124         57     69    198          \n",
       "4 Turner    Justin     2022  89         50     81    205          \n",
       "5 Andrus    Elvis      2022  92         39     58    216          \n",
       "6 Santana   Carlos     2022  88         71     60    162          \n",
       "  r_total_stolen_base r_run\n",
       "1  4                  50   \n",
       "2  4                  60   \n",
       "3  8                  66   \n",
       "4  3                  61   \n",
       "5 18                  66   \n",
       "6  0                  52   "
      ]
     },
     "metadata": {},
     "output_type": "display_data"
    }
   ],
   "source": [
    "selected <- data %>% select(-\"player_id\", -\"...11\")\n",
    "head(selected)"
   ]
  },
  {
   "cell_type": "code",
   "execution_count": 5,
   "id": "77197431-bde6-41bb-8df7-3aaf6c3d0b4e",
   "metadata": {},
   "outputs": [
    {
     "data": {
      "text/html": [
       "<table class=\"dataframe\">\n",
       "<caption>A tibble: 6 × 8</caption>\n",
       "<thead>\n",
       "\t<tr><th scope=col>player</th><th scope=col>year</th><th scope=col>K</th><th scope=col>BB</th><th scope=col>RBI</th><th scope=col>TB</th><th scope=col>SB</th><th scope=col>R</th></tr>\n",
       "\t<tr><th scope=col>&lt;chr&gt;</th><th scope=col>&lt;dbl&gt;</th><th scope=col>&lt;dbl&gt;</th><th scope=col>&lt;dbl&gt;</th><th scope=col>&lt;dbl&gt;</th><th scope=col>&lt;dbl&gt;</th><th scope=col>&lt;dbl&gt;</th><th scope=col>&lt;dbl&gt;</th></tr>\n",
       "</thead>\n",
       "<tbody>\n",
       "\t<tr><td>Cruz Jr., Nelson </td><td>2022</td><td>119</td><td>49</td><td>64</td><td>151</td><td> 4</td><td>50</td></tr>\n",
       "\t<tr><td>Blackmon, Charlie</td><td>2022</td><td>109</td><td>32</td><td>78</td><td>222</td><td> 4</td><td>60</td></tr>\n",
       "\t<tr><td>McCutchen, Andrew</td><td>2022</td><td>124</td><td>57</td><td>69</td><td>198</td><td> 8</td><td>66</td></tr>\n",
       "\t<tr><td>Turner, Justin   </td><td>2022</td><td> 89</td><td>50</td><td>81</td><td>205</td><td> 3</td><td>61</td></tr>\n",
       "\t<tr><td>Andrus, Elvis    </td><td>2022</td><td> 92</td><td>39</td><td>58</td><td>216</td><td>18</td><td>66</td></tr>\n",
       "\t<tr><td>Santana, Carlos  </td><td>2022</td><td> 88</td><td>71</td><td>60</td><td>162</td><td> 0</td><td>52</td></tr>\n",
       "</tbody>\n",
       "</table>\n"
      ],
      "text/latex": [
       "A tibble: 6 × 8\n",
       "\\begin{tabular}{llllllll}\n",
       " player & year & K & BB & RBI & TB & SB & R\\\\\n",
       " <chr> & <dbl> & <dbl> & <dbl> & <dbl> & <dbl> & <dbl> & <dbl>\\\\\n",
       "\\hline\n",
       "\t Cruz Jr., Nelson  & 2022 & 119 & 49 & 64 & 151 &  4 & 50\\\\\n",
       "\t Blackmon, Charlie & 2022 & 109 & 32 & 78 & 222 &  4 & 60\\\\\n",
       "\t McCutchen, Andrew & 2022 & 124 & 57 & 69 & 198 &  8 & 66\\\\\n",
       "\t Turner, Justin    & 2022 &  89 & 50 & 81 & 205 &  3 & 61\\\\\n",
       "\t Andrus, Elvis     & 2022 &  92 & 39 & 58 & 216 & 18 & 66\\\\\n",
       "\t Santana, Carlos   & 2022 &  88 & 71 & 60 & 162 &  0 & 52\\\\\n",
       "\\end{tabular}\n"
      ],
      "text/markdown": [
       "\n",
       "A tibble: 6 × 8\n",
       "\n",
       "| player &lt;chr&gt; | year &lt;dbl&gt; | K &lt;dbl&gt; | BB &lt;dbl&gt; | RBI &lt;dbl&gt; | TB &lt;dbl&gt; | SB &lt;dbl&gt; | R &lt;dbl&gt; |\n",
       "|---|---|---|---|---|---|---|---|\n",
       "| Cruz Jr., Nelson  | 2022 | 119 | 49 | 64 | 151 |  4 | 50 |\n",
       "| Blackmon, Charlie | 2022 | 109 | 32 | 78 | 222 |  4 | 60 |\n",
       "| McCutchen, Andrew | 2022 | 124 | 57 | 69 | 198 |  8 | 66 |\n",
       "| Turner, Justin    | 2022 |  89 | 50 | 81 | 205 |  3 | 61 |\n",
       "| Andrus, Elvis     | 2022 |  92 | 39 | 58 | 216 | 18 | 66 |\n",
       "| Santana, Carlos   | 2022 |  88 | 71 | 60 | 162 |  0 | 52 |\n",
       "\n"
      ],
      "text/plain": [
       "  player            year K   BB RBI TB  SB R \n",
       "1 Cruz Jr., Nelson  2022 119 49 64  151  4 50\n",
       "2 Blackmon, Charlie 2022 109 32 78  222  4 60\n",
       "3 McCutchen, Andrew 2022 124 57 69  198  8 66\n",
       "4 Turner, Justin    2022  89 50 81  205  3 61\n",
       "5 Andrus, Elvis     2022  92 39 58  216 18 66\n",
       "6 Santana, Carlos   2022  88 71 60  162  0 52"
      ]
     },
     "metadata": {},
     "output_type": "display_data"
    }
   ],
   "source": [
    "names <- selected %>% unite(\"player\", last_name:first_name, sep = \", \", remove = T) %>% \n",
    "rename(\"K\" = \"b_strikeout\", \"BB\" = \"b_walk\", \"RBI\" = \"b_rbi\", \"TB\" = \"b_total_bases\", \"SB\" = \"r_total_stolen_base\", \n",
    "           \"R\" = \"r_run\")\n",
    "head(names)\n",
    "                                                                                               \n"
   ]
  },
  {
   "cell_type": "code",
   "execution_count": 6,
   "id": "acb8171e-3a2c-4b4d-9574-4ad0b40698a4",
   "metadata": {},
   "outputs": [
    {
     "data": {
      "text/html": [
       "<table class=\"dataframe\">\n",
       "<caption>A tibble: 6 × 9</caption>\n",
       "<thead>\n",
       "\t<tr><th scope=col>player</th><th scope=col>year</th><th scope=col>K</th><th scope=col>BB</th><th scope=col>RBI</th><th scope=col>TB</th><th scope=col>SB</th><th scope=col>R</th><th scope=col>Fpoints</th></tr>\n",
       "\t<tr><th scope=col>&lt;chr&gt;</th><th scope=col>&lt;dbl&gt;</th><th scope=col>&lt;dbl&gt;</th><th scope=col>&lt;dbl&gt;</th><th scope=col>&lt;dbl&gt;</th><th scope=col>&lt;dbl&gt;</th><th scope=col>&lt;dbl&gt;</th><th scope=col>&lt;dbl&gt;</th><th scope=col>&lt;dbl&gt;</th></tr>\n",
       "</thead>\n",
       "<tbody>\n",
       "\t<tr><td>Cruz Jr., Nelson </td><td>2022</td><td>119</td><td>49</td><td>64</td><td>151</td><td> 4</td><td>50</td><td>199</td></tr>\n",
       "\t<tr><td>Blackmon, Charlie</td><td>2022</td><td>109</td><td>32</td><td>78</td><td>222</td><td> 4</td><td>60</td><td>287</td></tr>\n",
       "\t<tr><td>McCutchen, Andrew</td><td>2022</td><td>124</td><td>57</td><td>69</td><td>198</td><td> 8</td><td>66</td><td>274</td></tr>\n",
       "\t<tr><td>Turner, Justin   </td><td>2022</td><td> 89</td><td>50</td><td>81</td><td>205</td><td> 3</td><td>61</td><td>311</td></tr>\n",
       "\t<tr><td>Andrus, Elvis    </td><td>2022</td><td> 92</td><td>39</td><td>58</td><td>216</td><td>18</td><td>66</td><td>305</td></tr>\n",
       "\t<tr><td>Santana, Carlos  </td><td>2022</td><td> 88</td><td>71</td><td>60</td><td>162</td><td> 0</td><td>52</td><td>257</td></tr>\n",
       "</tbody>\n",
       "</table>\n"
      ],
      "text/latex": [
       "A tibble: 6 × 9\n",
       "\\begin{tabular}{lllllllll}\n",
       " player & year & K & BB & RBI & TB & SB & R & Fpoints\\\\\n",
       " <chr> & <dbl> & <dbl> & <dbl> & <dbl> & <dbl> & <dbl> & <dbl> & <dbl>\\\\\n",
       "\\hline\n",
       "\t Cruz Jr., Nelson  & 2022 & 119 & 49 & 64 & 151 &  4 & 50 & 199\\\\\n",
       "\t Blackmon, Charlie & 2022 & 109 & 32 & 78 & 222 &  4 & 60 & 287\\\\\n",
       "\t McCutchen, Andrew & 2022 & 124 & 57 & 69 & 198 &  8 & 66 & 274\\\\\n",
       "\t Turner, Justin    & 2022 &  89 & 50 & 81 & 205 &  3 & 61 & 311\\\\\n",
       "\t Andrus, Elvis     & 2022 &  92 & 39 & 58 & 216 & 18 & 66 & 305\\\\\n",
       "\t Santana, Carlos   & 2022 &  88 & 71 & 60 & 162 &  0 & 52 & 257\\\\\n",
       "\\end{tabular}\n"
      ],
      "text/markdown": [
       "\n",
       "A tibble: 6 × 9\n",
       "\n",
       "| player &lt;chr&gt; | year &lt;dbl&gt; | K &lt;dbl&gt; | BB &lt;dbl&gt; | RBI &lt;dbl&gt; | TB &lt;dbl&gt; | SB &lt;dbl&gt; | R &lt;dbl&gt; | Fpoints &lt;dbl&gt; |\n",
       "|---|---|---|---|---|---|---|---|---|\n",
       "| Cruz Jr., Nelson  | 2022 | 119 | 49 | 64 | 151 |  4 | 50 | 199 |\n",
       "| Blackmon, Charlie | 2022 | 109 | 32 | 78 | 222 |  4 | 60 | 287 |\n",
       "| McCutchen, Andrew | 2022 | 124 | 57 | 69 | 198 |  8 | 66 | 274 |\n",
       "| Turner, Justin    | 2022 |  89 | 50 | 81 | 205 |  3 | 61 | 311 |\n",
       "| Andrus, Elvis     | 2022 |  92 | 39 | 58 | 216 | 18 | 66 | 305 |\n",
       "| Santana, Carlos   | 2022 |  88 | 71 | 60 | 162 |  0 | 52 | 257 |\n",
       "\n"
      ],
      "text/plain": [
       "  player            year K   BB RBI TB  SB R  Fpoints\n",
       "1 Cruz Jr., Nelson  2022 119 49 64  151  4 50 199    \n",
       "2 Blackmon, Charlie 2022 109 32 78  222  4 60 287    \n",
       "3 McCutchen, Andrew 2022 124 57 69  198  8 66 274    \n",
       "4 Turner, Justin    2022  89 50 81  205  3 61 311    \n",
       "5 Andrus, Elvis     2022  92 39 58  216 18 66 305    \n",
       "6 Santana, Carlos   2022  88 71 60  162  0 52 257    "
      ]
     },
     "metadata": {},
     "output_type": "display_data"
    }
   ],
   "source": [
    "fpoints <- names %>% mutate(Fpoints = BB + RBI + TB + SB + R - K)\n",
    "head(fpoints)"
   ]
  },
  {
   "cell_type": "code",
   "execution_count": 7,
   "id": "654a5151-75e0-4433-ac54-3425e6dc0bd0",
   "metadata": {},
   "outputs": [],
   "source": [
    "write_csv(fpoints, \"data/fpoints_data.csv\")"
   ]
  },
  {
   "cell_type": "code",
   "execution_count": null,
   "id": "587678d4-93cc-4a9c-8b07-16c24d2ede3e",
   "metadata": {},
   "outputs": [],
   "source": []
  }
 ],
 "metadata": {
  "kernelspec": {
   "display_name": "R",
   "language": "R",
   "name": "ir"
  },
  "language_info": {
   "codemirror_mode": "r",
   "file_extension": ".r",
   "mimetype": "text/x-r-source",
   "name": "R",
   "pygments_lexer": "r",
   "version": "4.1.1"
  }
 },
 "nbformat": 4,
 "nbformat_minor": 5
}
