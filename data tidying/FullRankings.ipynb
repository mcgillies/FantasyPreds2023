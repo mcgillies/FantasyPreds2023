{
 "cells": [
  {
   "cell_type": "code",
   "execution_count": 1,
   "id": "d3bd97df-3d37-471d-922c-7d48a01153f5",
   "metadata": {},
   "outputs": [
    {
     "name": "stderr",
     "output_type": "stream",
     "text": [
      "Warning message:\n",
      "“package ‘tidyverse’ was built under R version 4.1.2”\n",
      "── \u001b[1mAttaching packages\u001b[22m ─────────────────────────────────────── tidyverse 1.3.2 ──\n",
      "\u001b[32m✔\u001b[39m \u001b[34mggplot2\u001b[39m 3.4.0      \u001b[32m✔\u001b[39m \u001b[34mpurrr  \u001b[39m 0.3.4 \n",
      "\u001b[32m✔\u001b[39m \u001b[34mtibble \u001b[39m 3.1.8      \u001b[32m✔\u001b[39m \u001b[34mdplyr  \u001b[39m 1.0.10\n",
      "\u001b[32m✔\u001b[39m \u001b[34mtidyr  \u001b[39m 1.2.0      \u001b[32m✔\u001b[39m \u001b[34mstringr\u001b[39m 1.4.0 \n",
      "\u001b[32m✔\u001b[39m \u001b[34mreadr  \u001b[39m 2.1.3      \u001b[32m✔\u001b[39m \u001b[34mforcats\u001b[39m 0.5.1 \n",
      "Warning message:\n",
      "“package ‘ggplot2’ was built under R version 4.1.2”\n",
      "Warning message:\n",
      "“package ‘tibble’ was built under R version 4.1.2”\n",
      "Warning message:\n",
      "“package ‘tidyr’ was built under R version 4.1.2”\n",
      "Warning message:\n",
      "“package ‘readr’ was built under R version 4.1.2”\n",
      "Warning message:\n",
      "“package ‘dplyr’ was built under R version 4.1.2”\n",
      "── \u001b[1mConflicts\u001b[22m ────────────────────────────────────────── tidyverse_conflicts() ──\n",
      "\u001b[31m✖\u001b[39m \u001b[34mdplyr\u001b[39m::\u001b[32mfilter()\u001b[39m masks \u001b[34mstats\u001b[39m::filter()\n",
      "\u001b[31m✖\u001b[39m \u001b[34mdplyr\u001b[39m::\u001b[32mlag()\u001b[39m    masks \u001b[34mstats\u001b[39m::lag()\n",
      "Warning message:\n",
      "“package ‘repr’ was built under R version 4.1.2”\n",
      "\n",
      "Attaching package: ‘gridExtra’\n",
      "\n",
      "\n",
      "The following object is masked from ‘package:dplyr’:\n",
      "\n",
      "    combine\n",
      "\n",
      "\n",
      "Warning message:\n",
      "“package ‘tidymodels’ was built under R version 4.1.2”\n",
      "── \u001b[1mAttaching packages\u001b[22m ────────────────────────────────────── tidymodels 1.0.0 ──\n",
      "\n",
      "\u001b[32m✔\u001b[39m \u001b[34mbroom       \u001b[39m 1.0.1     \u001b[32m✔\u001b[39m \u001b[34mrsample     \u001b[39m 1.1.0\n",
      "\u001b[32m✔\u001b[39m \u001b[34mdials       \u001b[39m 1.1.0     \u001b[32m✔\u001b[39m \u001b[34mtune        \u001b[39m 1.0.1\n",
      "\u001b[32m✔\u001b[39m \u001b[34minfer       \u001b[39m 1.0.3     \u001b[32m✔\u001b[39m \u001b[34mworkflows   \u001b[39m 1.1.0\n",
      "\u001b[32m✔\u001b[39m \u001b[34mmodeldata   \u001b[39m 1.0.1     \u001b[32m✔\u001b[39m \u001b[34mworkflowsets\u001b[39m 1.0.0\n",
      "\u001b[32m✔\u001b[39m \u001b[34mparsnip     \u001b[39m 1.0.2     \u001b[32m✔\u001b[39m \u001b[34myardstick   \u001b[39m 1.1.0\n",
      "\u001b[32m✔\u001b[39m \u001b[34mrecipes     \u001b[39m 1.0.3     \n",
      "\n",
      "Warning message:\n",
      "“package ‘broom’ was built under R version 4.1.2”\n",
      "Warning message:\n",
      "“package ‘dials’ was built under R version 4.1.2”\n",
      "Warning message:\n",
      "“package ‘scales’ was built under R version 4.1.2”\n",
      "Warning message:\n",
      "“package ‘infer’ was built under R version 4.1.2”\n",
      "Warning message:\n",
      "“package ‘modeldata’ was built under R version 4.1.2”\n",
      "Warning message:\n",
      "“package ‘parsnip’ was built under R version 4.1.2”\n",
      "Warning message:\n",
      "“package ‘rsample’ was built under R version 4.1.2”\n",
      "Warning message:\n",
      "“package ‘tune’ was built under R version 4.1.2”\n",
      "Warning message:\n",
      "“package ‘workflows’ was built under R version 4.1.2”\n",
      "Warning message:\n",
      "“package ‘workflowsets’ was built under R version 4.1.2”\n",
      "Warning message:\n",
      "“package ‘yardstick’ was built under R version 4.1.2”\n",
      "── \u001b[1mConflicts\u001b[22m ───────────────────────────────────────── tidymodels_conflicts() ──\n",
      "\u001b[31m✖\u001b[39m \u001b[34mgridExtra\u001b[39m::\u001b[32mcombine()\u001b[39m masks \u001b[34mdplyr\u001b[39m::combine()\n",
      "\u001b[31m✖\u001b[39m \u001b[34mscales\u001b[39m::\u001b[32mdiscard()\u001b[39m    masks \u001b[34mpurrr\u001b[39m::discard()\n",
      "\u001b[31m✖\u001b[39m \u001b[34mdplyr\u001b[39m::\u001b[32mfilter()\u001b[39m      masks \u001b[34mstats\u001b[39m::filter()\n",
      "\u001b[31m✖\u001b[39m \u001b[34mrecipes\u001b[39m::\u001b[32mfixed()\u001b[39m     masks \u001b[34mstringr\u001b[39m::fixed()\n",
      "\u001b[31m✖\u001b[39m \u001b[34mdplyr\u001b[39m::\u001b[32mlag()\u001b[39m         masks \u001b[34mstats\u001b[39m::lag()\n",
      "\u001b[31m✖\u001b[39m \u001b[34myardstick\u001b[39m::\u001b[32mspec()\u001b[39m    masks \u001b[34mreadr\u001b[39m::spec()\n",
      "\u001b[31m✖\u001b[39m \u001b[34mrecipes\u001b[39m::\u001b[32mstep()\u001b[39m      masks \u001b[34mstats\u001b[39m::step()\n",
      "\u001b[34m•\u001b[39m Learn how to get started at \u001b[32mhttps://www.tidymodels.org/start/\u001b[39m\n",
      "\n",
      "Registered S3 method overwritten by 'GGally':\n",
      "  method from   \n",
      "  +.gg   ggplot2\n",
      "\n"
     ]
    }
   ],
   "source": [
    "library(tidyverse)\n",
    "library(repr)\n",
    "library(digest)\n",
    "library(gridExtra)\n",
    "library(cowplot)\n",
    "library(dplyr)\n",
    "library(tidymodels)\n",
    "library(GGally)\n",
    "library(splines)"
   ]
  },
  {
   "cell_type": "code",
   "execution_count": 3,
   "id": "5119d184-1a56-4d5b-b275-3c4521452aa6",
   "metadata": {},
   "outputs": [
    {
     "name": "stderr",
     "output_type": "stream",
     "text": [
      "\u001b[1m\u001b[22mNew names:\n",
      "\u001b[36m•\u001b[39m `` -> `...1`\n",
      "\u001b[1mRows: \u001b[22m\u001b[34m417\u001b[39m \u001b[1mColumns: \u001b[22m\u001b[34m5\u001b[39m\n",
      "\u001b[36m──\u001b[39m \u001b[1mColumn specification\u001b[22m \u001b[36m────────────────────────────────────────────────────────\u001b[39m\n",
      "\u001b[1mDelimiter:\u001b[22m \",\"\n",
      "\u001b[31mchr\u001b[39m (2): player, Team\n",
      "\u001b[32mdbl\u001b[39m (3): ...1, final_pred, rank\n",
      "\n",
      "\u001b[36mℹ\u001b[39m Use `spec()` to retrieve the full column specification for this data.\n",
      "\u001b[36mℹ\u001b[39m Specify the column types or set `show_col_types = FALSE` to quiet this message.\n",
      "\u001b[1m\u001b[22mNew names:\n",
      "\u001b[36m•\u001b[39m `` -> `...1`\n",
      "\u001b[1mRows: \u001b[22m\u001b[34m239\u001b[39m \u001b[1mColumns: \u001b[22m\u001b[34m5\u001b[39m\n",
      "\u001b[36m──\u001b[39m \u001b[1mColumn specification\u001b[22m \u001b[36m────────────────────────────────────────────────────────\u001b[39m\n",
      "\u001b[1mDelimiter:\u001b[22m \",\"\n",
      "\u001b[31mchr\u001b[39m (2): player, Team\n",
      "\u001b[32mdbl\u001b[39m (3): ...1, final_pred, rank\n",
      "\n",
      "\u001b[36mℹ\u001b[39m Use `spec()` to retrieve the full column specification for this data.\n",
      "\u001b[36mℹ\u001b[39m Specify the column types or set `show_col_types = FALSE` to quiet this message.\n"
     ]
    },
    {
     "data": {
      "text/html": [
       "<table class=\"dataframe\">\n",
       "<caption>A tibble: 6 × 4</caption>\n",
       "<thead>\n",
       "\t<tr><th scope=col>player</th><th scope=col>Team</th><th scope=col>final_pred</th><th scope=col>rank</th></tr>\n",
       "\t<tr><th scope=col>&lt;chr&gt;</th><th scope=col>&lt;chr&gt;</th><th scope=col>&lt;dbl&gt;</th><th scope=col>&lt;dbl&gt;</th></tr>\n",
       "</thead>\n",
       "<tbody>\n",
       "\t<tr><td>Alvarez, Yordan       </td><td>HOU</td><td>544.5948</td><td>1</td></tr>\n",
       "\t<tr><td>Soto, Juan            </td><td>SD </td><td>540.5806</td><td>2</td></tr>\n",
       "\t<tr><td>Judge, Aaron          </td><td>NYY</td><td>531.6748</td><td>3</td></tr>\n",
       "\t<tr><td>Chapman, Matt         </td><td>TOR</td><td>458.0069</td><td>4</td></tr>\n",
       "\t<tr><td>Guerrero Jr., Vladimir</td><td>TOR</td><td>455.0376</td><td>5</td></tr>\n",
       "\t<tr><td>Goldschmidt, Paul     </td><td>STL</td><td>450.0728</td><td>6</td></tr>\n",
       "</tbody>\n",
       "</table>\n"
      ],
      "text/latex": [
       "A tibble: 6 × 4\n",
       "\\begin{tabular}{llll}\n",
       " player & Team & final\\_pred & rank\\\\\n",
       " <chr> & <chr> & <dbl> & <dbl>\\\\\n",
       "\\hline\n",
       "\t Alvarez, Yordan        & HOU & 544.5948 & 1\\\\\n",
       "\t Soto, Juan             & SD  & 540.5806 & 2\\\\\n",
       "\t Judge, Aaron           & NYY & 531.6748 & 3\\\\\n",
       "\t Chapman, Matt          & TOR & 458.0069 & 4\\\\\n",
       "\t Guerrero Jr., Vladimir & TOR & 455.0376 & 5\\\\\n",
       "\t Goldschmidt, Paul      & STL & 450.0728 & 6\\\\\n",
       "\\end{tabular}\n"
      ],
      "text/markdown": [
       "\n",
       "A tibble: 6 × 4\n",
       "\n",
       "| player &lt;chr&gt; | Team &lt;chr&gt; | final_pred &lt;dbl&gt; | rank &lt;dbl&gt; |\n",
       "|---|---|---|---|\n",
       "| Alvarez, Yordan        | HOU | 544.5948 | 1 |\n",
       "| Soto, Juan             | SD  | 540.5806 | 2 |\n",
       "| Judge, Aaron           | NYY | 531.6748 | 3 |\n",
       "| Chapman, Matt          | TOR | 458.0069 | 4 |\n",
       "| Guerrero Jr., Vladimir | TOR | 455.0376 | 5 |\n",
       "| Goldschmidt, Paul      | STL | 450.0728 | 6 |\n",
       "\n"
      ],
      "text/plain": [
       "  player                 Team final_pred rank\n",
       "1 Alvarez, Yordan        HOU  544.5948   1   \n",
       "2 Soto, Juan             SD   540.5806   2   \n",
       "3 Judge, Aaron           NYY  531.6748   3   \n",
       "4 Chapman, Matt          TOR  458.0069   4   \n",
       "5 Guerrero Jr., Vladimir TOR  455.0376   5   \n",
       "6 Goldschmidt, Paul      STL  450.0728   6   "
      ]
     },
     "metadata": {},
     "output_type": "display_data"
    },
    {
     "data": {
      "text/html": [
       "<table class=\"dataframe\">\n",
       "<caption>A tibble: 6 × 4</caption>\n",
       "<thead>\n",
       "\t<tr><th scope=col>player</th><th scope=col>Team</th><th scope=col>final_pred</th><th scope=col>rank</th></tr>\n",
       "\t<tr><th scope=col>&lt;chr&gt;</th><th scope=col>&lt;chr&gt;</th><th scope=col>&lt;dbl&gt;</th><th scope=col>&lt;dbl&gt;</th></tr>\n",
       "</thead>\n",
       "<tbody>\n",
       "\t<tr><td>Cole, Gerrit     </td><td>NYY</td><td>495.0817</td><td>1</td></tr>\n",
       "\t<tr><td>Strider, Spencer </td><td>ATL</td><td>490.8003</td><td>2</td></tr>\n",
       "\t<tr><td>Valdez, Framber  </td><td>HOU</td><td>472.3484</td><td>3</td></tr>\n",
       "\t<tr><td>Javier, Cristian </td><td>HOU</td><td>461.9255</td><td>4</td></tr>\n",
       "\t<tr><td>Nola, Aaron      </td><td>PHI</td><td>435.7937</td><td>5</td></tr>\n",
       "\t<tr><td>McClanahan, Shane</td><td>TBR</td><td>431.0342</td><td>6</td></tr>\n",
       "</tbody>\n",
       "</table>\n"
      ],
      "text/latex": [
       "A tibble: 6 × 4\n",
       "\\begin{tabular}{llll}\n",
       " player & Team & final\\_pred & rank\\\\\n",
       " <chr> & <chr> & <dbl> & <dbl>\\\\\n",
       "\\hline\n",
       "\t Cole, Gerrit      & NYY & 495.0817 & 1\\\\\n",
       "\t Strider, Spencer  & ATL & 490.8003 & 2\\\\\n",
       "\t Valdez, Framber   & HOU & 472.3484 & 3\\\\\n",
       "\t Javier, Cristian  & HOU & 461.9255 & 4\\\\\n",
       "\t Nola, Aaron       & PHI & 435.7937 & 5\\\\\n",
       "\t McClanahan, Shane & TBR & 431.0342 & 6\\\\\n",
       "\\end{tabular}\n"
      ],
      "text/markdown": [
       "\n",
       "A tibble: 6 × 4\n",
       "\n",
       "| player &lt;chr&gt; | Team &lt;chr&gt; | final_pred &lt;dbl&gt; | rank &lt;dbl&gt; |\n",
       "|---|---|---|---|\n",
       "| Cole, Gerrit      | NYY | 495.0817 | 1 |\n",
       "| Strider, Spencer  | ATL | 490.8003 | 2 |\n",
       "| Valdez, Framber   | HOU | 472.3484 | 3 |\n",
       "| Javier, Cristian  | HOU | 461.9255 | 4 |\n",
       "| Nola, Aaron       | PHI | 435.7937 | 5 |\n",
       "| McClanahan, Shane | TBR | 431.0342 | 6 |\n",
       "\n"
      ],
      "text/plain": [
       "  player            Team final_pred rank\n",
       "1 Cole, Gerrit      NYY  495.0817   1   \n",
       "2 Strider, Spencer  ATL  490.8003   2   \n",
       "3 Valdez, Framber   HOU  472.3484   3   \n",
       "4 Javier, Cristian  HOU  461.9255   4   \n",
       "5 Nola, Aaron       PHI  435.7937   5   \n",
       "6 McClanahan, Shane TBR  431.0342   6   "
      ]
     },
     "metadata": {},
     "output_type": "display_data"
    }
   ],
   "source": [
    "hitters <- read_csv(\"HitterRankings.csv\") %>% select(-\"...1\")\n",
    "pitchers <- read_csv(\"PitcherRankings.csv\") %>% select(-\"...1\")\n",
    "head(hitters)\n",
    "head(pitchers)"
   ]
  },
  {
   "cell_type": "code",
   "execution_count": 6,
   "id": "70ca0bae-58b4-4e14-8d18-ceed27f2321a",
   "metadata": {},
   "outputs": [
    {
     "data": {
      "text/html": [
       "<table class=\"dataframe\">\n",
       "<caption>A tibble: 6 × 3</caption>\n",
       "<thead>\n",
       "\t<tr><th scope=col>player</th><th scope=col>Team</th><th scope=col>final_pred</th></tr>\n",
       "\t<tr><th scope=col>&lt;chr&gt;</th><th scope=col>&lt;chr&gt;</th><th scope=col>&lt;dbl&gt;</th></tr>\n",
       "</thead>\n",
       "<tbody>\n",
       "\t<tr><td>Cole, Gerrit     </td><td>NYY</td><td>495.0817</td></tr>\n",
       "\t<tr><td>Strider, Spencer </td><td>ATL</td><td>490.8003</td></tr>\n",
       "\t<tr><td>Valdez, Framber  </td><td>HOU</td><td>472.3484</td></tr>\n",
       "\t<tr><td>Javier, Cristian </td><td>HOU</td><td>461.9255</td></tr>\n",
       "\t<tr><td>Nola, Aaron      </td><td>PHI</td><td>435.7937</td></tr>\n",
       "\t<tr><td>McClanahan, Shane</td><td>TBR</td><td>431.0342</td></tr>\n",
       "</tbody>\n",
       "</table>\n"
      ],
      "text/latex": [
       "A tibble: 6 × 3\n",
       "\\begin{tabular}{lll}\n",
       " player & Team & final\\_pred\\\\\n",
       " <chr> & <chr> & <dbl>\\\\\n",
       "\\hline\n",
       "\t Cole, Gerrit      & NYY & 495.0817\\\\\n",
       "\t Strider, Spencer  & ATL & 490.8003\\\\\n",
       "\t Valdez, Framber   & HOU & 472.3484\\\\\n",
       "\t Javier, Cristian  & HOU & 461.9255\\\\\n",
       "\t Nola, Aaron       & PHI & 435.7937\\\\\n",
       "\t McClanahan, Shane & TBR & 431.0342\\\\\n",
       "\\end{tabular}\n"
      ],
      "text/markdown": [
       "\n",
       "A tibble: 6 × 3\n",
       "\n",
       "| player &lt;chr&gt; | Team &lt;chr&gt; | final_pred &lt;dbl&gt; |\n",
       "|---|---|---|\n",
       "| Cole, Gerrit      | NYY | 495.0817 |\n",
       "| Strider, Spencer  | ATL | 490.8003 |\n",
       "| Valdez, Framber   | HOU | 472.3484 |\n",
       "| Javier, Cristian  | HOU | 461.9255 |\n",
       "| Nola, Aaron       | PHI | 435.7937 |\n",
       "| McClanahan, Shane | TBR | 431.0342 |\n",
       "\n"
      ],
      "text/plain": [
       "  player            Team final_pred\n",
       "1 Cole, Gerrit      NYY  495.0817  \n",
       "2 Strider, Spencer  ATL  490.8003  \n",
       "3 Valdez, Framber   HOU  472.3484  \n",
       "4 Javier, Cristian  HOU  461.9255  \n",
       "5 Nola, Aaron       PHI  435.7937  \n",
       "6 McClanahan, Shane TBR  431.0342  "
      ]
     },
     "metadata": {},
     "output_type": "display_data"
    }
   ],
   "source": [
    "full_rankings <- rbind(pitchers, hitters) %>% select(-rank)\n",
    "head(full_rankings)"
   ]
  },
  {
   "cell_type": "code",
   "execution_count": 9,
   "id": "4a7ef6f6-50fc-48b2-9c33-332ccc8f1c32",
   "metadata": {},
   "outputs": [
    {
     "data": {
      "text/html": [
       "<table class=\"dataframe\">\n",
       "<caption>A tibble: 6 × 4</caption>\n",
       "<thead>\n",
       "\t<tr><th scope=col>player</th><th scope=col>Team</th><th scope=col>final_pred</th><th scope=col>rank</th></tr>\n",
       "\t<tr><th scope=col>&lt;chr&gt;</th><th scope=col>&lt;chr&gt;</th><th scope=col>&lt;dbl&gt;</th><th scope=col>&lt;dbl&gt;</th></tr>\n",
       "</thead>\n",
       "<tbody>\n",
       "\t<tr><td>Alvarez, Yordan </td><td>HOU</td><td>544.5948</td><td>656</td></tr>\n",
       "\t<tr><td>Soto, Juan      </td><td>SD </td><td>540.5806</td><td>655</td></tr>\n",
       "\t<tr><td>Judge, Aaron    </td><td>NYY</td><td>531.6748</td><td>654</td></tr>\n",
       "\t<tr><td>Cole, Gerrit    </td><td>NYY</td><td>495.0817</td><td>653</td></tr>\n",
       "\t<tr><td>Strider, Spencer</td><td>ATL</td><td>490.8003</td><td>652</td></tr>\n",
       "\t<tr><td>Valdez, Framber </td><td>HOU</td><td>472.3484</td><td>651</td></tr>\n",
       "</tbody>\n",
       "</table>\n"
      ],
      "text/latex": [
       "A tibble: 6 × 4\n",
       "\\begin{tabular}{llll}\n",
       " player & Team & final\\_pred & rank\\\\\n",
       " <chr> & <chr> & <dbl> & <dbl>\\\\\n",
       "\\hline\n",
       "\t Alvarez, Yordan  & HOU & 544.5948 & 656\\\\\n",
       "\t Soto, Juan       & SD  & 540.5806 & 655\\\\\n",
       "\t Judge, Aaron     & NYY & 531.6748 & 654\\\\\n",
       "\t Cole, Gerrit     & NYY & 495.0817 & 653\\\\\n",
       "\t Strider, Spencer & ATL & 490.8003 & 652\\\\\n",
       "\t Valdez, Framber  & HOU & 472.3484 & 651\\\\\n",
       "\\end{tabular}\n"
      ],
      "text/markdown": [
       "\n",
       "A tibble: 6 × 4\n",
       "\n",
       "| player &lt;chr&gt; | Team &lt;chr&gt; | final_pred &lt;dbl&gt; | rank &lt;dbl&gt; |\n",
       "|---|---|---|---|\n",
       "| Alvarez, Yordan  | HOU | 544.5948 | 656 |\n",
       "| Soto, Juan       | SD  | 540.5806 | 655 |\n",
       "| Judge, Aaron     | NYY | 531.6748 | 654 |\n",
       "| Cole, Gerrit     | NYY | 495.0817 | 653 |\n",
       "| Strider, Spencer | ATL | 490.8003 | 652 |\n",
       "| Valdez, Framber  | HOU | 472.3484 | 651 |\n",
       "\n"
      ],
      "text/plain": [
       "  player           Team final_pred rank\n",
       "1 Alvarez, Yordan  HOU  544.5948   656 \n",
       "2 Soto, Juan       SD   540.5806   655 \n",
       "3 Judge, Aaron     NYY  531.6748   654 \n",
       "4 Cole, Gerrit     NYY  495.0817   653 \n",
       "5 Strider, Spencer ATL  490.8003   652 \n",
       "6 Valdez, Framber  HOU  472.3484   651 "
      ]
     },
     "metadata": {},
     "output_type": "display_data"
    }
   ],
   "source": [
    "ranks <- order(full_rankings$final_pred, decreasing = TRUE)\n",
    "full <- full_rankings[ranks,]\n",
    "full$rank <- rank(full$final_pred)\n",
    "head(full)"
   ]
  },
  {
   "cell_type": "code",
   "execution_count": null,
   "id": "e391c570-339e-40d0-973b-1ba9a1bcc280",
   "metadata": {},
   "outputs": [],
   "source": []
  }
 ],
 "metadata": {
  "kernelspec": {
   "display_name": "R",
   "language": "R",
   "name": "ir"
  },
  "language_info": {
   "codemirror_mode": "r",
   "file_extension": ".r",
   "mimetype": "text/x-r-source",
   "name": "R",
   "pygments_lexer": "r",
   "version": "4.1.1"
  }
 },
 "nbformat": 4,
 "nbformat_minor": 5
}
