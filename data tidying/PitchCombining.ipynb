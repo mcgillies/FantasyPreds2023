{
 "cells": [
  {
   "cell_type": "code",
   "execution_count": 1,
   "id": "27c75245-0dcc-4e28-9fe1-231e7fb7d880",
   "metadata": {},
   "outputs": [
    {
     "name": "stderr",
     "output_type": "stream",
     "text": [
      "Warning message:\n",
      "“package ‘tidyverse’ was built under R version 4.1.2”\n",
      "── \u001b[1mAttaching packages\u001b[22m ─────────────────────────────────────── tidyverse 1.3.2 ──\n",
      "\u001b[32m✔\u001b[39m \u001b[34mggplot2\u001b[39m 3.4.0      \u001b[32m✔\u001b[39m \u001b[34mpurrr  \u001b[39m 0.3.4 \n",
      "\u001b[32m✔\u001b[39m \u001b[34mtibble \u001b[39m 3.1.8      \u001b[32m✔\u001b[39m \u001b[34mdplyr  \u001b[39m 1.0.10\n",
      "\u001b[32m✔\u001b[39m \u001b[34mtidyr  \u001b[39m 1.2.0      \u001b[32m✔\u001b[39m \u001b[34mstringr\u001b[39m 1.4.0 \n",
      "\u001b[32m✔\u001b[39m \u001b[34mreadr  \u001b[39m 2.1.3      \u001b[32m✔\u001b[39m \u001b[34mforcats\u001b[39m 0.5.1 \n",
      "Warning message:\n",
      "“package ‘ggplot2’ was built under R version 4.1.2”\n",
      "Warning message:\n",
      "“package ‘tibble’ was built under R version 4.1.2”\n",
      "Warning message:\n",
      "“package ‘tidyr’ was built under R version 4.1.2”\n",
      "Warning message:\n",
      "“package ‘readr’ was built under R version 4.1.2”\n",
      "Warning message:\n",
      "“package ‘dplyr’ was built under R version 4.1.2”\n",
      "── \u001b[1mConflicts\u001b[22m ────────────────────────────────────────── tidyverse_conflicts() ──\n",
      "\u001b[31m✖\u001b[39m \u001b[34mdplyr\u001b[39m::\u001b[32mfilter()\u001b[39m masks \u001b[34mstats\u001b[39m::filter()\n",
      "\u001b[31m✖\u001b[39m \u001b[34mdplyr\u001b[39m::\u001b[32mlag()\u001b[39m    masks \u001b[34mstats\u001b[39m::lag()\n",
      "Warning message:\n",
      "“package ‘repr’ was built under R version 4.1.2”\n",
      "\n",
      "Attaching package: ‘gridExtra’\n",
      "\n",
      "\n",
      "The following object is masked from ‘package:dplyr’:\n",
      "\n",
      "    combine\n",
      "\n",
      "\n",
      "Warning message:\n",
      "“package ‘tidymodels’ was built under R version 4.1.2”\n",
      "── \u001b[1mAttaching packages\u001b[22m ────────────────────────────────────── tidymodels 1.0.0 ──\n",
      "\n",
      "\u001b[32m✔\u001b[39m \u001b[34mbroom       \u001b[39m 1.0.1     \u001b[32m✔\u001b[39m \u001b[34mrsample     \u001b[39m 1.1.0\n",
      "\u001b[32m✔\u001b[39m \u001b[34mdials       \u001b[39m 1.1.0     \u001b[32m✔\u001b[39m \u001b[34mtune        \u001b[39m 1.0.1\n",
      "\u001b[32m✔\u001b[39m \u001b[34minfer       \u001b[39m 1.0.3     \u001b[32m✔\u001b[39m \u001b[34mworkflows   \u001b[39m 1.1.0\n",
      "\u001b[32m✔\u001b[39m \u001b[34mmodeldata   \u001b[39m 1.0.1     \u001b[32m✔\u001b[39m \u001b[34mworkflowsets\u001b[39m 1.0.0\n",
      "\u001b[32m✔\u001b[39m \u001b[34mparsnip     \u001b[39m 1.0.2     \u001b[32m✔\u001b[39m \u001b[34myardstick   \u001b[39m 1.1.0\n",
      "\u001b[32m✔\u001b[39m \u001b[34mrecipes     \u001b[39m 1.0.3     \n",
      "\n",
      "Warning message:\n",
      "“package ‘broom’ was built under R version 4.1.2”\n",
      "Warning message:\n",
      "“package ‘dials’ was built under R version 4.1.2”\n",
      "Warning message:\n",
      "“package ‘scales’ was built under R version 4.1.2”\n",
      "Warning message:\n",
      "“package ‘infer’ was built under R version 4.1.2”\n",
      "Warning message:\n",
      "“package ‘modeldata’ was built under R version 4.1.2”\n",
      "Warning message:\n",
      "“package ‘parsnip’ was built under R version 4.1.2”\n",
      "Warning message:\n",
      "“package ‘rsample’ was built under R version 4.1.2”\n",
      "Warning message:\n",
      "“package ‘tune’ was built under R version 4.1.2”\n",
      "Warning message:\n",
      "“package ‘workflows’ was built under R version 4.1.2”\n",
      "Warning message:\n",
      "“package ‘workflowsets’ was built under R version 4.1.2”\n",
      "Warning message:\n",
      "“package ‘yardstick’ was built under R version 4.1.2”\n",
      "── \u001b[1mConflicts\u001b[22m ───────────────────────────────────────── tidymodels_conflicts() ──\n",
      "\u001b[31m✖\u001b[39m \u001b[34mgridExtra\u001b[39m::\u001b[32mcombine()\u001b[39m masks \u001b[34mdplyr\u001b[39m::combine()\n",
      "\u001b[31m✖\u001b[39m \u001b[34mscales\u001b[39m::\u001b[32mdiscard()\u001b[39m    masks \u001b[34mpurrr\u001b[39m::discard()\n",
      "\u001b[31m✖\u001b[39m \u001b[34mdplyr\u001b[39m::\u001b[32mfilter()\u001b[39m      masks \u001b[34mstats\u001b[39m::filter()\n",
      "\u001b[31m✖\u001b[39m \u001b[34mrecipes\u001b[39m::\u001b[32mfixed()\u001b[39m     masks \u001b[34mstringr\u001b[39m::fixed()\n",
      "\u001b[31m✖\u001b[39m \u001b[34mdplyr\u001b[39m::\u001b[32mlag()\u001b[39m         masks \u001b[34mstats\u001b[39m::lag()\n",
      "\u001b[31m✖\u001b[39m \u001b[34myardstick\u001b[39m::\u001b[32mspec()\u001b[39m    masks \u001b[34mreadr\u001b[39m::spec()\n",
      "\u001b[31m✖\u001b[39m \u001b[34mrecipes\u001b[39m::\u001b[32mstep()\u001b[39m      masks \u001b[34mstats\u001b[39m::step()\n",
      "\u001b[34m•\u001b[39m Use suppressPackageStartupMessages() to eliminate package startup messages\n",
      "\n",
      "Registered S3 method overwritten by 'GGally':\n",
      "  method from   \n",
      "  +.gg   ggplot2\n",
      "\n"
     ]
    }
   ],
   "source": [
    "library(tidyverse)\n",
    "library(repr)\n",
    "library(digest)\n",
    "library(gridExtra)\n",
    "library(cowplot)\n",
    "library(dplyr)\n",
    "library(tidymodels)\n",
    "library(GGally)\n",
    "library(splines)"
   ]
  },
  {
   "cell_type": "code",
   "execution_count": 2,
   "id": "731381a1-1898-4a7b-84f2-0000a811ccd0",
   "metadata": {},
   "outputs": [
    {
     "name": "stderr",
     "output_type": "stream",
     "text": [
      "\u001b[1m\u001b[22mNew names:\n",
      "\u001b[36m•\u001b[39m `` -> `...28`\n",
      "\u001b[1mRows: \u001b[22m\u001b[34m1831\u001b[39m \u001b[1mColumns: \u001b[22m\u001b[34m28\u001b[39m\n",
      "\u001b[36m──\u001b[39m \u001b[1mColumn specification\u001b[22m \u001b[36m────────────────────────────────────────────────────────\u001b[39m\n",
      "\u001b[1mDelimiter:\u001b[22m \",\"\n",
      "\u001b[31mchr\u001b[39m  (2): last_name, first_name\n",
      "\u001b[32mdbl\u001b[39m (25): player_id, year, p_k_percent, p_bb_percent, xslg, xwoba, xobp, xwo...\n",
      "\u001b[33mlgl\u001b[39m  (1): ...28\n",
      "\n",
      "\u001b[36mℹ\u001b[39m Use `spec()` to retrieve the full column specification for this data.\n",
      "\u001b[36mℹ\u001b[39m Specify the column types or set `show_col_types = FALSE` to quiet this message.\n"
     ]
    },
    {
     "data": {
      "text/html": [
       "<table class=\"dataframe\">\n",
       "<caption>A tibble: 6 × 28</caption>\n",
       "<thead>\n",
       "\t<tr><th scope=col>last_name</th><th scope=col>first_name</th><th scope=col>player_id</th><th scope=col>year</th><th scope=col>p_k_percent</th><th scope=col>p_bb_percent</th><th scope=col>xslg</th><th scope=col>xwoba</th><th scope=col>xobp</th><th scope=col>xwobacon</th><th scope=col>⋯</th><th scope=col>out_zone_percent</th><th scope=col>edge_percent</th><th scope=col>whiff_percent</th><th scope=col>swing_percent</th><th scope=col>f_strike_percent</th><th scope=col>groundballs_percent</th><th scope=col>flyballs_percent</th><th scope=col>linedrives_percent</th><th scope=col>popups_percent</th><th scope=col>...28</th></tr>\n",
       "\t<tr><th scope=col>&lt;chr&gt;</th><th scope=col>&lt;chr&gt;</th><th scope=col>&lt;dbl&gt;</th><th scope=col>&lt;dbl&gt;</th><th scope=col>&lt;dbl&gt;</th><th scope=col>&lt;dbl&gt;</th><th scope=col>&lt;dbl&gt;</th><th scope=col>&lt;dbl&gt;</th><th scope=col>&lt;dbl&gt;</th><th scope=col>&lt;dbl&gt;</th><th scope=col>⋯</th><th scope=col>&lt;dbl&gt;</th><th scope=col>&lt;dbl&gt;</th><th scope=col>&lt;dbl&gt;</th><th scope=col>&lt;dbl&gt;</th><th scope=col>&lt;dbl&gt;</th><th scope=col>&lt;dbl&gt;</th><th scope=col>&lt;dbl&gt;</th><th scope=col>&lt;dbl&gt;</th><th scope=col>&lt;dbl&gt;</th><th scope=col>&lt;lgl&gt;</th></tr>\n",
       "</thead>\n",
       "<tbody>\n",
       "\t<tr><td>Wainwright</td><td>Adam    </td><td>425794</td><td>2021</td><td>21.0</td><td> 6.0</td><td>0.388</td><td>0.302</td><td>0.305</td><td>0.353</td><td>⋯</td><td>50.5</td><td>45.4</td><td>19.7</td><td>43.8</td><td>64.4</td><td>48.7</td><td>21.5</td><td>25.4</td><td> 4.4</td><td>NA</td></tr>\n",
       "\t<tr><td>Greinke   </td><td>Zack    </td><td>425844</td><td>2021</td><td>17.2</td><td> 5.2</td><td>0.430</td><td>0.320</td><td>0.307</td><td>0.365</td><td>⋯</td><td>54.1</td><td>42.9</td><td>21.8</td><td>46.0</td><td>66.0</td><td>45.6</td><td>23.9</td><td>25.0</td><td> 5.4</td><td>NA</td></tr>\n",
       "\t<tr><td>Santana   </td><td>Ervin   </td><td>429722</td><td>2021</td><td>18.8</td><td> 7.9</td><td>0.533</td><td>0.369</td><td>0.339</td><td>0.427</td><td>⋯</td><td>54.5</td><td>40.0</td><td>24.7</td><td>48.0</td><td>59.8</td><td>36.8</td><td>30.8</td><td>27.4</td><td> 5.0</td><td>NA</td></tr>\n",
       "\t<tr><td>Petit     </td><td>Yusmeiro</td><td>433589</td><td>2021</td><td>11.8</td><td> 3.8</td><td>0.455</td><td>0.320</td><td>0.295</td><td>0.348</td><td>⋯</td><td>51.3</td><td>43.3</td><td>21.0</td><td>51.8</td><td>62.5</td><td>37.6</td><td>26.2</td><td>23.2</td><td>12.9</td><td>NA</td></tr>\n",
       "\t<tr><td>Kintzler  </td><td>Brandon </td><td>445213</td><td>2021</td><td>15.6</td><td> 5.7</td><td>0.519</td><td>0.376</td><td>0.361</td><td>0.431</td><td>⋯</td><td>51.0</td><td>42.2</td><td>15.8</td><td>45.9</td><td>59.7</td><td>58.2</td><td>14.5</td><td>24.5</td><td> 2.7</td><td>NA</td></tr>\n",
       "\t<tr><td>Jansen    </td><td>Kenley  </td><td>445276</td><td>2021</td><td>30.9</td><td>12.9</td><td>0.270</td><td>0.260</td><td>0.295</td><td>0.310</td><td>⋯</td><td>47.6</td><td>41.5</td><td>33.1</td><td>50.1</td><td>62.8</td><td>37.9</td><td>30.1</td><td>19.0</td><td>13.1</td><td>NA</td></tr>\n",
       "</tbody>\n",
       "</table>\n"
      ],
      "text/latex": [
       "A tibble: 6 × 28\n",
       "\\begin{tabular}{lllllllllllllllllllll}\n",
       " last\\_name & first\\_name & player\\_id & year & p\\_k\\_percent & p\\_bb\\_percent & xslg & xwoba & xobp & xwobacon & ⋯ & out\\_zone\\_percent & edge\\_percent & whiff\\_percent & swing\\_percent & f\\_strike\\_percent & groundballs\\_percent & flyballs\\_percent & linedrives\\_percent & popups\\_percent & ...28\\\\\n",
       " <chr> & <chr> & <dbl> & <dbl> & <dbl> & <dbl> & <dbl> & <dbl> & <dbl> & <dbl> & ⋯ & <dbl> & <dbl> & <dbl> & <dbl> & <dbl> & <dbl> & <dbl> & <dbl> & <dbl> & <lgl>\\\\\n",
       "\\hline\n",
       "\t Wainwright & Adam     & 425794 & 2021 & 21.0 &  6.0 & 0.388 & 0.302 & 0.305 & 0.353 & ⋯ & 50.5 & 45.4 & 19.7 & 43.8 & 64.4 & 48.7 & 21.5 & 25.4 &  4.4 & NA\\\\\n",
       "\t Greinke    & Zack     & 425844 & 2021 & 17.2 &  5.2 & 0.430 & 0.320 & 0.307 & 0.365 & ⋯ & 54.1 & 42.9 & 21.8 & 46.0 & 66.0 & 45.6 & 23.9 & 25.0 &  5.4 & NA\\\\\n",
       "\t Santana    & Ervin    & 429722 & 2021 & 18.8 &  7.9 & 0.533 & 0.369 & 0.339 & 0.427 & ⋯ & 54.5 & 40.0 & 24.7 & 48.0 & 59.8 & 36.8 & 30.8 & 27.4 &  5.0 & NA\\\\\n",
       "\t Petit      & Yusmeiro & 433589 & 2021 & 11.8 &  3.8 & 0.455 & 0.320 & 0.295 & 0.348 & ⋯ & 51.3 & 43.3 & 21.0 & 51.8 & 62.5 & 37.6 & 26.2 & 23.2 & 12.9 & NA\\\\\n",
       "\t Kintzler   & Brandon  & 445213 & 2021 & 15.6 &  5.7 & 0.519 & 0.376 & 0.361 & 0.431 & ⋯ & 51.0 & 42.2 & 15.8 & 45.9 & 59.7 & 58.2 & 14.5 & 24.5 &  2.7 & NA\\\\\n",
       "\t Jansen     & Kenley   & 445276 & 2021 & 30.9 & 12.9 & 0.270 & 0.260 & 0.295 & 0.310 & ⋯ & 47.6 & 41.5 & 33.1 & 50.1 & 62.8 & 37.9 & 30.1 & 19.0 & 13.1 & NA\\\\\n",
       "\\end{tabular}\n"
      ],
      "text/markdown": [
       "\n",
       "A tibble: 6 × 28\n",
       "\n",
       "| last_name &lt;chr&gt; | first_name &lt;chr&gt; | player_id &lt;dbl&gt; | year &lt;dbl&gt; | p_k_percent &lt;dbl&gt; | p_bb_percent &lt;dbl&gt; | xslg &lt;dbl&gt; | xwoba &lt;dbl&gt; | xobp &lt;dbl&gt; | xwobacon &lt;dbl&gt; | ⋯ ⋯ | out_zone_percent &lt;dbl&gt; | edge_percent &lt;dbl&gt; | whiff_percent &lt;dbl&gt; | swing_percent &lt;dbl&gt; | f_strike_percent &lt;dbl&gt; | groundballs_percent &lt;dbl&gt; | flyballs_percent &lt;dbl&gt; | linedrives_percent &lt;dbl&gt; | popups_percent &lt;dbl&gt; | ...28 &lt;lgl&gt; |\n",
       "|---|---|---|---|---|---|---|---|---|---|---|---|---|---|---|---|---|---|---|---|---|\n",
       "| Wainwright | Adam     | 425794 | 2021 | 21.0 |  6.0 | 0.388 | 0.302 | 0.305 | 0.353 | ⋯ | 50.5 | 45.4 | 19.7 | 43.8 | 64.4 | 48.7 | 21.5 | 25.4 |  4.4 | NA |\n",
       "| Greinke    | Zack     | 425844 | 2021 | 17.2 |  5.2 | 0.430 | 0.320 | 0.307 | 0.365 | ⋯ | 54.1 | 42.9 | 21.8 | 46.0 | 66.0 | 45.6 | 23.9 | 25.0 |  5.4 | NA |\n",
       "| Santana    | Ervin    | 429722 | 2021 | 18.8 |  7.9 | 0.533 | 0.369 | 0.339 | 0.427 | ⋯ | 54.5 | 40.0 | 24.7 | 48.0 | 59.8 | 36.8 | 30.8 | 27.4 |  5.0 | NA |\n",
       "| Petit      | Yusmeiro | 433589 | 2021 | 11.8 |  3.8 | 0.455 | 0.320 | 0.295 | 0.348 | ⋯ | 51.3 | 43.3 | 21.0 | 51.8 | 62.5 | 37.6 | 26.2 | 23.2 | 12.9 | NA |\n",
       "| Kintzler   | Brandon  | 445213 | 2021 | 15.6 |  5.7 | 0.519 | 0.376 | 0.361 | 0.431 | ⋯ | 51.0 | 42.2 | 15.8 | 45.9 | 59.7 | 58.2 | 14.5 | 24.5 |  2.7 | NA |\n",
       "| Jansen     | Kenley   | 445276 | 2021 | 30.9 | 12.9 | 0.270 | 0.260 | 0.295 | 0.310 | ⋯ | 47.6 | 41.5 | 33.1 | 50.1 | 62.8 | 37.9 | 30.1 | 19.0 | 13.1 | NA |\n",
       "\n"
      ],
      "text/plain": [
       "  last_name  first_name player_id year p_k_percent p_bb_percent xslg  xwoba\n",
       "1 Wainwright Adam       425794    2021 21.0         6.0         0.388 0.302\n",
       "2 Greinke    Zack       425844    2021 17.2         5.2         0.430 0.320\n",
       "3 Santana    Ervin      429722    2021 18.8         7.9         0.533 0.369\n",
       "4 Petit      Yusmeiro   433589    2021 11.8         3.8         0.455 0.320\n",
       "5 Kintzler   Brandon    445213    2021 15.6         5.7         0.519 0.376\n",
       "6 Jansen     Kenley     445276    2021 30.9        12.9         0.270 0.260\n",
       "  xobp  xwobacon ⋯ out_zone_percent edge_percent whiff_percent swing_percent\n",
       "1 0.305 0.353    ⋯ 50.5             45.4         19.7          43.8         \n",
       "2 0.307 0.365    ⋯ 54.1             42.9         21.8          46.0         \n",
       "3 0.339 0.427    ⋯ 54.5             40.0         24.7          48.0         \n",
       "4 0.295 0.348    ⋯ 51.3             43.3         21.0          51.8         \n",
       "5 0.361 0.431    ⋯ 51.0             42.2         15.8          45.9         \n",
       "6 0.295 0.310    ⋯ 47.6             41.5         33.1          50.1         \n",
       "  f_strike_percent groundballs_percent flyballs_percent linedrives_percent\n",
       "1 64.4             48.7                21.5             25.4              \n",
       "2 66.0             45.6                23.9             25.0              \n",
       "3 59.8             36.8                30.8             27.4              \n",
       "4 62.5             37.6                26.2             23.2              \n",
       "5 59.7             58.2                14.5             24.5              \n",
       "6 62.8             37.9                30.1             19.0              \n",
       "  popups_percent ...28\n",
       "1  4.4           NA   \n",
       "2  5.4           NA   \n",
       "3  5.0           NA   \n",
       "4 12.9           NA   \n",
       "5  2.7           NA   \n",
       "6 13.1           NA   "
      ]
     },
     "metadata": {},
     "output_type": "display_data"
    }
   ],
   "source": [
    "setwd(\"/Users/matthewgillies/FantasyPreds2023\")\n",
    "mets <- read_csv(\"data/PitchMetricsBase.csv\")\n",
    "head(mets)"
   ]
  },
  {
   "cell_type": "code",
   "execution_count": 3,
   "id": "eb7aea0c-c702-43ee-a3ab-7199595a3a98",
   "metadata": {},
   "outputs": [
    {
     "data": {
      "text/html": [
       "<table class=\"dataframe\">\n",
       "<caption>A tibble: 6 × 26</caption>\n",
       "<thead>\n",
       "\t<tr><th scope=col>last_name</th><th scope=col>first_name</th><th scope=col>year</th><th scope=col>p_k_percent</th><th scope=col>p_bb_percent</th><th scope=col>xslg</th><th scope=col>xwoba</th><th scope=col>xobp</th><th scope=col>xwobacon</th><th scope=col>exit_velocity_avg</th><th scope=col>⋯</th><th scope=col>oz_swing_miss_percent</th><th scope=col>out_zone_percent</th><th scope=col>edge_percent</th><th scope=col>whiff_percent</th><th scope=col>swing_percent</th><th scope=col>f_strike_percent</th><th scope=col>groundballs_percent</th><th scope=col>flyballs_percent</th><th scope=col>linedrives_percent</th><th scope=col>popups_percent</th></tr>\n",
       "\t<tr><th scope=col>&lt;chr&gt;</th><th scope=col>&lt;chr&gt;</th><th scope=col>&lt;dbl&gt;</th><th scope=col>&lt;dbl&gt;</th><th scope=col>&lt;dbl&gt;</th><th scope=col>&lt;dbl&gt;</th><th scope=col>&lt;dbl&gt;</th><th scope=col>&lt;dbl&gt;</th><th scope=col>&lt;dbl&gt;</th><th scope=col>&lt;dbl&gt;</th><th scope=col>⋯</th><th scope=col>&lt;dbl&gt;</th><th scope=col>&lt;dbl&gt;</th><th scope=col>&lt;dbl&gt;</th><th scope=col>&lt;dbl&gt;</th><th scope=col>&lt;dbl&gt;</th><th scope=col>&lt;dbl&gt;</th><th scope=col>&lt;dbl&gt;</th><th scope=col>&lt;dbl&gt;</th><th scope=col>&lt;dbl&gt;</th><th scope=col>&lt;dbl&gt;</th></tr>\n",
       "</thead>\n",
       "<tbody>\n",
       "\t<tr><td>Wainwright</td><td>Adam    </td><td>2021</td><td>21.0</td><td> 6.0</td><td>0.388</td><td>0.302</td><td>0.305</td><td>0.353</td><td>88.2</td><td>⋯</td><td>36.7</td><td>50.5</td><td>45.4</td><td>19.7</td><td>43.8</td><td>64.4</td><td>48.7</td><td>21.5</td><td>25.4</td><td> 4.4</td></tr>\n",
       "\t<tr><td>Greinke   </td><td>Zack    </td><td>2021</td><td>17.2</td><td> 5.2</td><td>0.430</td><td>0.320</td><td>0.307</td><td>0.365</td><td>88.3</td><td>⋯</td><td>40.1</td><td>54.1</td><td>42.9</td><td>21.8</td><td>46.0</td><td>66.0</td><td>45.6</td><td>23.9</td><td>25.0</td><td> 5.4</td></tr>\n",
       "\t<tr><td>Santana   </td><td>Ervin   </td><td>2021</td><td>18.8</td><td> 7.9</td><td>0.533</td><td>0.369</td><td>0.339</td><td>0.427</td><td>90.2</td><td>⋯</td><td>46.0</td><td>54.5</td><td>40.0</td><td>24.7</td><td>48.0</td><td>59.8</td><td>36.8</td><td>30.8</td><td>27.4</td><td> 5.0</td></tr>\n",
       "\t<tr><td>Petit     </td><td>Yusmeiro</td><td>2021</td><td>11.8</td><td> 3.8</td><td>0.455</td><td>0.320</td><td>0.295</td><td>0.348</td><td>86.5</td><td>⋯</td><td>26.8</td><td>51.3</td><td>43.3</td><td>21.0</td><td>51.8</td><td>62.5</td><td>37.6</td><td>26.2</td><td>23.2</td><td>12.9</td></tr>\n",
       "\t<tr><td>Kintzler  </td><td>Brandon </td><td>2021</td><td>15.6</td><td> 5.7</td><td>0.519</td><td>0.376</td><td>0.361</td><td>0.431</td><td>91.7</td><td>⋯</td><td>31.3</td><td>51.0</td><td>42.2</td><td>15.8</td><td>45.9</td><td>59.7</td><td>58.2</td><td>14.5</td><td>24.5</td><td> 2.7</td></tr>\n",
       "\t<tr><td>Jansen    </td><td>Kenley  </td><td>2021</td><td>30.9</td><td>12.9</td><td>0.270</td><td>0.260</td><td>0.295</td><td>0.310</td><td>84.0</td><td>⋯</td><td>45.3</td><td>47.6</td><td>41.5</td><td>33.1</td><td>50.1</td><td>62.8</td><td>37.9</td><td>30.1</td><td>19.0</td><td>13.1</td></tr>\n",
       "</tbody>\n",
       "</table>\n"
      ],
      "text/latex": [
       "A tibble: 6 × 26\n",
       "\\begin{tabular}{lllllllllllllllllllll}\n",
       " last\\_name & first\\_name & year & p\\_k\\_percent & p\\_bb\\_percent & xslg & xwoba & xobp & xwobacon & exit\\_velocity\\_avg & ⋯ & oz\\_swing\\_miss\\_percent & out\\_zone\\_percent & edge\\_percent & whiff\\_percent & swing\\_percent & f\\_strike\\_percent & groundballs\\_percent & flyballs\\_percent & linedrives\\_percent & popups\\_percent\\\\\n",
       " <chr> & <chr> & <dbl> & <dbl> & <dbl> & <dbl> & <dbl> & <dbl> & <dbl> & <dbl> & ⋯ & <dbl> & <dbl> & <dbl> & <dbl> & <dbl> & <dbl> & <dbl> & <dbl> & <dbl> & <dbl>\\\\\n",
       "\\hline\n",
       "\t Wainwright & Adam     & 2021 & 21.0 &  6.0 & 0.388 & 0.302 & 0.305 & 0.353 & 88.2 & ⋯ & 36.7 & 50.5 & 45.4 & 19.7 & 43.8 & 64.4 & 48.7 & 21.5 & 25.4 &  4.4\\\\\n",
       "\t Greinke    & Zack     & 2021 & 17.2 &  5.2 & 0.430 & 0.320 & 0.307 & 0.365 & 88.3 & ⋯ & 40.1 & 54.1 & 42.9 & 21.8 & 46.0 & 66.0 & 45.6 & 23.9 & 25.0 &  5.4\\\\\n",
       "\t Santana    & Ervin    & 2021 & 18.8 &  7.9 & 0.533 & 0.369 & 0.339 & 0.427 & 90.2 & ⋯ & 46.0 & 54.5 & 40.0 & 24.7 & 48.0 & 59.8 & 36.8 & 30.8 & 27.4 &  5.0\\\\\n",
       "\t Petit      & Yusmeiro & 2021 & 11.8 &  3.8 & 0.455 & 0.320 & 0.295 & 0.348 & 86.5 & ⋯ & 26.8 & 51.3 & 43.3 & 21.0 & 51.8 & 62.5 & 37.6 & 26.2 & 23.2 & 12.9\\\\\n",
       "\t Kintzler   & Brandon  & 2021 & 15.6 &  5.7 & 0.519 & 0.376 & 0.361 & 0.431 & 91.7 & ⋯ & 31.3 & 51.0 & 42.2 & 15.8 & 45.9 & 59.7 & 58.2 & 14.5 & 24.5 &  2.7\\\\\n",
       "\t Jansen     & Kenley   & 2021 & 30.9 & 12.9 & 0.270 & 0.260 & 0.295 & 0.310 & 84.0 & ⋯ & 45.3 & 47.6 & 41.5 & 33.1 & 50.1 & 62.8 & 37.9 & 30.1 & 19.0 & 13.1\\\\\n",
       "\\end{tabular}\n"
      ],
      "text/markdown": [
       "\n",
       "A tibble: 6 × 26\n",
       "\n",
       "| last_name &lt;chr&gt; | first_name &lt;chr&gt; | year &lt;dbl&gt; | p_k_percent &lt;dbl&gt; | p_bb_percent &lt;dbl&gt; | xslg &lt;dbl&gt; | xwoba &lt;dbl&gt; | xobp &lt;dbl&gt; | xwobacon &lt;dbl&gt; | exit_velocity_avg &lt;dbl&gt; | ⋯ ⋯ | oz_swing_miss_percent &lt;dbl&gt; | out_zone_percent &lt;dbl&gt; | edge_percent &lt;dbl&gt; | whiff_percent &lt;dbl&gt; | swing_percent &lt;dbl&gt; | f_strike_percent &lt;dbl&gt; | groundballs_percent &lt;dbl&gt; | flyballs_percent &lt;dbl&gt; | linedrives_percent &lt;dbl&gt; | popups_percent &lt;dbl&gt; |\n",
       "|---|---|---|---|---|---|---|---|---|---|---|---|---|---|---|---|---|---|---|---|---|\n",
       "| Wainwright | Adam     | 2021 | 21.0 |  6.0 | 0.388 | 0.302 | 0.305 | 0.353 | 88.2 | ⋯ | 36.7 | 50.5 | 45.4 | 19.7 | 43.8 | 64.4 | 48.7 | 21.5 | 25.4 |  4.4 |\n",
       "| Greinke    | Zack     | 2021 | 17.2 |  5.2 | 0.430 | 0.320 | 0.307 | 0.365 | 88.3 | ⋯ | 40.1 | 54.1 | 42.9 | 21.8 | 46.0 | 66.0 | 45.6 | 23.9 | 25.0 |  5.4 |\n",
       "| Santana    | Ervin    | 2021 | 18.8 |  7.9 | 0.533 | 0.369 | 0.339 | 0.427 | 90.2 | ⋯ | 46.0 | 54.5 | 40.0 | 24.7 | 48.0 | 59.8 | 36.8 | 30.8 | 27.4 |  5.0 |\n",
       "| Petit      | Yusmeiro | 2021 | 11.8 |  3.8 | 0.455 | 0.320 | 0.295 | 0.348 | 86.5 | ⋯ | 26.8 | 51.3 | 43.3 | 21.0 | 51.8 | 62.5 | 37.6 | 26.2 | 23.2 | 12.9 |\n",
       "| Kintzler   | Brandon  | 2021 | 15.6 |  5.7 | 0.519 | 0.376 | 0.361 | 0.431 | 91.7 | ⋯ | 31.3 | 51.0 | 42.2 | 15.8 | 45.9 | 59.7 | 58.2 | 14.5 | 24.5 |  2.7 |\n",
       "| Jansen     | Kenley   | 2021 | 30.9 | 12.9 | 0.270 | 0.260 | 0.295 | 0.310 | 84.0 | ⋯ | 45.3 | 47.6 | 41.5 | 33.1 | 50.1 | 62.8 | 37.9 | 30.1 | 19.0 | 13.1 |\n",
       "\n"
      ],
      "text/plain": [
       "  last_name  first_name year p_k_percent p_bb_percent xslg  xwoba xobp \n",
       "1 Wainwright Adam       2021 21.0         6.0         0.388 0.302 0.305\n",
       "2 Greinke    Zack       2021 17.2         5.2         0.430 0.320 0.307\n",
       "3 Santana    Ervin      2021 18.8         7.9         0.533 0.369 0.339\n",
       "4 Petit      Yusmeiro   2021 11.8         3.8         0.455 0.320 0.295\n",
       "5 Kintzler   Brandon    2021 15.6         5.7         0.519 0.376 0.361\n",
       "6 Jansen     Kenley     2021 30.9        12.9         0.270 0.260 0.295\n",
       "  xwobacon exit_velocity_avg ⋯ oz_swing_miss_percent out_zone_percent\n",
       "1 0.353    88.2              ⋯ 36.7                  50.5            \n",
       "2 0.365    88.3              ⋯ 40.1                  54.1            \n",
       "3 0.427    90.2              ⋯ 46.0                  54.5            \n",
       "4 0.348    86.5              ⋯ 26.8                  51.3            \n",
       "5 0.431    91.7              ⋯ 31.3                  51.0            \n",
       "6 0.310    84.0              ⋯ 45.3                  47.6            \n",
       "  edge_percent whiff_percent swing_percent f_strike_percent groundballs_percent\n",
       "1 45.4         19.7          43.8          64.4             48.7               \n",
       "2 42.9         21.8          46.0          66.0             45.6               \n",
       "3 40.0         24.7          48.0          59.8             36.8               \n",
       "4 43.3         21.0          51.8          62.5             37.6               \n",
       "5 42.2         15.8          45.9          59.7             58.2               \n",
       "6 41.5         33.1          50.1          62.8             37.9               \n",
       "  flyballs_percent linedrives_percent popups_percent\n",
       "1 21.5             25.4                4.4          \n",
       "2 23.9             25.0                5.4          \n",
       "3 30.8             27.4                5.0          \n",
       "4 26.2             23.2               12.9          \n",
       "5 14.5             24.5                2.7          \n",
       "6 30.1             19.0               13.1          "
      ]
     },
     "metadata": {},
     "output_type": "display_data"
    }
   ],
   "source": [
    "selected <- mets %>% select(-player_id, -\"...28\")\n",
    "head(selected)"
   ]
  },
  {
   "cell_type": "code",
   "execution_count": 4,
   "id": "c4fdbc22-1733-49e2-a991-8defc9c74619",
   "metadata": {},
   "outputs": [
    {
     "data": {
      "text/html": [
       "<table class=\"dataframe\">\n",
       "<caption>A tibble: 6 × 25</caption>\n",
       "<thead>\n",
       "\t<tr><th scope=col>player</th><th scope=col>year</th><th scope=col>p_k_percent</th><th scope=col>p_bb_percent</th><th scope=col>xslg</th><th scope=col>xwoba</th><th scope=col>xobp</th><th scope=col>xwobacon</th><th scope=col>exit_velocity_avg</th><th scope=col>launch_angle_avg</th><th scope=col>⋯</th><th scope=col>oz_swing_miss_percent</th><th scope=col>out_zone_percent</th><th scope=col>edge_percent</th><th scope=col>whiff_percent</th><th scope=col>swing_percent</th><th scope=col>f_strike_percent</th><th scope=col>groundballs_percent</th><th scope=col>flyballs_percent</th><th scope=col>linedrives_percent</th><th scope=col>popups_percent</th></tr>\n",
       "\t<tr><th scope=col>&lt;chr&gt;</th><th scope=col>&lt;dbl&gt;</th><th scope=col>&lt;dbl&gt;</th><th scope=col>&lt;dbl&gt;</th><th scope=col>&lt;dbl&gt;</th><th scope=col>&lt;dbl&gt;</th><th scope=col>&lt;dbl&gt;</th><th scope=col>&lt;dbl&gt;</th><th scope=col>&lt;dbl&gt;</th><th scope=col>&lt;dbl&gt;</th><th scope=col>⋯</th><th scope=col>&lt;dbl&gt;</th><th scope=col>&lt;dbl&gt;</th><th scope=col>&lt;dbl&gt;</th><th scope=col>&lt;dbl&gt;</th><th scope=col>&lt;dbl&gt;</th><th scope=col>&lt;dbl&gt;</th><th scope=col>&lt;dbl&gt;</th><th scope=col>&lt;dbl&gt;</th><th scope=col>&lt;dbl&gt;</th><th scope=col>&lt;dbl&gt;</th></tr>\n",
       "</thead>\n",
       "<tbody>\n",
       "\t<tr><td>Wainwright, Adam </td><td>2022</td><td>21.0</td><td> 6.0</td><td>0.388</td><td>0.302</td><td>0.305</td><td>0.353</td><td>88.2</td><td>10.0</td><td>⋯</td><td>36.7</td><td>50.5</td><td>45.4</td><td>19.7</td><td>43.8</td><td>64.4</td><td>48.7</td><td>21.5</td><td>25.4</td><td> 4.4</td></tr>\n",
       "\t<tr><td>Greinke, Zack    </td><td>2022</td><td>17.2</td><td> 5.2</td><td>0.430</td><td>0.320</td><td>0.307</td><td>0.365</td><td>88.3</td><td>10.6</td><td>⋯</td><td>40.1</td><td>54.1</td><td>42.9</td><td>21.8</td><td>46.0</td><td>66.0</td><td>45.6</td><td>23.9</td><td>25.0</td><td> 5.4</td></tr>\n",
       "\t<tr><td>Santana, Ervin   </td><td>2022</td><td>18.8</td><td> 7.9</td><td>0.533</td><td>0.369</td><td>0.339</td><td>0.427</td><td>90.2</td><td>13.8</td><td>⋯</td><td>46.0</td><td>54.5</td><td>40.0</td><td>24.7</td><td>48.0</td><td>59.8</td><td>36.8</td><td>30.8</td><td>27.4</td><td> 5.0</td></tr>\n",
       "\t<tr><td>Petit, Yusmeiro  </td><td>2022</td><td>11.8</td><td> 3.8</td><td>0.455</td><td>0.320</td><td>0.295</td><td>0.348</td><td>86.5</td><td>19.7</td><td>⋯</td><td>26.8</td><td>51.3</td><td>43.3</td><td>21.0</td><td>51.8</td><td>62.5</td><td>37.6</td><td>26.2</td><td>23.2</td><td>12.9</td></tr>\n",
       "\t<tr><td>Kintzler, Brandon</td><td>2022</td><td>15.6</td><td> 5.7</td><td>0.519</td><td>0.376</td><td>0.361</td><td>0.431</td><td>91.7</td><td> 3.1</td><td>⋯</td><td>31.3</td><td>51.0</td><td>42.2</td><td>15.8</td><td>45.9</td><td>59.7</td><td>58.2</td><td>14.5</td><td>24.5</td><td> 2.7</td></tr>\n",
       "\t<tr><td>Jansen, Kenley   </td><td>2022</td><td>30.9</td><td>12.9</td><td>0.270</td><td>0.260</td><td>0.295</td><td>0.310</td><td>84.0</td><td>19.8</td><td>⋯</td><td>45.3</td><td>47.6</td><td>41.5</td><td>33.1</td><td>50.1</td><td>62.8</td><td>37.9</td><td>30.1</td><td>19.0</td><td>13.1</td></tr>\n",
       "</tbody>\n",
       "</table>\n"
      ],
      "text/latex": [
       "A tibble: 6 × 25\n",
       "\\begin{tabular}{lllllllllllllllllllll}\n",
       " player & year & p\\_k\\_percent & p\\_bb\\_percent & xslg & xwoba & xobp & xwobacon & exit\\_velocity\\_avg & launch\\_angle\\_avg & ⋯ & oz\\_swing\\_miss\\_percent & out\\_zone\\_percent & edge\\_percent & whiff\\_percent & swing\\_percent & f\\_strike\\_percent & groundballs\\_percent & flyballs\\_percent & linedrives\\_percent & popups\\_percent\\\\\n",
       " <chr> & <dbl> & <dbl> & <dbl> & <dbl> & <dbl> & <dbl> & <dbl> & <dbl> & <dbl> & ⋯ & <dbl> & <dbl> & <dbl> & <dbl> & <dbl> & <dbl> & <dbl> & <dbl> & <dbl> & <dbl>\\\\\n",
       "\\hline\n",
       "\t Wainwright, Adam  & 2022 & 21.0 &  6.0 & 0.388 & 0.302 & 0.305 & 0.353 & 88.2 & 10.0 & ⋯ & 36.7 & 50.5 & 45.4 & 19.7 & 43.8 & 64.4 & 48.7 & 21.5 & 25.4 &  4.4\\\\\n",
       "\t Greinke, Zack     & 2022 & 17.2 &  5.2 & 0.430 & 0.320 & 0.307 & 0.365 & 88.3 & 10.6 & ⋯ & 40.1 & 54.1 & 42.9 & 21.8 & 46.0 & 66.0 & 45.6 & 23.9 & 25.0 &  5.4\\\\\n",
       "\t Santana, Ervin    & 2022 & 18.8 &  7.9 & 0.533 & 0.369 & 0.339 & 0.427 & 90.2 & 13.8 & ⋯ & 46.0 & 54.5 & 40.0 & 24.7 & 48.0 & 59.8 & 36.8 & 30.8 & 27.4 &  5.0\\\\\n",
       "\t Petit, Yusmeiro   & 2022 & 11.8 &  3.8 & 0.455 & 0.320 & 0.295 & 0.348 & 86.5 & 19.7 & ⋯ & 26.8 & 51.3 & 43.3 & 21.0 & 51.8 & 62.5 & 37.6 & 26.2 & 23.2 & 12.9\\\\\n",
       "\t Kintzler, Brandon & 2022 & 15.6 &  5.7 & 0.519 & 0.376 & 0.361 & 0.431 & 91.7 &  3.1 & ⋯ & 31.3 & 51.0 & 42.2 & 15.8 & 45.9 & 59.7 & 58.2 & 14.5 & 24.5 &  2.7\\\\\n",
       "\t Jansen, Kenley    & 2022 & 30.9 & 12.9 & 0.270 & 0.260 & 0.295 & 0.310 & 84.0 & 19.8 & ⋯ & 45.3 & 47.6 & 41.5 & 33.1 & 50.1 & 62.8 & 37.9 & 30.1 & 19.0 & 13.1\\\\\n",
       "\\end{tabular}\n"
      ],
      "text/markdown": [
       "\n",
       "A tibble: 6 × 25\n",
       "\n",
       "| player &lt;chr&gt; | year &lt;dbl&gt; | p_k_percent &lt;dbl&gt; | p_bb_percent &lt;dbl&gt; | xslg &lt;dbl&gt; | xwoba &lt;dbl&gt; | xobp &lt;dbl&gt; | xwobacon &lt;dbl&gt; | exit_velocity_avg &lt;dbl&gt; | launch_angle_avg &lt;dbl&gt; | ⋯ ⋯ | oz_swing_miss_percent &lt;dbl&gt; | out_zone_percent &lt;dbl&gt; | edge_percent &lt;dbl&gt; | whiff_percent &lt;dbl&gt; | swing_percent &lt;dbl&gt; | f_strike_percent &lt;dbl&gt; | groundballs_percent &lt;dbl&gt; | flyballs_percent &lt;dbl&gt; | linedrives_percent &lt;dbl&gt; | popups_percent &lt;dbl&gt; |\n",
       "|---|---|---|---|---|---|---|---|---|---|---|---|---|---|---|---|---|---|---|---|---|\n",
       "| Wainwright, Adam  | 2022 | 21.0 |  6.0 | 0.388 | 0.302 | 0.305 | 0.353 | 88.2 | 10.0 | ⋯ | 36.7 | 50.5 | 45.4 | 19.7 | 43.8 | 64.4 | 48.7 | 21.5 | 25.4 |  4.4 |\n",
       "| Greinke, Zack     | 2022 | 17.2 |  5.2 | 0.430 | 0.320 | 0.307 | 0.365 | 88.3 | 10.6 | ⋯ | 40.1 | 54.1 | 42.9 | 21.8 | 46.0 | 66.0 | 45.6 | 23.9 | 25.0 |  5.4 |\n",
       "| Santana, Ervin    | 2022 | 18.8 |  7.9 | 0.533 | 0.369 | 0.339 | 0.427 | 90.2 | 13.8 | ⋯ | 46.0 | 54.5 | 40.0 | 24.7 | 48.0 | 59.8 | 36.8 | 30.8 | 27.4 |  5.0 |\n",
       "| Petit, Yusmeiro   | 2022 | 11.8 |  3.8 | 0.455 | 0.320 | 0.295 | 0.348 | 86.5 | 19.7 | ⋯ | 26.8 | 51.3 | 43.3 | 21.0 | 51.8 | 62.5 | 37.6 | 26.2 | 23.2 | 12.9 |\n",
       "| Kintzler, Brandon | 2022 | 15.6 |  5.7 | 0.519 | 0.376 | 0.361 | 0.431 | 91.7 |  3.1 | ⋯ | 31.3 | 51.0 | 42.2 | 15.8 | 45.9 | 59.7 | 58.2 | 14.5 | 24.5 |  2.7 |\n",
       "| Jansen, Kenley    | 2022 | 30.9 | 12.9 | 0.270 | 0.260 | 0.295 | 0.310 | 84.0 | 19.8 | ⋯ | 45.3 | 47.6 | 41.5 | 33.1 | 50.1 | 62.8 | 37.9 | 30.1 | 19.0 | 13.1 |\n",
       "\n"
      ],
      "text/plain": [
       "  player            year p_k_percent p_bb_percent xslg  xwoba xobp  xwobacon\n",
       "1 Wainwright, Adam  2022 21.0         6.0         0.388 0.302 0.305 0.353   \n",
       "2 Greinke, Zack     2022 17.2         5.2         0.430 0.320 0.307 0.365   \n",
       "3 Santana, Ervin    2022 18.8         7.9         0.533 0.369 0.339 0.427   \n",
       "4 Petit, Yusmeiro   2022 11.8         3.8         0.455 0.320 0.295 0.348   \n",
       "5 Kintzler, Brandon 2022 15.6         5.7         0.519 0.376 0.361 0.431   \n",
       "6 Jansen, Kenley    2022 30.9        12.9         0.270 0.260 0.295 0.310   \n",
       "  exit_velocity_avg launch_angle_avg ⋯ oz_swing_miss_percent out_zone_percent\n",
       "1 88.2              10.0             ⋯ 36.7                  50.5            \n",
       "2 88.3              10.6             ⋯ 40.1                  54.1            \n",
       "3 90.2              13.8             ⋯ 46.0                  54.5            \n",
       "4 86.5              19.7             ⋯ 26.8                  51.3            \n",
       "5 91.7               3.1             ⋯ 31.3                  51.0            \n",
       "6 84.0              19.8             ⋯ 45.3                  47.6            \n",
       "  edge_percent whiff_percent swing_percent f_strike_percent groundballs_percent\n",
       "1 45.4         19.7          43.8          64.4             48.7               \n",
       "2 42.9         21.8          46.0          66.0             45.6               \n",
       "3 40.0         24.7          48.0          59.8             36.8               \n",
       "4 43.3         21.0          51.8          62.5             37.6               \n",
       "5 42.2         15.8          45.9          59.7             58.2               \n",
       "6 41.5         33.1          50.1          62.8             37.9               \n",
       "  flyballs_percent linedrives_percent popups_percent\n",
       "1 21.5             25.4                4.4          \n",
       "2 23.9             25.0                5.4          \n",
       "3 30.8             27.4                5.0          \n",
       "4 26.2             23.2               12.9          \n",
       "5 14.5             24.5                2.7          \n",
       "6 30.1             19.0               13.1          "
      ]
     },
     "metadata": {},
     "output_type": "display_data"
    }
   ],
   "source": [
    "names <- selected %>% unite(\"player\", last_name:first_name, sep = \", \", remove = T) %>% mutate(year = year + 1)\n",
    "head(names)"
   ]
  },
  {
   "cell_type": "code",
   "execution_count": 5,
   "id": "64cc325d-0603-4d61-a9af-e36df142b90b",
   "metadata": {},
   "outputs": [
    {
     "name": "stderr",
     "output_type": "stream",
     "text": [
      "\u001b[1mRows: \u001b[22m\u001b[34m1836\u001b[39m \u001b[1mColumns: \u001b[22m\u001b[34m13\u001b[39m\n",
      "\u001b[36m──\u001b[39m \u001b[1mColumn specification\u001b[22m \u001b[36m────────────────────────────────────────────────────────\u001b[39m\n",
      "\u001b[1mDelimiter:\u001b[22m \",\"\n",
      "\u001b[31mchr\u001b[39m  (1): player\n",
      "\u001b[32mdbl\u001b[39m (12): year, IP, H, K, BB, ER, S, W, L, HOLD, Fpoints, Fpointsper\n",
      "\n",
      "\u001b[36mℹ\u001b[39m Use `spec()` to retrieve the full column specification for this data.\n",
      "\u001b[36mℹ\u001b[39m Specify the column types or set `show_col_types = FALSE` to quiet this message.\n"
     ]
    },
    {
     "data": {
      "text/html": [
       "<table class=\"dataframe\">\n",
       "<caption>A tibble: 6 × 13</caption>\n",
       "<thead>\n",
       "\t<tr><th scope=col>player</th><th scope=col>year</th><th scope=col>IP</th><th scope=col>H</th><th scope=col>K</th><th scope=col>BB</th><th scope=col>ER</th><th scope=col>S</th><th scope=col>W</th><th scope=col>L</th><th scope=col>HOLD</th><th scope=col>Fpoints</th><th scope=col>Fpointsper</th></tr>\n",
       "\t<tr><th scope=col>&lt;chr&gt;</th><th scope=col>&lt;dbl&gt;</th><th scope=col>&lt;dbl&gt;</th><th scope=col>&lt;dbl&gt;</th><th scope=col>&lt;dbl&gt;</th><th scope=col>&lt;dbl&gt;</th><th scope=col>&lt;dbl&gt;</th><th scope=col>&lt;dbl&gt;</th><th scope=col>&lt;dbl&gt;</th><th scope=col>&lt;dbl&gt;</th><th scope=col>&lt;dbl&gt;</th><th scope=col>&lt;dbl&gt;</th><th scope=col>&lt;dbl&gt;</th></tr>\n",
       "</thead>\n",
       "<tbody>\n",
       "\t<tr><td>Wainwright, Adam </td><td>2022</td><td>191.2</td><td>192</td><td>143</td><td>54</td><td>79</td><td> 0</td><td>11</td><td>12</td><td> 0</td><td>312.6</td><td>1.634937</td></tr>\n",
       "\t<tr><td>Greinke, Zack    </td><td>2022</td><td>137.0</td><td>157</td><td> 73</td><td>27</td><td>56</td><td> 0</td><td> 4</td><td> 9</td><td> 0</td><td>188.0</td><td>1.372263</td></tr>\n",
       "\t<tr><td>Verlander, Justin</td><td>2022</td><td>175.0</td><td>116</td><td>185</td><td>29</td><td>34</td><td> 0</td><td>18</td><td> 4</td><td> 0</td><td>497.0</td><td>2.840000</td></tr>\n",
       "\t<tr><td>Sanchez, Anibal  </td><td>2022</td><td> 69.1</td><td> 55</td><td> 48</td><td>33</td><td>33</td><td> 0</td><td> 4</td><td> 6</td><td> 0</td><td>101.3</td><td>1.465991</td></tr>\n",
       "\t<tr><td>Jansen, Kenley   </td><td>2022</td><td> 64.0</td><td> 45</td><td> 85</td><td>22</td><td>24</td><td>41</td><td> 5</td><td> 2</td><td> 0</td><td>162.0</td><td>2.531250</td></tr>\n",
       "\t<tr><td>Chavez, Jesse    </td><td>2022</td><td> 69.1</td><td> 71</td><td> 74</td><td>20</td><td>29</td><td> 0</td><td> 4</td><td> 3</td><td>10</td><td>132.3</td><td>1.914616</td></tr>\n",
       "</tbody>\n",
       "</table>\n"
      ],
      "text/latex": [
       "A tibble: 6 × 13\n",
       "\\begin{tabular}{lllllllllllll}\n",
       " player & year & IP & H & K & BB & ER & S & W & L & HOLD & Fpoints & Fpointsper\\\\\n",
       " <chr> & <dbl> & <dbl> & <dbl> & <dbl> & <dbl> & <dbl> & <dbl> & <dbl> & <dbl> & <dbl> & <dbl> & <dbl>\\\\\n",
       "\\hline\n",
       "\t Wainwright, Adam  & 2022 & 191.2 & 192 & 143 & 54 & 79 &  0 & 11 & 12 &  0 & 312.6 & 1.634937\\\\\n",
       "\t Greinke, Zack     & 2022 & 137.0 & 157 &  73 & 27 & 56 &  0 &  4 &  9 &  0 & 188.0 & 1.372263\\\\\n",
       "\t Verlander, Justin & 2022 & 175.0 & 116 & 185 & 29 & 34 &  0 & 18 &  4 &  0 & 497.0 & 2.840000\\\\\n",
       "\t Sanchez, Anibal   & 2022 &  69.1 &  55 &  48 & 33 & 33 &  0 &  4 &  6 &  0 & 101.3 & 1.465991\\\\\n",
       "\t Jansen, Kenley    & 2022 &  64.0 &  45 &  85 & 22 & 24 & 41 &  5 &  2 &  0 & 162.0 & 2.531250\\\\\n",
       "\t Chavez, Jesse     & 2022 &  69.1 &  71 &  74 & 20 & 29 &  0 &  4 &  3 & 10 & 132.3 & 1.914616\\\\\n",
       "\\end{tabular}\n"
      ],
      "text/markdown": [
       "\n",
       "A tibble: 6 × 13\n",
       "\n",
       "| player &lt;chr&gt; | year &lt;dbl&gt; | IP &lt;dbl&gt; | H &lt;dbl&gt; | K &lt;dbl&gt; | BB &lt;dbl&gt; | ER &lt;dbl&gt; | S &lt;dbl&gt; | W &lt;dbl&gt; | L &lt;dbl&gt; | HOLD &lt;dbl&gt; | Fpoints &lt;dbl&gt; | Fpointsper &lt;dbl&gt; |\n",
       "|---|---|---|---|---|---|---|---|---|---|---|---|---|\n",
       "| Wainwright, Adam  | 2022 | 191.2 | 192 | 143 | 54 | 79 |  0 | 11 | 12 |  0 | 312.6 | 1.634937 |\n",
       "| Greinke, Zack     | 2022 | 137.0 | 157 |  73 | 27 | 56 |  0 |  4 |  9 |  0 | 188.0 | 1.372263 |\n",
       "| Verlander, Justin | 2022 | 175.0 | 116 | 185 | 29 | 34 |  0 | 18 |  4 |  0 | 497.0 | 2.840000 |\n",
       "| Sanchez, Anibal   | 2022 |  69.1 |  55 |  48 | 33 | 33 |  0 |  4 |  6 |  0 | 101.3 | 1.465991 |\n",
       "| Jansen, Kenley    | 2022 |  64.0 |  45 |  85 | 22 | 24 | 41 |  5 |  2 |  0 | 162.0 | 2.531250 |\n",
       "| Chavez, Jesse     | 2022 |  69.1 |  71 |  74 | 20 | 29 |  0 |  4 |  3 | 10 | 132.3 | 1.914616 |\n",
       "\n"
      ],
      "text/plain": [
       "  player            year IP    H   K   BB ER S  W  L  HOLD Fpoints Fpointsper\n",
       "1 Wainwright, Adam  2022 191.2 192 143 54 79  0 11 12  0   312.6   1.634937  \n",
       "2 Greinke, Zack     2022 137.0 157  73 27 56  0  4  9  0   188.0   1.372263  \n",
       "3 Verlander, Justin 2022 175.0 116 185 29 34  0 18  4  0   497.0   2.840000  \n",
       "4 Sanchez, Anibal   2022  69.1  55  48 33 33  0  4  6  0   101.3   1.465991  \n",
       "5 Jansen, Kenley    2022  64.0  45  85 22 24 41  5  2  0   162.0   2.531250  \n",
       "6 Chavez, Jesse     2022  69.1  71  74 20 29  0  4  3 10   132.3   1.914616  "
      ]
     },
     "metadata": {},
     "output_type": "display_data"
    }
   ],
   "source": [
    "fpoints <- read_csv(\"data/PitchFpointsper.csv\")\n",
    "head(fpoints)"
   ]
  },
  {
   "cell_type": "code",
   "execution_count": 6,
   "id": "9544976e-359b-40ff-ac5a-d1853e574a2b",
   "metadata": {},
   "outputs": [
    {
     "data": {
      "text/html": [
       "<table class=\"dataframe\">\n",
       "<caption>A tibble: 6 × 4</caption>\n",
       "<thead>\n",
       "\t<tr><th scope=col>player</th><th scope=col>year</th><th scope=col>Fpointsper</th><th scope=col>S</th></tr>\n",
       "\t<tr><th scope=col>&lt;chr&gt;</th><th scope=col>&lt;dbl&gt;</th><th scope=col>&lt;dbl&gt;</th><th scope=col>&lt;dbl&gt;</th></tr>\n",
       "</thead>\n",
       "<tbody>\n",
       "\t<tr><td>Wainwright, Adam </td><td>2022</td><td>1.634937</td><td> 0</td></tr>\n",
       "\t<tr><td>Greinke, Zack    </td><td>2022</td><td>1.372263</td><td> 0</td></tr>\n",
       "\t<tr><td>Verlander, Justin</td><td>2022</td><td>2.840000</td><td> 0</td></tr>\n",
       "\t<tr><td>Sanchez, Anibal  </td><td>2022</td><td>1.465991</td><td> 0</td></tr>\n",
       "\t<tr><td>Jansen, Kenley   </td><td>2022</td><td>2.531250</td><td>41</td></tr>\n",
       "\t<tr><td>Chavez, Jesse    </td><td>2022</td><td>1.914616</td><td> 0</td></tr>\n",
       "</tbody>\n",
       "</table>\n"
      ],
      "text/latex": [
       "A tibble: 6 × 4\n",
       "\\begin{tabular}{llll}\n",
       " player & year & Fpointsper & S\\\\\n",
       " <chr> & <dbl> & <dbl> & <dbl>\\\\\n",
       "\\hline\n",
       "\t Wainwright, Adam  & 2022 & 1.634937 &  0\\\\\n",
       "\t Greinke, Zack     & 2022 & 1.372263 &  0\\\\\n",
       "\t Verlander, Justin & 2022 & 2.840000 &  0\\\\\n",
       "\t Sanchez, Anibal   & 2022 & 1.465991 &  0\\\\\n",
       "\t Jansen, Kenley    & 2022 & 2.531250 & 41\\\\\n",
       "\t Chavez, Jesse     & 2022 & 1.914616 &  0\\\\\n",
       "\\end{tabular}\n"
      ],
      "text/markdown": [
       "\n",
       "A tibble: 6 × 4\n",
       "\n",
       "| player &lt;chr&gt; | year &lt;dbl&gt; | Fpointsper &lt;dbl&gt; | S &lt;dbl&gt; |\n",
       "|---|---|---|---|\n",
       "| Wainwright, Adam  | 2022 | 1.634937 |  0 |\n",
       "| Greinke, Zack     | 2022 | 1.372263 |  0 |\n",
       "| Verlander, Justin | 2022 | 2.840000 |  0 |\n",
       "| Sanchez, Anibal   | 2022 | 1.465991 |  0 |\n",
       "| Jansen, Kenley    | 2022 | 2.531250 | 41 |\n",
       "| Chavez, Jesse     | 2022 | 1.914616 |  0 |\n",
       "\n"
      ],
      "text/plain": [
       "  player            year Fpointsper S \n",
       "1 Wainwright, Adam  2022 1.634937    0\n",
       "2 Greinke, Zack     2022 1.372263    0\n",
       "3 Verlander, Justin 2022 2.840000    0\n",
       "4 Sanchez, Anibal   2022 1.465991    0\n",
       "5 Jansen, Kenley    2022 2.531250   41\n",
       "6 Chavez, Jesse     2022 1.914616    0"
      ]
     },
     "metadata": {},
     "output_type": "display_data"
    }
   ],
   "source": [
    "fpoints_main <- fpoints %>% select(\"player\", \"year\", \"Fpointsper\", \"S\")\n",
    "head(fpoints_main)"
   ]
  },
  {
   "cell_type": "code",
   "execution_count": 7,
   "id": "3934432c-5b61-4252-9932-74d01fe6a9f8",
   "metadata": {},
   "outputs": [
    {
     "data": {
      "text/html": [
       "<table class=\"dataframe\">\n",
       "<caption>A tibble: 6 × 27</caption>\n",
       "<thead>\n",
       "\t<tr><th scope=col>player</th><th scope=col>year</th><th scope=col>p_k_percent</th><th scope=col>p_bb_percent</th><th scope=col>xslg</th><th scope=col>xwoba</th><th scope=col>xobp</th><th scope=col>xwobacon</th><th scope=col>exit_velocity_avg</th><th scope=col>launch_angle_avg</th><th scope=col>⋯</th><th scope=col>edge_percent</th><th scope=col>whiff_percent</th><th scope=col>swing_percent</th><th scope=col>f_strike_percent</th><th scope=col>groundballs_percent</th><th scope=col>flyballs_percent</th><th scope=col>linedrives_percent</th><th scope=col>popups_percent</th><th scope=col>Fpointsper</th><th scope=col>S</th></tr>\n",
       "\t<tr><th scope=col>&lt;chr&gt;</th><th scope=col>&lt;dbl&gt;</th><th scope=col>&lt;dbl&gt;</th><th scope=col>&lt;dbl&gt;</th><th scope=col>&lt;dbl&gt;</th><th scope=col>&lt;dbl&gt;</th><th scope=col>&lt;dbl&gt;</th><th scope=col>&lt;dbl&gt;</th><th scope=col>&lt;dbl&gt;</th><th scope=col>&lt;dbl&gt;</th><th scope=col>⋯</th><th scope=col>&lt;dbl&gt;</th><th scope=col>&lt;dbl&gt;</th><th scope=col>&lt;dbl&gt;</th><th scope=col>&lt;dbl&gt;</th><th scope=col>&lt;dbl&gt;</th><th scope=col>&lt;dbl&gt;</th><th scope=col>&lt;dbl&gt;</th><th scope=col>&lt;dbl&gt;</th><th scope=col>&lt;dbl&gt;</th><th scope=col>&lt;dbl&gt;</th></tr>\n",
       "</thead>\n",
       "<tbody>\n",
       "\t<tr><td>Wainwright, Adam</td><td>2022</td><td>21.0</td><td> 6.0</td><td>0.388</td><td>0.302</td><td>0.305</td><td>0.353</td><td>88.2</td><td>10.0</td><td>⋯</td><td>45.4</td><td>19.7</td><td>43.8</td><td>64.4</td><td>48.7</td><td>21.5</td><td>25.4</td><td> 4.4</td><td>1.634937</td><td> 0</td></tr>\n",
       "\t<tr><td>Greinke, Zack   </td><td>2022</td><td>17.2</td><td> 5.2</td><td>0.430</td><td>0.320</td><td>0.307</td><td>0.365</td><td>88.3</td><td>10.6</td><td>⋯</td><td>42.9</td><td>21.8</td><td>46.0</td><td>66.0</td><td>45.6</td><td>23.9</td><td>25.0</td><td> 5.4</td><td>1.372263</td><td> 0</td></tr>\n",
       "\t<tr><td>Jansen, Kenley  </td><td>2022</td><td>30.9</td><td>12.9</td><td>0.270</td><td>0.260</td><td>0.295</td><td>0.310</td><td>84.0</td><td>19.8</td><td>⋯</td><td>41.5</td><td>33.1</td><td>50.1</td><td>62.8</td><td>37.9</td><td>30.1</td><td>19.0</td><td>13.1</td><td>2.531250</td><td>41</td></tr>\n",
       "\t<tr><td>Chavez, Jesse   </td><td>2022</td><td>27.1</td><td> 8.3</td><td>0.345</td><td>0.271</td><td>0.277</td><td>0.335</td><td>90.9</td><td>10.4</td><td>⋯</td><td>41.7</td><td>17.7</td><td>43.9</td><td>65.2</td><td>43.0</td><td>29.1</td><td>26.7</td><td> 1.2</td><td>1.914616</td><td> 0</td></tr>\n",
       "\t<tr><td>Detwiler, Ross  </td><td>2022</td><td>27.1</td><td> 8.7</td><td>0.392</td><td>0.316</td><td>0.317</td><td>0.383</td><td>88.3</td><td>15.3</td><td>⋯</td><td>44.9</td><td>24.0</td><td>45.0</td><td>53.7</td><td>39.6</td><td>31.7</td><td>18.7</td><td>10.1</td><td>1.505747</td><td> 1</td></tr>\n",
       "\t<tr><td>Kluber, Corey   </td><td>2022</td><td>24.0</td><td> 9.7</td><td>0.372</td><td>0.309</td><td>0.323</td><td>0.357</td><td>86.9</td><td>13.9</td><td>⋯</td><td>40.8</td><td>28.1</td><td>47.1</td><td>64.5</td><td>43.9</td><td>24.9</td><td>23.5</td><td> 7.7</td><td>1.670732</td><td> 0</td></tr>\n",
       "</tbody>\n",
       "</table>\n"
      ],
      "text/latex": [
       "A tibble: 6 × 27\n",
       "\\begin{tabular}{lllllllllllllllllllll}\n",
       " player & year & p\\_k\\_percent & p\\_bb\\_percent & xslg & xwoba & xobp & xwobacon & exit\\_velocity\\_avg & launch\\_angle\\_avg & ⋯ & edge\\_percent & whiff\\_percent & swing\\_percent & f\\_strike\\_percent & groundballs\\_percent & flyballs\\_percent & linedrives\\_percent & popups\\_percent & Fpointsper & S\\\\\n",
       " <chr> & <dbl> & <dbl> & <dbl> & <dbl> & <dbl> & <dbl> & <dbl> & <dbl> & <dbl> & ⋯ & <dbl> & <dbl> & <dbl> & <dbl> & <dbl> & <dbl> & <dbl> & <dbl> & <dbl> & <dbl>\\\\\n",
       "\\hline\n",
       "\t Wainwright, Adam & 2022 & 21.0 &  6.0 & 0.388 & 0.302 & 0.305 & 0.353 & 88.2 & 10.0 & ⋯ & 45.4 & 19.7 & 43.8 & 64.4 & 48.7 & 21.5 & 25.4 &  4.4 & 1.634937 &  0\\\\\n",
       "\t Greinke, Zack    & 2022 & 17.2 &  5.2 & 0.430 & 0.320 & 0.307 & 0.365 & 88.3 & 10.6 & ⋯ & 42.9 & 21.8 & 46.0 & 66.0 & 45.6 & 23.9 & 25.0 &  5.4 & 1.372263 &  0\\\\\n",
       "\t Jansen, Kenley   & 2022 & 30.9 & 12.9 & 0.270 & 0.260 & 0.295 & 0.310 & 84.0 & 19.8 & ⋯ & 41.5 & 33.1 & 50.1 & 62.8 & 37.9 & 30.1 & 19.0 & 13.1 & 2.531250 & 41\\\\\n",
       "\t Chavez, Jesse    & 2022 & 27.1 &  8.3 & 0.345 & 0.271 & 0.277 & 0.335 & 90.9 & 10.4 & ⋯ & 41.7 & 17.7 & 43.9 & 65.2 & 43.0 & 29.1 & 26.7 &  1.2 & 1.914616 &  0\\\\\n",
       "\t Detwiler, Ross   & 2022 & 27.1 &  8.7 & 0.392 & 0.316 & 0.317 & 0.383 & 88.3 & 15.3 & ⋯ & 44.9 & 24.0 & 45.0 & 53.7 & 39.6 & 31.7 & 18.7 & 10.1 & 1.505747 &  1\\\\\n",
       "\t Kluber, Corey    & 2022 & 24.0 &  9.7 & 0.372 & 0.309 & 0.323 & 0.357 & 86.9 & 13.9 & ⋯ & 40.8 & 28.1 & 47.1 & 64.5 & 43.9 & 24.9 & 23.5 &  7.7 & 1.670732 &  0\\\\\n",
       "\\end{tabular}\n"
      ],
      "text/markdown": [
       "\n",
       "A tibble: 6 × 27\n",
       "\n",
       "| player &lt;chr&gt; | year &lt;dbl&gt; | p_k_percent &lt;dbl&gt; | p_bb_percent &lt;dbl&gt; | xslg &lt;dbl&gt; | xwoba &lt;dbl&gt; | xobp &lt;dbl&gt; | xwobacon &lt;dbl&gt; | exit_velocity_avg &lt;dbl&gt; | launch_angle_avg &lt;dbl&gt; | ⋯ ⋯ | edge_percent &lt;dbl&gt; | whiff_percent &lt;dbl&gt; | swing_percent &lt;dbl&gt; | f_strike_percent &lt;dbl&gt; | groundballs_percent &lt;dbl&gt; | flyballs_percent &lt;dbl&gt; | linedrives_percent &lt;dbl&gt; | popups_percent &lt;dbl&gt; | Fpointsper &lt;dbl&gt; | S &lt;dbl&gt; |\n",
       "|---|---|---|---|---|---|---|---|---|---|---|---|---|---|---|---|---|---|---|---|---|\n",
       "| Wainwright, Adam | 2022 | 21.0 |  6.0 | 0.388 | 0.302 | 0.305 | 0.353 | 88.2 | 10.0 | ⋯ | 45.4 | 19.7 | 43.8 | 64.4 | 48.7 | 21.5 | 25.4 |  4.4 | 1.634937 |  0 |\n",
       "| Greinke, Zack    | 2022 | 17.2 |  5.2 | 0.430 | 0.320 | 0.307 | 0.365 | 88.3 | 10.6 | ⋯ | 42.9 | 21.8 | 46.0 | 66.0 | 45.6 | 23.9 | 25.0 |  5.4 | 1.372263 |  0 |\n",
       "| Jansen, Kenley   | 2022 | 30.9 | 12.9 | 0.270 | 0.260 | 0.295 | 0.310 | 84.0 | 19.8 | ⋯ | 41.5 | 33.1 | 50.1 | 62.8 | 37.9 | 30.1 | 19.0 | 13.1 | 2.531250 | 41 |\n",
       "| Chavez, Jesse    | 2022 | 27.1 |  8.3 | 0.345 | 0.271 | 0.277 | 0.335 | 90.9 | 10.4 | ⋯ | 41.7 | 17.7 | 43.9 | 65.2 | 43.0 | 29.1 | 26.7 |  1.2 | 1.914616 |  0 |\n",
       "| Detwiler, Ross   | 2022 | 27.1 |  8.7 | 0.392 | 0.316 | 0.317 | 0.383 | 88.3 | 15.3 | ⋯ | 44.9 | 24.0 | 45.0 | 53.7 | 39.6 | 31.7 | 18.7 | 10.1 | 1.505747 |  1 |\n",
       "| Kluber, Corey    | 2022 | 24.0 |  9.7 | 0.372 | 0.309 | 0.323 | 0.357 | 86.9 | 13.9 | ⋯ | 40.8 | 28.1 | 47.1 | 64.5 | 43.9 | 24.9 | 23.5 |  7.7 | 1.670732 |  0 |\n",
       "\n"
      ],
      "text/plain": [
       "  player           year p_k_percent p_bb_percent xslg  xwoba xobp  xwobacon\n",
       "1 Wainwright, Adam 2022 21.0         6.0         0.388 0.302 0.305 0.353   \n",
       "2 Greinke, Zack    2022 17.2         5.2         0.430 0.320 0.307 0.365   \n",
       "3 Jansen, Kenley   2022 30.9        12.9         0.270 0.260 0.295 0.310   \n",
       "4 Chavez, Jesse    2022 27.1         8.3         0.345 0.271 0.277 0.335   \n",
       "5 Detwiler, Ross   2022 27.1         8.7         0.392 0.316 0.317 0.383   \n",
       "6 Kluber, Corey    2022 24.0         9.7         0.372 0.309 0.323 0.357   \n",
       "  exit_velocity_avg launch_angle_avg ⋯ edge_percent whiff_percent swing_percent\n",
       "1 88.2              10.0             ⋯ 45.4         19.7          43.8         \n",
       "2 88.3              10.6             ⋯ 42.9         21.8          46.0         \n",
       "3 84.0              19.8             ⋯ 41.5         33.1          50.1         \n",
       "4 90.9              10.4             ⋯ 41.7         17.7          43.9         \n",
       "5 88.3              15.3             ⋯ 44.9         24.0          45.0         \n",
       "6 86.9              13.9             ⋯ 40.8         28.1          47.1         \n",
       "  f_strike_percent groundballs_percent flyballs_percent linedrives_percent\n",
       "1 64.4             48.7                21.5             25.4              \n",
       "2 66.0             45.6                23.9             25.0              \n",
       "3 62.8             37.9                30.1             19.0              \n",
       "4 65.2             43.0                29.1             26.7              \n",
       "5 53.7             39.6                31.7             18.7              \n",
       "6 64.5             43.9                24.9             23.5              \n",
       "  popups_percent Fpointsper S \n",
       "1  4.4           1.634937    0\n",
       "2  5.4           1.372263    0\n",
       "3 13.1           2.531250   41\n",
       "4  1.2           1.914616    0\n",
       "5 10.1           1.505747    1\n",
       "6  7.7           1.670732    0"
      ]
     },
     "metadata": {},
     "output_type": "display_data"
    }
   ],
   "source": [
    "full_data <- right_join(names, fpoints_main, by = c(\"player\", \"year\"))\n",
    "head(full_data)"
   ]
  },
  {
   "cell_type": "code",
   "execution_count": 8,
   "id": "2dd2f84b-ee46-4c98-8df9-484ff6bf2b31",
   "metadata": {},
   "outputs": [],
   "source": [
    "write_csv(full_data, \"data/Pitchfull.csv\")"
   ]
  },
  {
   "cell_type": "code",
   "execution_count": null,
   "id": "a7cc4d4c-2484-4150-9477-743242fd2790",
   "metadata": {},
   "outputs": [],
   "source": []
  }
 ],
 "metadata": {
  "kernelspec": {
   "display_name": "R",
   "language": "R",
   "name": "ir"
  },
  "language_info": {
   "codemirror_mode": "r",
   "file_extension": ".r",
   "mimetype": "text/x-r-source",
   "name": "R",
   "pygments_lexer": "r",
   "version": "4.1.1"
  }
 },
 "nbformat": 4,
 "nbformat_minor": 5
}
